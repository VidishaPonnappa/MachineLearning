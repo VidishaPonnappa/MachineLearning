{
  "nbformat": 4,
  "nbformat_minor": 0,
  "metadata": {
    "colab": {
      "provenance": [],
      "include_colab_link": true
    },
    "kernelspec": {
      "name": "python3",
      "display_name": "Python 3"
    }
  },
  "cells": [
    {
      "cell_type": "markdown",
      "metadata": {
        "id": "view-in-github",
        "colab_type": "text"
      },
      "source": [
        "<a href=\"https://colab.research.google.com/github/VidishaPonnappa/MachineLearning/blob/main/Project_35.ipynb\" target=\"_parent\"><img src=\"https://colab.research.google.com/assets/colab-badge.svg\" alt=\"Open In Colab\"/></a>"
      ]
    },
    {
      "cell_type": "markdown",
      "metadata": {
        "id": "bEyBzxYRhrLG"
      },
      "source": [
        "#### Goals :\n",
        "\n",
        "1. Transpose of an Array\n",
        "\n",
        "2. Happy Numbers\n",
        "\n",
        "\n",
        "\n"
      ]
    },
    {
      "cell_type": "markdown",
      "metadata": {
        "id": "CYhBESEeeRzk"
      },
      "source": [
        "---"
      ]
    },
    {
      "cell_type": "markdown",
      "metadata": {
        "id": "q4fH06mIjuK3"
      },
      "source": [
        "#### 1. Array Flipping\n",
        "\n",
        "Create a function that flips a horizontal list into a vertical list, and a vertical list into a horizontal list.\n",
        "\n",
        "In other words, take a $1$ X $n$ list and flip it into a $n$ X $1$ list and vice versa.\n",
        "\n",
        "**Constraint**:\n",
        "\n",
        "- If given an empty list `[]`, return an empty list `[]`.\n"
      ]
    },
    {
      "cell_type": "code",
      "metadata": {
        "id": "4EAoTskqg041",
        "colab": {
          "base_uri": "https://localhost:8080/"
        },
        "outputId": "c10989a2-71d7-4759-ca9d-a4487f05919c"
      },
      "source": [
        "# Write a function to flip the list\n",
        "def vflip(l):\n",
        "  b=[]\n",
        "  for i in l:\n",
        "    a=[]\n",
        "    a.append(i)\n",
        "    b.append(a)\n",
        "  return(b)\n",
        "def hflip(l):\n",
        "  b=[]\n",
        "  for i in l:\n",
        "    for j in i:\n",
        "      b.append(j)\n",
        "  return b\n",
        "print(vflip([1,2,3,4,5]),hflip([[1],[2],[3],[4],[5]]))"
      ],
      "execution_count": null,
      "outputs": [
        {
          "output_type": "stream",
          "text": [
            "[[1], [2], [3], [4], [5]] [1, 2, 3, 4, 5]\n"
          ],
          "name": "stdout"
        }
      ]
    },
    {
      "cell_type": "markdown",
      "metadata": {
        "id": "xJlPs9X9oeRw"
      },
      "source": [
        "---"
      ]
    },
    {
      "cell_type": "markdown",
      "metadata": {
        "id": "qA-b1CdeofKc"
      },
      "source": [
        "#### Activity 2: Happy Numbers\n",
        "\n",
        "We are given a list of `0`s and `1`s, like the one below:\n",
        "```\n",
        "[0, 1, 0, 0, 0, 1, 1, 1, 0, 1]\n",
        "\n",
        "# The first element, a '0', and the last element, a '1' both are unhappy.\n",
        "# The second element, a '1' is unhappy.\n",
        "# The second-to-last element, a '0' is unhappy.\n",
        "# All other numbers in this list are happy.\n",
        "```\n",
        "\n",
        "A `1` is unhappy if the digit to its left and the digit to its right are both `0`s. A `0` is unhappy if the digit to its left and the digit to its right are both `1`s. If a number has only one neighbour, it is unhappy if its only neighbour is different. Otherwise, a number is happy.\n",
        "\n",
        "Write a function that takes in a list of `0`s and `1`s and outputs the percentage of numbers which are happy. The total percentage of numbers which are happy can be represented as:\n",
        "\n",
        "\n",
        "\n",
        "$$\\text{Percentage of happy numbers = }\\frac{\\text{number of happy 0s + number of happy 1s}} {\\text{total numbers}}\\times \\left (100\\right)$$\n",
        "\n",
        "In the example above, percentage of happy numbers is $60 \\%$ ."
      ]
    },
    {
      "cell_type": "code",
      "metadata": {
        "id": "AtvPTG3kpBoS",
        "colab": {
          "base_uri": "https://localhost:8080/"
        },
        "outputId": "5907d506-a211-45ab-fc30-92ef3afba762"
      },
      "source": [
        "# Write your solution here\n",
        "def happy(l):\n",
        "  h=[]\n",
        "  if l[0]!=l[1]:\n",
        "    h.append('unhappy')\n",
        "  else:\n",
        "    h.append('happy')\n",
        "  for i in range(1,len(l)-1):\n",
        "    if (l[i]!=l[i-1]) and (l[i]!=l[i+1]):\n",
        "      h.append('unhappy')\n",
        "    else:\n",
        "      h.append('happy')\n",
        "  if l[-1]!=l[-2]:\n",
        "    h.append('unhappy')\n",
        "  else:\n",
        "    h.append('happy')\n",
        "  per=h.count('happy')*100/len(h)\n",
        "  print(h)\n",
        "  return per\n",
        "\n",
        "happy([0, 1, 0, 0, 0, 1, 1, 1, 0, 1])"
      ],
      "execution_count": null,
      "outputs": [
        {
          "output_type": "stream",
          "text": [
            "['unhappy', 'unhappy', 'happy', 'happy', 'happy', 'happy', 'happy', 'happy', 'unhappy', 'unhappy']\n"
          ],
          "name": "stdout"
        },
        {
          "output_type": "execute_result",
          "data": {
            "text/plain": [
              "60.0"
            ]
          },
          "metadata": {
            "tags": []
          },
          "execution_count": 18
        }
      ]
    },
    {
      "cell_type": "markdown",
      "metadata": {
        "id": "KOVBiUSMzut1"
      },
      "source": [
        "---"
      ]
    }
  ]
}