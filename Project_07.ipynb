{
  "nbformat": 4,
  "nbformat_minor": 0,
  "metadata": {
    "colab": {
      "provenance": [],
      "include_colab_link": true
    },
    "kernelspec": {
      "name": "python3",
      "display_name": "Python 3"
    }
  },
  "cells": [
    {
      "cell_type": "markdown",
      "metadata": {
        "id": "view-in-github",
        "colab_type": "text"
      },
      "source": [
        "<a href=\"https://colab.research.google.com/github/VidishaPonnappa/MachineLearning/blob/main/Project_7.ipynb\" target=\"_parent\"><img src=\"https://colab.research.google.com/assets/colab-badge.svg\" alt=\"Open In Colab\"/></a>"
      ]
    },
    {
      "cell_type": "markdown",
      "metadata": {
        "id": "bEyBzxYRhrLG"
      },
      "source": [
        "#### Goals :\n",
        "\n",
        " 1. Swapping 2 numbers\n",
        " 2. Product of elements of a list"
      ]
    },
    {
      "cell_type": "markdown",
      "metadata": {
        "id": "DPOFIO3EHncO"
      },
      "source": [
        "---"
      ]
    },
    {
      "cell_type": "markdown",
      "metadata": {
        "id": "q4fH06mIjuK3"
      },
      "source": [
        "#### Activity 1: Swapping 2 numbers\n",
        ""
      ]
    },
    {
      "cell_type": "code",
      "metadata": {
        "id": "4EAoTskqg041",
        "colab": {
          "base_uri": "https://localhost:8080/"
        },
        "outputId": "53af4a19-8904-42dd-af28-7c75ef410583"
      },
      "source": [
        "# Write your code here\n",
        "# Step 1: Accept two numbers from the user and store them 'num1' and 'num2' variables\n",
        "num1=int(input('Enter num 1: '))\n",
        "num2=int(input('Enter num 2: '))\n",
        "# Swapping values of variables begins\n",
        "# Step 2: Declare a temporary variable 'temp' and assign the value of 'num1' to it\n",
        "num1,num2=num2,num1\n",
        "# Step 3: Assign value of 'num2' to 'num1'\n",
        "\n",
        "# Step 4: Assign value of 'temp' to 'num2'\n",
        "print('The numbers after swappin are: ', num1,'and',num2)\n",
        "# Step 5: Print the values of 'num1' and 'num2' after swapping\n"
      ],
      "execution_count": null,
      "outputs": [
        {
          "output_type": "stream",
          "text": [
            "Enter num 1: 10\n",
            "Enter num 2: 20\n",
            "The numbers after swappin are:  20 and 10\n"
          ],
          "name": "stdout"
        }
      ]
    },
    {
      "cell_type": "markdown",
      "metadata": {
        "id": "xJlPs9X9oeRw"
      },
      "source": [
        "---"
      ]
    },
    {
      "cell_type": "markdown",
      "metadata": {
        "id": "b4aeCDi0pkJz"
      },
      "source": [
        "#### Activity 2: Multiplying numbers of the list"
      ]
    },
    {
      "cell_type": "code",
      "metadata": {
        "id": "d5ufKLNYzsIl"
      },
      "source": [
        "# Write your code here\n",
        "# Step 1: Define a list with some random numbers\n",
        "l=[1,2,3,4,5,6,7,8,9]\n",
        "# Step 2: Get the length of the list using 'len()' function\n",
        "a=len(l)\n",
        "# Step 3: Initialize two variables 'i' and 'result'\n",
        "i,result=0,1\n",
        "# Step 4: Iterate while loop till the length of the list\n",
        "while i<a:\n",
        "\n",
        "  # Step 5: Multiply the 'result' variable with each element of the list. Use list indexing\n",
        "\n",
        "  # Increment 'i' variable\n",
        "\n",
        "# Step 6: Print the result\n"
      ],
      "execution_count": null,
      "outputs": []
    },
    {
      "cell_type": "code",
      "metadata": {
        "colab": {
          "base_uri": "https://localhost:8080/"
        },
        "id": "TJm1t9ShlvFU",
        "outputId": "071dce87-dcbd-4021-c20e-f0068c197304"
      },
      "source": [
        "a=[]\n",
        "b=input('Enter the elements of your list, if you are done type y: ')\n",
        "while b!= 'y':\n",
        "  b=int(b)\n",
        "  a.append(b)\n",
        "  b=input('Enter the elements of your list, if you are done type y: ')\n",
        "fact=1\n",
        "for i in a:\n",
        "  fact*=i\n",
        "print('The product of all the numbers in your list is ',fact,'.')"
      ],
      "execution_count": null,
      "outputs": [
        {
          "output_type": "stream",
          "text": [
            "Enter the elements of your list, if you are done type y: 0\n",
            "Enter the elements of your list, if you are done type y: 1\n",
            "Enter the elements of your list, if you are done type y: y\n",
            "The product of all the numbers in your list is  0\n"
          ],
          "name": "stdout"
        }
      ]
    },
    {
      "cell_type": "markdown",
      "metadata": {
        "id": "Owpfe6z4zQqa"
      },
      "source": [
        "---"
      ]
    }
  ]
}
