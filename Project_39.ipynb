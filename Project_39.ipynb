{
  "nbformat": 4,
  "nbformat_minor": 0,
  "metadata": {
    "colab": {
      "provenance": [],
      "include_colab_link": true
    },
    "kernelspec": {
      "name": "python3",
      "display_name": "Python 3"
    }
  },
  "cells": [
    {
      "cell_type": "markdown",
      "metadata": {
        "id": "view-in-github",
        "colab_type": "text"
      },
      "source": [
        "<a href=\"https://colab.research.google.com/github/VidishaPonnappa/MachineLearning/blob/main/Project_39.ipynb\" target=\"_parent\"><img src=\"https://colab.research.google.com/assets/colab-badge.svg\" alt=\"Open In Colab\"/></a>"
      ]
    },
    {
      "cell_type": "markdown",
      "metadata": {
        "id": "fIKnY8occu37"
      },
      "source": [
        "#### Goals :\n",
        "\n",
        "1. Capital Letter split\n",
        "2. Change date format\n",
        "\n",
        "\n"
      ]
    },
    {
      "cell_type": "markdown",
      "metadata": {
        "id": "BBqkpH4_Doqe"
      },
      "source": [
        "---"
      ]
    },
    {
      "cell_type": "markdown",
      "metadata": {
        "id": "BVT9G_baB1aq"
      },
      "source": [
        "#### 1. Capital Split\n",
        "\n",
        "Create a function (let's say `cap_space()`) which adds spaces before every capital letter in the word. Uncapitalize the whole string afterwards.\n",
        "\n",
        "**Constraint:**\n",
        "\n",
        "- The first letter will stay uncapitalized.\n",
        "\n"
      ]
    },
    {
      "cell_type": "code",
      "metadata": {
        "id": "0pIGxKG9B3mb",
        "colab": {
          "base_uri": "https://localhost:8080/",
          "height": 35
        },
        "outputId": "5c1cfce3-0f1d-4663-da63-d1222da6f026"
      },
      "source": [
        "# Write your solution here\n",
        "def capstuff(a):\n",
        "  l,word=[],''\n",
        "  for i in range(len(a)):\n",
        "    l.append(a[i])\n",
        "  for j in range(len(l)):\n",
        "    if l[j].isupper():\n",
        "      l[j]=l[j].lower()\n",
        "      l.insert(j,' ')\n",
        "  return ''.join(l)\n",
        "\n",
        "capstuff('iLovemyTeapot')"
      ],
      "execution_count": null,
      "outputs": [
        {
          "output_type": "execute_result",
          "data": {
            "application/vnd.google.colaboratory.intrinsic+json": {
              "type": "string"
            },
            "text/plain": [
              "'i lovemy teapot'"
            ]
          },
          "metadata": {
            "tags": []
          },
          "execution_count": 16
        }
      ]
    },
    {
      "cell_type": "markdown",
      "metadata": {
        "id": "IJIZASayCpEW"
      },
      "source": [
        "---"
      ]
    },
    {
      "cell_type": "markdown",
      "metadata": {
        "id": "5kBinzKxn3hd"
      },
      "source": [
        "#### 2. Date Format\n",
        "\n",
        "Create a function that converts a date formatted as `MM/DD/YYYY` to `YYYYDDMM`.\n",
        "\n",
        "**Notes**:\n",
        "\n",
        "Return value should be a string.\n"
      ]
    },
    {
      "cell_type": "code",
      "metadata": {
        "id": "4gjDvOhzn6TL",
        "colab": {
          "base_uri": "https://localhost:8080/",
          "height": 35
        },
        "outputId": "a3b6686c-fa6a-4a99-a146-cd6a81a73d34"
      },
      "source": [
        "# Write your solution here\n",
        "def datetostring(d):\n",
        "  a=d.split('/')\n",
        "  b=a[2]+a[1]+a[0]\n",
        "  return b\n",
        "datetostring(\"11/12/2019\")"
      ],
      "execution_count": null,
      "outputs": [
        {
          "output_type": "execute_result",
          "data": {
            "application/vnd.google.colaboratory.intrinsic+json": {
              "type": "string"
            },
            "text/plain": [
              "'20191211'"
            ]
          },
          "metadata": {
            "tags": []
          },
          "execution_count": 19
        }
      ]
    },
    {
      "cell_type": "markdown",
      "metadata": {
        "id": "MWkPEALQn-lN"
      },
      "source": [
        "---"
      ]
    }
  ]
}