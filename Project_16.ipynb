{
  "nbformat": 4,
  "nbformat_minor": 0,
  "metadata": {
    "colab": {
      "provenance": [],
      "include_colab_link": true
    },
    "kernelspec": {
      "name": "python3",
      "display_name": "Python 3"
    }
  },
  "cells": [
    {
      "cell_type": "markdown",
      "metadata": {
        "id": "view-in-github",
        "colab_type": "text"
      },
      "source": [
        "<a href=\"https://colab.research.google.com/github/VidishaPonnappa/MachineLearning/blob/main/Project_16.ipynb\" target=\"_parent\"><img src=\"https://colab.research.google.com/assets/colab-badge.svg\" alt=\"Open In Colab\"/></a>"
      ]
    },
    {
      "cell_type": "markdown",
      "metadata": {
        "id": "q4fH06mIjuK3"
      },
      "source": [
        "#### Activity 1: Check whether Square root equals to Cube root"
      ]
    },
    {
      "cell_type": "code",
      "metadata": {
        "id": "4EAoTskqg041",
        "colab": {
          "base_uri": "https://localhost:8080/"
        },
        "outputId": "a8dc31aa-0f01-4fc1-c296-48fbfaac0e30"
      },
      "source": [
        "# Check if the Square root of the First number is Equal to the Cube root of the Second number\n",
        "def check(list):\n",
        "  if (list[0]**(1/2))==(list[1]**(1/3)):\n",
        "    return True\n",
        "  else:\n",
        "    False\n",
        "check([4,8])"
      ],
      "execution_count": null,
      "outputs": [
        {
          "output_type": "execute_result",
          "data": {
            "text/plain": [
              "True"
            ]
          },
          "metadata": {
            "tags": []
          },
          "execution_count": 1
        }
      ]
    },
    {
      "cell_type": "markdown",
      "metadata": {
        "id": "xJlPs9X9oeRw"
      },
      "source": [
        "---"
      ]
    },
    {
      "cell_type": "markdown",
      "metadata": {
        "id": "qA-b1CdeofKc"
      },
      "source": [
        "#### Activity 2: Find Sum of the Series\n",
        "\n",
        "Write a function which takes a natural number $n$ (where $1\\leq n \\leq 9$) as an input and returns the sum of the series having $n$ number of numbers such that the series is $n, nn, nnn, \\dots nnn \\dots n $ times.\n",
        "\n",
        "\n",
        "Hence, the required sum is\n",
        "\n",
        "$$n + nn + nnn + \\dots + nnn \\dots n $$\n",
        "\n",
        "For e.g.,\n",
        "\n",
        "- For $n = 1$, the required sum is $1$\n",
        "\n",
        "- For $n = 2$, the required sum is $2 + 22 = 24$\n",
        "\n",
        "- For $n = 3$, the required sum is $3 + 33 + 333 = 369$\n",
        "\n",
        " $\\dots$\n",
        "\n",
        "- For $n = 9$, the required sum is $9 + 99 + 999 + \\dots + 999,999,999 = 1111111101$\n",
        "\n",
        "After creating the function, print the required outputs for all the numbers from 1 to 9.\n",
        "\n",
        "**Expected Output:**\n",
        "````\n",
        "1\n",
        "24\n",
        "369\n",
        "4936\n",
        "61725\n",
        "740736\n",
        "8641969\n",
        "98765424\n",
        "1111111101\n",
        "````"
      ]
    },
    {
      "cell_type": "code",
      "metadata": {
        "id": "AtvPTG3kpBoS",
        "colab": {
          "base_uri": "https://localhost:8080/"
        },
        "outputId": "02ebe3d3-cf88-4034-a2e0-ec82257e376c"
      },
      "source": [
        "def sumser(n):\n",
        "  for i in range(1,n+1):\n",
        "    templist=[]\n",
        "    num=''\n",
        "    for j in range(i):\n",
        "      num=str(num)\n",
        "      num=num+str(n)\n",
        "      num=int(num)\n",
        "      templist.append(num)\n",
        "    val=sum(templist)\n",
        "  print(val)\n",
        "\n",
        "sumser(7)"
      ],
      "execution_count": null,
      "outputs": [
        {
          "output_type": "stream",
          "text": [
            "8641969\n"
          ],
          "name": "stdout"
        }
      ]
    }
  ]
}