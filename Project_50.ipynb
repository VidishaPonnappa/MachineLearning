{
  "nbformat": 4,
  "nbformat_minor": 0,
  "metadata": {
    "colab": {
      "provenance": [],
      "include_colab_link": true
    },
    "kernelspec": {
      "name": "python3",
      "display_name": "Python 3"
    }
  },
  "cells": [
    {
      "cell_type": "markdown",
      "metadata": {
        "id": "view-in-github",
        "colab_type": "text"
      },
      "source": [
        "<a href=\"https://colab.research.google.com/github/VidishaPonnappa/MachineLearning/blob/main/Project_50.ipynb\" target=\"_parent\"><img src=\"https://colab.research.google.com/assets/colab-badge.svg\" alt=\"Open In Colab\"/></a>"
      ]
    },
    {
      "cell_type": "markdown",
      "metadata": {
        "id": "fIKnY8occu37"
      },
      "source": [
        "#### Goals :\n",
        "\n",
        "1. Marks Normalization, Z-scores\n",
        "\n",
        "3. CLT II and Standard Normal Distribution\n"
      ]
    },
    {
      "cell_type": "markdown",
      "metadata": {
        "id": "BBqkpH4_Doqe"
      },
      "source": [
        "---"
      ]
    },
    {
      "cell_type": "markdown",
      "metadata": {
        "id": "XHXlVy8p8SNT"
      },
      "source": [
        "#### Activity 1: Marks Normalisation\n",
        "\n",
        "Consider the following sample which consists of marks of 15 students obtained in the subject of Mathematics:\n",
        "\n",
        "$Marks=[150, 180, 145, 130, 120, 185, 110, 135, 165, 144, 166, 153, 132, 170, 148]$\n",
        "\n",
        "Normalise the above marks by calculating their $Z$-scores and plot its probability distribution (also known as **standard normal distribution**).\n",
        "\n",
        "**Hint**: Use the $Z$-score formula:\n",
        "$$Z = \\frac{X - \\mu}{\\sigma}$$\n",
        "\n",
        "\n",
        "Follow the steps given below to achieve the desired result:\n",
        "\n",
        "- **Step 1:** Create a NumPy array consisting of marks obtained by students.\n",
        "- **Step 2:** Define a function to calculate $Z$-score of each mark. Pass the array of marks as a parameter to this function. Inside this function, find mean ($\\mu$) and standard deviation ($\\sigma$) and apply the formula to calculate $Z$-scores.\n",
        "- **Step 3:** Plot the probability distribution of these $Z$-scores using `distplot()` function.\n",
        "\n"
      ]
    },
    {
      "cell_type": "code",
      "metadata": {
        "id": "SnxTi_vOd8p_",
        "colab": {
          "base_uri": "https://localhost:8080/",
          "height": 319
        },
        "outputId": "5640483a-849c-4fc8-c9c7-65cf6f734af8"
      },
      "source": [
        "# Solution\n",
        "# import modules\n",
        "import numpy as np\n",
        "import matplotlib.pyplot as plt\n",
        "import seaborn as sns\n",
        "# Step 1: Create a NumPy array consisting marks of 15 students\n",
        "marks=np.array([150,180,145,130,120,185,110,135,165,144,166,153,132,170,148])\n",
        "z=(marks-np.mean(marks))/np.std(marks)\n",
        "# Step 3: Plot the standard normal distribution using 'distplot()' function\n",
        "sns.distplot(z,hist=False,bins='sturges')\n",
        "plt.axvline(np.mean(z),color='red')\n",
        "plt.show()"
      ],
      "execution_count": null,
      "outputs": [
        {
          "output_type": "stream",
          "text": [
            "/usr/local/lib/python3.7/dist-packages/seaborn/distributions.py:2557: FutureWarning: `distplot` is a deprecated function and will be removed in a future version. Please adapt your code to use either `displot` (a figure-level function with similar flexibility) or `kdeplot` (an axes-level function for kernel density plots).\n",
            "  warnings.warn(msg, FutureWarning)\n"
          ],
          "name": "stderr"
        },
        {
          "output_type": "display_data",
          "data": {
            "image/png": "[encoded data removed]",
            "text/plain": [
              "<Figure size 432x288 with 1 Axes>"
            ]
          },
          "metadata": {
            "tags": [],
            "needs_background": "light"
          }
        }
      ]
    },
    {
      "cell_type": "markdown",
      "metadata": {
        "id": "KOVBiUSMzut1"
      },
      "source": [
        "---"
      ]
    },
    {
      "cell_type": "markdown",
      "metadata": {
        "id": "aM3lb5gTU3Q2"
      },
      "source": [
        "#### Activity 2: Population Mean using CLT\n",
        "\n",
        "Given the `emp_df` dataframe holding the details of employees, calculate the population mean of salary values for employees in Finance team by applying **Central Limit Theorem**.\n",
        "\n",
        "Follow the steps given below to achieve the desired result:\n",
        "\n",
        "- **Step 1:** Create a series of `Salary` column for the employees in Finance team using the `loc[]` funcion. Store the series in a variable, lets say `finance_salaries`.\n",
        "\n",
        "- **Step 2:** Draw 300 samples from the `finance_salaries` each of size 40 and compute the mean of each sample. Plot the distribution of sample means and find the mean of those sample means which approximates the actual population mean.\n",
        "\n",
        "\n",
        "\n",
        "**Dataset Link:** https://media.geeksforgeeks.org/wp-content/uploads/employees.csv\n"
      ]
    },
    {
      "cell_type": "code",
      "metadata": {
        "id": "ry1YXC59U5CI",
        "colab": {
          "base_uri": "https://localhost:8080/"
        },
        "outputId": "ed8aaa4a-692e-4871-8461-2ff7e8e8ae81"
      },
      "source": [
        "# Solution\n",
        "# Import the modules and create dataframe\n",
        "import pandas as pd\n",
        "df=pd.read_csv('https://media.geeksforgeeks.org/wp-content/uploads/employees.csv')\n",
        "# Step 1: Create a series of Salary column for the employees in Finance team using the 'loc[]' funcion.\n",
        "fsal=df.loc[df['Team']=='Finance','Salary']\n",
        "fsal"
      ],
      "execution_count": null,
      "outputs": [
        {
          "output_type": "execute_result",
          "data": {
            "text/plain": [
              "2      130590\n",
              "3      138705\n",
              "7       45906\n",
              "14      41426\n",
              "46     114796\n",
              "        ...  \n",
              "907    137144\n",
              "954    119667\n",
              "987    136709\n",
              "992    112769\n",
              "996     42392\n",
              "Name: Salary, Length: 102, dtype: int64"
            ]
          },
          "metadata": {
            "tags": []
          },
          "execution_count": 12
        }
      ]
    },
    {
      "cell_type": "code",
      "metadata": {
        "id": "tgw8mkFx-XV5",
        "colab": {
          "base_uri": "https://localhost:8080/",
          "height": 265
        },
        "outputId": "ac9fa522-d6b7-45f6-ca9d-b427468f5cee"
      },
      "source": [
        "# Step 2: Draw 300 samples from the 'finance_salaries' series each having 40 observations, compute their means and create a histogram for the means of samples.\n",
        "l=[]\n",
        "for i in range(300):\n",
        "  s=fsal.sample(n=40,replace=True)\n",
        "  l.append(np.mean(s))\n",
        "plt.hist(l,bins='sturges',edgecolor='black')\n",
        "plt.axvline(np.mean(l),color='red')\n",
        "plt.show()"
      ],
      "execution_count": null,
      "outputs": [
        {
          "output_type": "display_data",
          "data": {
            "image/png": "[encoded data removed]",
            "text/plain": [
              "<Figure size 432x288 with 1 Axes>"
            ]
          },
          "metadata": {
            "tags": [],
            "needs_background": "light"
          }
        }
      ]
    },
    {
      "cell_type": "markdown",
      "metadata": {
        "id": "xcyLQLqrp3Qq"
      },
      "source": [
        "---"
      ]
    }
  ]
}