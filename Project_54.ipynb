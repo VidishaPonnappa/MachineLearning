{
  "nbformat": 4,
  "nbformat_minor": 0,
  "metadata": {
    "colab": {
      "provenance": [],
      "include_colab_link": true
    },
    "kernelspec": {
      "name": "python3",
      "display_name": "Python 3"
    }
  },
  "cells": [
    {
      "cell_type": "markdown",
      "metadata": {
        "id": "view-in-github",
        "colab_type": "text"
      },
      "source": [
        "<a href=\"https://colab.research.google.com/github/VidishaPonnappa/MachineLearning/blob/main/Project_54.ipynb\" target=\"_parent\"><img src=\"https://colab.research.google.com/assets/colab-badge.svg\" alt=\"Open In Colab\"/></a>"
      ]
    },
    {
      "cell_type": "markdown",
      "metadata": {
        "id": "64Zy490qzVsZ"
      },
      "source": [
        "#### Goal of the Project\n",
        "\n",
        "This project is designed for you to practice and solve the activities that are based on the concepts covered in the following lessons:\n",
        "\n",
        " 1. Classes and Objects\n",
        "\n",
        " 2. Inheritance"
      ]
    },
    {
      "cell_type": "markdown",
      "metadata": {
        "id": "8BgExNKi1khe"
      },
      "source": [
        "---"
      ]
    },
    {
      "cell_type": "markdown",
      "metadata": {
        "id": "2i36Yv3-MPY5"
      },
      "source": [
        "### Problem Statement\n",
        "\n",
        "\n",
        "From the stone age till the electronic age we have used numerous ways of distance communication, one of them being **Mail Service**.\n",
        "\n",
        "Let's say you are building a Mailing Service Application which will allow you to send mails. These mails can be emails, physical mails, fax, etc.\n",
        "\n",
        "Every mail will have four things in common:\n",
        "1. Sender’s Address\n",
        "2. Receiver’s Address\n",
        "3. Subject\n",
        "4. Message\n",
        "\n",
        "Every type of mail possess some unique attributes like:\n",
        "* In a courier, you need the weight of the parcel.\n",
        "* In an email, you may have an Attachment.\n",
        "\n",
        "Let's build this application using Inheritance."
      ]
    },
    {
      "cell_type": "markdown",
      "metadata": {
        "id": "vYChcL-WMRFV"
      },
      "source": [
        "---"
      ]
    },
    {
      "cell_type": "markdown",
      "metadata": {
        "id": "toeLx5LJpIV-"
      },
      "source": [
        "### List of Activities\n",
        "\n",
        "**Activity 1:** Create a parent class `Mail`.\n",
        "\n",
        "  \n",
        "**Activity 2:** Create an object of the class `Mail`\n",
        "\n",
        "**Activity 3:** Create a child class `Post` which inherits from the parent class `Mail`.\n",
        "\n",
        "**Activity 4:** Create a child class `Email ` which inherits from its parent class `Mail`.\n"
      ]
    },
    {
      "cell_type": "markdown",
      "metadata": {
        "id": "5JRlGIBRqCGl"
      },
      "source": [
        "---"
      ]
    },
    {
      "cell_type": "markdown",
      "metadata": {
        "id": "j5RcICzZlJeZ"
      },
      "source": [
        "#### Activity 1: Create Parent Class `Mail`\n",
        "\n",
        "\n",
        "1. Create a class `Mail`. The constructor of this class must initialise the following variables:\n",
        "\n",
        " - `sender_add`: Address of the sender.\n",
        "\n",
        " - `receiver_add`: Address of the receiver.\n",
        "\n",
        " - `subject`: Context of the mail.\n",
        "\n",
        " - `message`: Message which needs to be communicated.\n",
        "\n",
        "\n",
        "2. Create a `__repr__()` function to print the above variables in a format as given in the example below:\n",
        "\n",
        "```\n",
        "To:     \tPrime Minister\n",
        "From:   \tState Minister\n",
        "Subject:\tHealth Policy\n",
        "Message:\tThis is regarding the Health Policy 2020\n",
        "```\n"
      ]
    },
    {
      "cell_type": "code",
      "metadata": {
        "id": "6RL71w3ntzcH"
      },
      "source": [
        "#  Create class 'Mail'. Add constructor\n",
        "class Mail:\n",
        "\n",
        "  def __init__(self, sender_add, receiver_add, subject, message):\n",
        "    self.sender_add = sender_add\n",
        "    self.receiver_add = receiver_add\n",
        "    self.subject = subject\n",
        "    self.message = message\n",
        "\n",
        "  # Create a __repr__ to return the properties of a mail\n",
        "  def __repr__(self):\n",
        "    return f\"To : \\t\\t{self.sender_add} \\nFrom : \\t\\t{self.receiver_add} \\nSubject : \\t{self.subject} \\nMessage : \\t{self.message} \\n\"\n"
      ],
      "execution_count": 8,
      "outputs": []
    },
    {
      "cell_type": "markdown",
      "metadata": {
        "id": "RETr5Tv1JBls"
      },
      "source": [
        "---"
      ]
    },
    {
      "cell_type": "markdown",
      "metadata": {
        "id": "z1v1uCgTXOj0"
      },
      "source": [
        "#### Activity 2: Create an Object of `Mail` Class\n",
        "\n",
        "Create an object of `Mail` class and display the attributes  using the object"
      ]
    },
    {
      "cell_type": "code",
      "metadata": {
        "id": "cHEBBL8JOymV",
        "colab": {
          "base_uri": "https://localhost:8080/"
        },
        "outputId": "dd3d7aec-5fd2-4948-aef8-676acc0f7686"
      },
      "source": [
        "# Create an object of 'Mail' class and print its properties\n",
        "mail1 = Mail(\"Prime Minister\", \"State Minister\", \"Health Policy\", \"Regarding Health Policy 2020\")\n",
        "mail1"
      ],
      "execution_count": 9,
      "outputs": [
        {
          "output_type": "execute_result",
          "data": {
            "text/plain": [
              "To : \t\tPrime Minister \n",
              "From : \t\tState Minister \n",
              "Subject : \tHealth Policy \n",
              "Message : \tRegarding Health Policy 2020 "
            ]
          },
          "metadata": {},
          "execution_count": 9
        }
      ]
    },
    {
      "cell_type": "markdown",
      "metadata": {
        "id": "TjVfq3s_G8Z8"
      },
      "source": [
        "---"
      ]
    },
    {
      "cell_type": "markdown",
      "metadata": {
        "id": "J2x0URlDJrZH"
      },
      "source": [
        "#### Activity 3: Create a Child Class `Post`\n",
        "\n",
        "\n",
        "1. Create a child class `Post` which inherits from the parent class `Mail`. In addition to the properties of the parent class, the constructor of this class must initialise the following properties:\n",
        "\n",
        "  - `mode_of_transit`: Transport method. It can have only one of the three values:\n",
        "\n",
        "     * Waterways\n",
        "     * Roadways\n",
        "     * Airways\n",
        "\n",
        "  - `delivery_time`: Time taken to deliver the post. It is initially set to `None`.\n",
        "\n",
        "  \n",
        "2. Create the following function inside the child class:\n",
        "\n",
        "  -  `calculate_delivery_time()`: This function determines the `delivery_time` based on the following conditions:\n",
        "\n",
        "     * If `mode_of_transit` is Airways, then `delivery_time` will be \"In 5 working days\".\n",
        "     * If `mode_of_transit` is Roadways, then `delivery_time` will be \"In 15 working days\".\n",
        "     * If `mode_of_transit` is Waterways, then `delivery_time` will be \"In 10-15 working days\".\n",
        "\n",
        "      .\n",
        "\n",
        "  - Create a `__repr__()` function to print the message in a format as given in the example below:\n",
        "```\n",
        "To:     \t      Prime Minister\n",
        "From:   \t      State Minister\n",
        "Subject:\t      Health Policy\n",
        "Message:\t      This is regarding the Health Policy 2020\n",
        "Transit Mode: \tAirways\n",
        "Delivery Time: \tIn 5 working days\n",
        "```\n",
        "3. Create an object of this class and pass the desired values as parameters to its constructor."
      ]
    },
    {
      "cell_type": "code",
      "metadata": {
        "id": "IjwoVwylMHpY",
        "colab": {
          "base_uri": "https://localhost:8080/"
        },
        "outputId": "5f25f618-108d-49ae-8789-6b748ca47a51"
      },
      "source": [
        "# Create child class 'Post' of the parent class 'Mail' and create the object of the child class and determine the delivery time\n",
        "class Post(Mail):\n",
        "  def __init__(self, sender_add, receiver_add, subject, message, mode_of_transit):\n",
        "    super().__init__(sender_add, receiver_add, subject, message)\n",
        "    self.mode_of_transit = mode_of_transit\n",
        "    self.delivery_time = None\n",
        "\n",
        "  def calculate_delivery_time(self):\n",
        "    if self.mode_of_transit == \"Airways\":\n",
        "      return (\"In 5 working days.\")\n",
        "    elif self.mode_of_transit == \"Roadways\":\n",
        "      return (\"In 15 working days.\")\n",
        "    elif self.mode_of_transit == \"Waterways\":\n",
        "      return (\"In 10-15 working days.\")\n",
        "\n",
        "  def __repr__(self):\n",
        "    return f\"To : \\t\\t{self.sender_add} \\nFrom : \\t\\t{self.receiver_add} \\nSubject : \\t{self.subject} \\nMessage : \\t{self.message} \\nTransit Mode : \\t{self.mode_of_transit} \\nDelivery Time : {self.calculate_delivery_time()} \\n\"\n",
        "\n",
        "post1 = Post(\"Prime Minister\", \"State Minister\", \"Health Policy\", \"Regarding Health Policy 2020\", \"Airways\")\n",
        "post1"
      ],
      "execution_count": 15,
      "outputs": [
        {
          "output_type": "execute_result",
          "data": {
            "text/plain": [
              "To : \t\tPrime Minister \n",
              "From : \t\tState Minister \n",
              "Subject : \tHealth Policy \n",
              "Message : \tRegarding Health Policy 2020 \n",
              "Transit Mode : \tAirways \n",
              "Delivery Time : In 5 working days. "
            ]
          },
          "metadata": {},
          "execution_count": 15
        }
      ]
    },
    {
      "cell_type": "markdown",
      "metadata": {
        "id": "lBZS4GAudWGJ"
      },
      "source": [
        "---"
      ]
    },
    {
      "cell_type": "markdown",
      "metadata": {
        "id": "gvjSeGubj4X5"
      },
      "source": [
        "#### Activity 4: Create a Child Class `Email`\n",
        "\n",
        "\n",
        "1. Create a child class `Email` which inherits from the parent class `Mail`. In addition to the properties of the parent class, the constructor of this class must initialise the following properties:\n",
        "\n",
        "  - `status`: The status of the sent email. It can have any one of the following values:\n",
        "  \n",
        "    * Draft\n",
        "    * Sent\n",
        "\n",
        "\n",
        "\n",
        "  \n",
        "2. Create the following functions inside the child class:\n",
        "\n",
        "  - `update_message()`: A function which will update the `message` variable. If the `status` of the email is `Draft`, then update the `message` variable with the new message passed as a parameter to this function else print **\"Message already sent. Update not possible\"**\n",
        "\n",
        " 2. Create a `__repr__()` function to print the message in a format as given in the example below:\n",
        "```\n",
        "To:     \tPrime Minister\n",
        "From:   \tState Minister\n",
        "Subject:\tHealth Policy\n",
        "Message:\tPolicy 2020\n",
        "Status: \tDraft\n",
        "```\n",
        "3. Create an object of this class and pass the desired values as parameters to its constructor."
      ]
    },
    {
      "cell_type": "code",
      "metadata": {
        "id": "fhZrarNohg47",
        "colab": {
          "base_uri": "https://localhost:8080/"
        },
        "outputId": "3a95adfd-3251-42e8-eead-8e89167e3c4c"
      },
      "source": [
        "# Create child class 'Email' of the parent class 'Mail'. Create the object of the child class and update an existing draft.\n",
        "class Email(Mail):\n",
        "  def __init__(self, sender_add, receiver_add, subject, message, status):\n",
        "    super().__init__(sender_add, receiver_add, subject, message)\n",
        "    self.status = status\n",
        "\n",
        "  def update_messages(self, new_message):\n",
        "    if self.status == \"Draft\":\n",
        "      self.message = new_message\n",
        "    elif self.status == \"Sent\":\n",
        "      print(\"Message already sent, Update not Possible. \")\n",
        "\n",
        "  def __repr__(self):\n",
        "    return f\"To : \\t\\t{self.sender_add} \\nFrom : \\t\\t{self.receiver_add} \\nSubject : \\t{self.subject} \\nMessage : \\t{self.message} \\nStatus : \\t{self.status} \\n\"\n",
        "\n",
        "email1 = Email(\"Prime Minister\", \"State Minister\", \"Health Policy\", \"Regarding Health Policy 2020\", \"Draft\")\n",
        "email1"
      ],
      "execution_count": 17,
      "outputs": [
        {
          "output_type": "execute_result",
          "data": {
            "text/plain": [
              "To : \t\tPrime Minister \n",
              "From : \t\tState Minister \n",
              "Subject : \tHealth Policy \n",
              "Message : \tRegarding Health Policy 2020 \n",
              "Status : \tDraft "
            ]
          },
          "metadata": {},
          "execution_count": 17
        }
      ]
    },
    {
      "cell_type": "markdown",
      "metadata": {
        "id": "RUsA5NIJatRo"
      },
      "source": [
        "---"
      ]
    }
  ]
}