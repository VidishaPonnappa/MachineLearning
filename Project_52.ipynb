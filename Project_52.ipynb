{
  "nbformat": 4,
  "nbformat_minor": 0,
  "metadata": {
    "colab": {
      "provenance": [],
      "include_colab_link": true
    },
    "kernelspec": {
      "name": "python3",
      "display_name": "Python 3"
    }
  },
  "cells": [
    {
      "cell_type": "markdown",
      "metadata": {
        "id": "view-in-github",
        "colab_type": "text"
      },
      "source": [
        "<a href=\"https://colab.research.google.com/github/VidishaPonnappa/MachineLearning/blob/main/Project_52.ipynb\" target=\"_parent\"><img src=\"https://colab.research.google.com/assets/colab-badge.svg\" alt=\"Open In Colab\"/></a>"
      ]
    },
    {
      "cell_type": "markdown",
      "metadata": {
        "id": "64Zy490qzVsZ"
      },
      "source": [
        "#### Goal of the Project\n",
        "\n",
        "This project is designed for you to practice and solve the activities that are based on the concepts covered in the following lessons:\n",
        "\n",
        " 1. Python Lists\n",
        "\n",
        " 2. Python Dictionary\n",
        "\n",
        " 3. Classes and Objects"
      ]
    },
    {
      "cell_type": "markdown",
      "metadata": {
        "id": "8BgExNKi1khe"
      },
      "source": [
        "---"
      ]
    },
    {
      "cell_type": "markdown",
      "metadata": {
        "id": "toeLx5LJpIV-"
      },
      "source": [
        "### List of Activities\n",
        "\n",
        "**Activity 1:** Create a `LibraryAdmin` class.\n",
        "\n",
        "**Activity 2:** Create the following four functions inside the `LibraryAdmin` class:\n",
        "\n",
        " - `display_book()`: To display all the books.\n",
        "\n",
        " - `lend_book()`: To lend a book.\n",
        "\n",
        " - `add_book()`: To add a new book.\n",
        "\n",
        " - `collect_book()`: To collect a book back.  \n",
        "\n",
        "**Activity 3:** Create an object of `LibraryAdmin` class.\n",
        "\n",
        "**Activity 4:** Call the functions."
      ]
    },
    {
      "cell_type": "markdown",
      "metadata": {
        "id": "5JRlGIBRqCGl"
      },
      "source": [
        "---"
      ]
    },
    {
      "cell_type": "markdown",
      "metadata": {
        "id": "UCusTfW0tcxe"
      },
      "source": [
        "#### Activity 1: Create a `LibraryAdmin` Class\n",
        "\n",
        "Create a class `LibraryAdmin`. Add a constructor (`__init()__` function) to the class. This constructor must initialise the following variables:\n",
        "\n",
        "-  `list_books`: A list to store the list of books. Initialise this list with the values passed whenever a new object of `LibraryAdmin` class is created.\n",
        "-  `borrowers_dict`: A dictionary to keep track of books lent to another user. Keep this dictionary empty."
      ]
    },
    {
      "cell_type": "code",
      "metadata": {
        "id": "6RL71w3ntzcH"
      },
      "source": [
        "#  Create class LibraryAdmin and add constructor\n",
        "class LibraryAdmin:\n",
        "  def __init__(self, list_books):\n",
        "    self.list_books = list_books\n",
        "    self.borrowers_dict = {}\n"
      ],
      "execution_count": null,
      "outputs": []
    },
    {
      "cell_type": "markdown",
      "metadata": {
        "id": "RETr5Tv1JBls"
      },
      "source": [
        "---"
      ]
    },
    {
      "cell_type": "markdown",
      "metadata": {
        "id": "NyHSsEwEoEvH"
      },
      "source": [
        "#### Activity 2: Add Functions\n",
        "\n",
        "Add the following four functions inside the `LibraryAdmin` class:\n",
        "\n",
        "- **The `display_books()` function**: Display all the books stored in the `list_books` list using `for` loop.\n",
        "\n",
        "- **The `lend_book()` function**: This function takes two parameters; `book` and `borrower`. The `book` parameter holds the name of the book and the `borrower` parameter holds the name of the user to whom the book is to be lent.\n",
        "\n",
        "  Inside this function, check whether the `book` is already present in the `borrowers_dict` dictionary or not.\n",
        "\n",
        "  * If the `book` is not in `borrowers_dict{}`, update this dictionary using `update()` function. Pass the name of the book i.e. `book` variable as key and name of the user i.e. `borrower` variable as its `value` to the `update()` function.\n",
        "\n",
        "  * If the `book` exists in `borrowers_dict{}`, this means that this book is already issued by another user. Thus, display the message \"Sorry, this book is already issued\".\n",
        "\n",
        "- **The `add_book()` function**: This function takes a parameter `book` which holds the name of the book to be added to the library. Use the `append()` function to add the `book` to the `list_books` list. Also, display a message \"Book has been successfully added in the Library\".\n",
        "\n",
        "- **The `collect_book()` function**: This function takes a parameter `book` which holds the name of the book to be removed from the `borrowers_dict` dictionary. Use the `pop()` function of the Python dictionary to remove the `book` from the `borrowers_dict` dictionary. Also, display a message \"Book is successfully removed from the Library\".\n",
        "\n",
        "**Note:** Do not forget to keep `self` keyword as the first argument or parameter in all the class functions."
      ]
    },
    {
      "cell_type": "code",
      "metadata": {
        "id": "JPMbyEbOoWz0"
      },
      "source": [
        "# Create Functions inside 'Library' class.\n",
        "class LibraryAdmin:\n",
        "\n",
        "  def __init__(self, list_books):\n",
        "    self.list_books = list_books\n",
        "    self.borrowers_dict = {}\n",
        "\n",
        "  def display_books(self):\n",
        "    print(\"List of Books : \")\n",
        "    for i in self.list_books:\n",
        "      print(i)\n",
        "\n",
        "  def lend_book(self, book, borrower):\n",
        "    if book in self.list_books:\n",
        "      if book in self.borrowers_dict:\n",
        "        print(f\"Sorry, '{book}' is already borrowed by {self.borrowers_dict[book]}.\")\n",
        "      else:\n",
        "        self.borrowers_dict.update({book : borrower})\n",
        "        print(f\"'{book}' has been successfully lent to {borrower}.\")\n",
        "        #self.list_books.remove(book)\n",
        "\n",
        "  def add_book(self, book):\n",
        "    self.list_books.append(book)\n",
        "    print('Book has been successfully added in the Library.')\n",
        "\n",
        "  def collect_book(self, book):\n",
        "    self.borrowers_dict.pop(book)\n",
        "    print('Book has been successfully removed from the Library.')"
      ],
      "execution_count": null,
      "outputs": []
    },
    {
      "cell_type": "markdown",
      "metadata": {
        "id": "hRxkk8dCAFMr"
      },
      "source": [
        "---"
      ]
    },
    {
      "cell_type": "markdown",
      "metadata": {
        "id": "NUWsq3QFG4Q3"
      },
      "source": [
        "#### Activity 3: Create an Object of `LibraryAdmin`\n",
        "\n",
        "Create an object of `LibraryAdmin` class and pass a list as a parameter. This list consists of names of books that initially exist in your library.\n",
        "\n"
      ]
    },
    {
      "cell_type": "code",
      "metadata": {
        "id": "cHEBBL8JOymV"
      },
      "source": [
        "# Create an object of Library class and pass a list of books as a parameter\n",
        "lib = LibraryAdmin(['Book1', 'Book2', 'Book3'])"
      ],
      "execution_count": null,
      "outputs": []
    },
    {
      "cell_type": "markdown",
      "metadata": {
        "id": "TjVfq3s_G8Z8"
      },
      "source": [
        "---"
      ]
    },
    {
      "cell_type": "markdown",
      "metadata": {
        "id": "rl-1j6RYQsYb"
      },
      "source": [
        "#### Activity 4: Call the Functions\n",
        "\n",
        "Create an infinite `while` loop. Inside this `while` loop perform the following tasks:\n",
        "1. Display the following list of choices:\n",
        "\n",
        "```\n",
        "Enter :\n",
        "        1 to DISPLAY books\n",
        "        2 to LEND a book\n",
        "        3 to ADD a book\n",
        "        4 to COLLECT a book\n",
        "        9 to QUIT the application\n",
        "```\n",
        "\n",
        "2. Take user input and store it in a variable `user_choice`. Check whether the user entered any input other than 1, 2, 3, 4, or 9. If yes, then display a message \"Please enter a valid option\" and keep on asking for user input unless the user enters a valid choice.\n",
        "\n",
        "3. Now using the `if-elif-else` statement, check user input and call the corresponding functions using the object of the `LibraryAdmin` class.\n",
        " - If `user_choice==1`, call the `display_books()` function\n",
        " - If `user_choice==2`, ask the user to enter the name of the book which is to be lent and the name of the borrower and pass them as parameters to the `lend_book()` function.\n",
        " - If `user_choice==3`, ask the user to enter the name of the book which is to be added and pass this as a parameter to the `add_book()` function.\n",
        " - If `user_choice==4`, ask the user to enter the name of the book which is to be collected back and pass this as a parameter to the `collect_book()` function.\n",
        " - If `user_choice==9`, break the infinite while loop using the `break` statement.\n",
        "\n",
        "\n",
        "**Note:** Call all the four functions using the object of `LibraryAdmin` class only."
      ]
    },
    {
      "cell_type": "code",
      "metadata": {
        "id": "RJ72_giGoYEj",
        "colab": {
          "base_uri": "https://localhost:8080/"
        },
        "outputId": "2f180302-59c5-4ac5-998c-293a95ec4b79"
      },
      "source": [
        "# Call the functions\n",
        "while True:\n",
        "  print(\"\\nEnter : \\n1 to DISPLAY books \\n2 to LEND a book \\n3 to ADD a book \\n4 to COLLECT a book \\n9 to QUIT the application \\n\")\n",
        "  user_choice = int(input('Enter you choice : '))\n",
        "\n",
        "  while user_choice not in [1,2,3,4,9]:\n",
        "    print('Please enter a valid choice.')\n",
        "    user_choice = int(input('Enter you choice : '))\n",
        "\n",
        "  if user_choice == 1:\n",
        "    lib.display_books()\n",
        "\n",
        "  elif user_choice == 2:\n",
        "    book_lend = input('Enter the name of the book to be lent : ')\n",
        "    borrow_name = input('Enter name of the borrower : ')\n",
        "    lib.lend_book(book_lend, borrow_name)\n",
        "\n",
        "  elif user_choice == 3:\n",
        "    book_add = input('Enter name of the book to be added : ')\n",
        "    lib.add_book(book_add)\n",
        "\n",
        "  elif user_choice == 4:\n",
        "    book_collect = input('Enter name of the book to be collected back : ')\n",
        "    lib.collect_book(book_collect)\n",
        "\n",
        "  else :\n",
        "    break\n"
      ],
      "execution_count": null,
      "outputs": [
        {
          "name": "stdout",
          "output_type": "stream",
          "text": [
            "\n",
            "Enter : \n",
            "1 to DISPLAY books \n",
            "2 to LEND a book \n",
            "3 to ADD a book \n",
            "4 to COLLECT a book \n",
            "9 to QUIT the application \n",
            "\n",
            "Enter you choice : 1\n",
            "List of Books : \n",
            "Book1\n",
            "Book2\n",
            "Book3\n",
            "\n",
            "Enter : \n",
            "1 to DISPLAY books \n",
            "2 to LEND a book \n",
            "3 to ADD a book \n",
            "4 to COLLECT a book \n",
            "9 to QUIT the application \n",
            "\n",
            "Enter you choice : 2\n",
            "Enter the name of the book to be lent : Book2\n",
            "Enter name of the borrower : Adam\n",
            "'Book2' has been successfully lent to Adam.\n",
            "\n",
            "Enter : \n",
            "1 to DISPLAY books \n",
            "2 to LEND a book \n",
            "3 to ADD a book \n",
            "4 to COLLECT a book \n",
            "9 to QUIT the application \n",
            "\n",
            "Enter you choice : 3\n",
            "Enter name of the book to be added : Book5\n",
            "Book has been successfully added in the Library.\n",
            "\n",
            "Enter : \n",
            "1 to DISPLAY books \n",
            "2 to LEND a book \n",
            "3 to ADD a book \n",
            "4 to COLLECT a book \n",
            "9 to QUIT the application \n",
            "\n",
            "Enter you choice : 1\n",
            "List of Books : \n",
            "Book1\n",
            "Book2\n",
            "Book3\n",
            "Book5\n",
            "\n",
            "Enter : \n",
            "1 to DISPLAY books \n",
            "2 to LEND a book \n",
            "3 to ADD a book \n",
            "4 to COLLECT a book \n",
            "9 to QUIT the application \n",
            "\n",
            "Enter you choice : 4\n",
            "Enter name of the book to be collected back : Book2\n",
            "Book has been successfully removed from the Library.\n",
            "\n",
            "Enter : \n",
            "1 to DISPLAY books \n",
            "2 to LEND a book \n",
            "3 to ADD a book \n",
            "4 to COLLECT a book \n",
            "9 to QUIT the application \n",
            "\n",
            "Enter you choice : 9\n"
          ]
        }
      ]
    },
    {
      "cell_type": "markdown",
      "metadata": {
        "id": "lBZS4GAudWGJ"
      },
      "source": [
        "---"
      ]
    }
  ]
}