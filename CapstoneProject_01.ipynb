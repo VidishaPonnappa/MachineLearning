{
  "nbformat": 4,
  "nbformat_minor": 0,
  "metadata": {
    "colab": {
      "provenance": [],
      "include_colab_link": true
    },
    "kernelspec": {
      "name": "python3",
      "display_name": "Python 3"
    }
  },
  "cells": [
    {
      "cell_type": "markdown",
      "metadata": {
        "id": "view-in-github",
        "colab_type": "text"
      },
      "source": [
        "<a href=\"https://colab.research.google.com/github/VidishaPonnappa/MachineLearning/blob/main/Project_4.ipynb\" target=\"_parent\"><img src=\"https://colab.research.google.com/assets/colab-badge.svg\" alt=\"Open In Colab\"/></a>"
      ]
    },
    {
      "cell_type": "markdown",
      "metadata": {
        "id": "e4QGT0wEyPzI"
      },
      "source": [
        "# Capstone Project 1: The Rock-Paper-Scissors Game"
      ]
    },
    {
      "cell_type": "markdown",
      "metadata": {
        "id": "tUuTk70jvfcg"
      },
      "source": [
        "---"
      ]
    },
    {
      "cell_type": "code",
      "metadata": {
        "id": "tVGefK0W7XYm"
      },
      "source": [
        "# Import the random module in the next line.\n",
        "import random\n",
        "# Create the count_rock, 'count_paper and count_scissors variables and set their initial values equal to 0.\n",
        "count_rock,count_paper,count_scissors=0,0,0"
      ],
      "execution_count": null,
      "outputs": []
    },
    {
      "cell_type": "markdown",
      "metadata": {
        "id": "CLkrMirEd-J3"
      },
      "source": [
        "---"
      ]
    },
    {
      "cell_type": "code",
      "metadata": {
        "id": "aRXQ7Psmyc88"
      },
      "source": [
        "# Create the update_counts() function.\n",
        "def update_counts(user_input):\n",
        "  global count_rock, count_paper, count_scissors\n",
        "  if user_input==0:\n",
        "    count_rock+=1\n",
        "  elif user_input==1:\n",
        "    count_paper+=1\n",
        "  else:\n",
        "    count_scissors+=1"
      ],
      "execution_count": null,
      "outputs": []
    },
    {
      "cell_type": "markdown",
      "metadata": {
        "id": "d13rhawzeBL_"
      },
      "source": [
        "---"
      ]
    },
    {
      "cell_type": "code",
      "metadata": {
        "id": "mZx0NTuy2l2f"
      },
      "source": [
        "# Create the predict() function.\n",
        "def predict():\n",
        "  # Uncomment the lines below.\n",
        "  if count_rock>count_paper:\n",
        "    if count_paper>count_scissors:\n",
        "      pred = 0\n",
        "    else:\n",
        "      if count_scissors>count_paper:\n",
        "        if count_rock>count_scissors:\n",
        "          pred = 0\n",
        "        else:\n",
        "          pred = 2\n",
        "\n",
        "  if count_paper>count_rock:\n",
        "    if count_rock>count_scissors:\n",
        "      pred = 1\n",
        "    else:\n",
        "      if count_scissors>count_rock:\n",
        "        if count_scissors>count_paper:\n",
        "          pre = 2\n",
        "        else:\n",
        "          pred = 1\n",
        "\n",
        "  if count_paper==count_rock:\n",
        "    if count_rock>count_scissors:\n",
        "      predict1=random.randint(1,2)\n",
        "      if predict1==1:\n",
        "        pred = 0\n",
        "      else:\n",
        "        pred = 1\n",
        "    else:\n",
        "      pred = 2\n",
        "\n",
        "  if count_paper==count_scissors:\n",
        "    if count_scissors>count_rock:\n",
        "      predict2=random.randint(2,3)\n",
        "      if peredict2==2:\n",
        "        pred = 1\n",
        "      else:\n",
        "        pred = 2\n",
        "    else:\n",
        "      pred = 0\n",
        "\n",
        "  if count_rock==count_scissors:\n",
        "    if count_scissors>count_paper:\n",
        "      predict3=random.randint(1,2)\n",
        "      if predict3==1:\n",
        "        pred = 0\n",
        "      else:\n",
        "        pred = 2\n",
        "    else:\n",
        "      pred = 1\n",
        "\n",
        "  if count_scissors==count_rock and count_scissors==count_paper:\n",
        "    predict4=random.randint(1,3)\n",
        "    if predict4==1:\n",
        "      pred = 0\n",
        "    elif predict4==2:\n",
        "      pred = 1\n",
        "    else:\n",
        "      pred = 2\n",
        "\n",
        "  if pred==0:\n",
        "    return 'ROCK'\n",
        "  elif pred==1:\n",
        "    return 'PAPER'\n",
        "  else:\n",
        "    return 'SCISSORS'"
      ],
      "execution_count": null,
      "outputs": []
    },
    {
      "cell_type": "markdown",
      "metadata": {
        "id": "is9vbO8KeDg8"
      },
      "source": [
        "---"
      ]
    },
    {
      "cell_type": "code",
      "metadata": {
        "id": "kmTRqKuBDiVw"
      },
      "source": [
        "# Create the player_score and comp_score variables.\n",
        "player_score,comp_score=0,0"
      ],
      "execution_count": null,
      "outputs": []
    },
    {
      "cell_type": "markdown",
      "metadata": {
        "id": "bUyVtX_QeE-G"
      },
      "source": [
        "---"
      ]
    },
    {
      "cell_type": "code",
      "metadata": {
        "id": "r1d2A5I53Wmz",
        "colab": {
          "base_uri": "https://localhost:8080/",
          "height": 51
        },
        "outputId": "751af025-44b8-4965-ab8b-53b1a699f03c"
      },
      "source": [
        "# Placing \\n before a string.\n",
        "print(\"\\nPlacing the newline character before the string.\")"
      ],
      "execution_count": null,
      "outputs": [
        {
          "output_type": "stream",
          "text": [
            "\n",
            "Placing the newline character before the string.\n"
          ],
          "name": "stdout"
        }
      ]
    },
    {
      "cell_type": "code",
      "metadata": {
        "id": "ViXx1zU33gEk",
        "colab": {
          "base_uri": "https://localhost:8080/",
          "height": 51
        },
        "outputId": "2cf03fb3-c472-4ba1-9ffa-14b451878d55"
      },
      "source": [
        "# Placing \\n after a string.\n",
        "print(\"Placing the newline character before the string.\\n\")"
      ],
      "execution_count": null,
      "outputs": [
        {
          "output_type": "stream",
          "text": [
            "Placing the newline character before the string.\n",
            "\n"
          ],
          "name": "stdout"
        }
      ]
    },
    {
      "cell_type": "code",
      "metadata": {
        "id": "2T3NfNyB-BXO"
      },
      "source": [
        "# Create the update_scores() function.\n",
        "def update_scores(user_input):\n",
        "  global player_score, comp_score\n",
        "  # Rock wins over scissors, scissors win over paper and paper wins over rock.\n",
        "  pred = predict()\n",
        "  if user_input == 0:\n",
        "    if pred == 0:\n",
        "      print(\"\\nYou played ROCK, computer played ROCK.\")\n",
        "      print(\"\\nComputer Score: \", comp_score, \"\\nYour Score: \", player_score)\n",
        "    elif pred == 1:\n",
        "      print(\"\\nYou played ROCK, computer played PAPER.\")\n",
        "      comp_score += 1\n",
        "      print(\"\\nComputer Score: \", comp_score, \"\\nYour Score: \", player_score)\n",
        "    else:\n",
        "      print(\"\\nYou played ROCK, computer played SCISSORS.\")\n",
        "      player_score += 1\n",
        "      print(\"\\nComputer Score: \", comp_score, \"\\nYour Score: \", player_score)\n",
        "  if user_input == 1:\n",
        "    if pred == 1:\n",
        "      print(\"\\nYou played PAPER, computer played PAPER.\")\n",
        "      print(\"\\nComputer Score: \", comp_score, \"\\nYour Score: \", player_score)\n",
        "    elif pred == 0:\n",
        "      print(\"\\nYou played PAPER, computer played ROCK.\")\n",
        "      comp_score += 1\n",
        "      print(\"\\nComputer Score: \", comp_score, \"\\nYour Score: \", player_score)\n",
        "    else:\n",
        "      print(\"\\nYou played PAPER, computer played SCISSORS.\")\n",
        "      player_score += 1\n",
        "      print(\"\\nComputer Score: \", comp_score, \"\\nYour Score: \", player_score)\n",
        "  if user_input == 2:\n",
        "    if pred == 2:\n",
        "      print(\"\\nYou played SCISSORS, computer played SCISSORS.\")\n",
        "      print(\"\\nComputer Score: \", comp_score, \"\\nYour Score: \", player_score)\n",
        "    elif pred == 0:\n",
        "      print(\"\\nYou played SCISSORS, computer played ROCK.\")\n",
        "      comp_score += 1\n",
        "      print(\"\\nComputer Score: \", comp_score, \"\\nYour Score: \", player_score)\n",
        "    else:\n",
        "      print(\"\\nYou played SCISSORS, computer played PAPER.\")\n",
        "      player_score += 1\n",
        "      print(\"\\nComputer Score: \", comp_score, \"\\nYour Score: \", player_score)"
      ],
      "execution_count": null,
      "outputs": []
    },
    {
      "cell_type": "markdown",
      "metadata": {
        "id": "U8fwzPIXeHEA"
      },
      "source": [
        "---"
      ]
    },
    {
      "cell_type": "code",
      "metadata": {
        "id": "XunWo6pKe7jg",
        "colab": {
          "base_uri": "https://localhost:8080/",
          "height": 833
        },
        "outputId": "f435db26-8718-4bec-bd55-0d73db46505c"
      },
      "source": [
        "# 1. Create a list: ['0', '1', '2'] and store it in the variable called valid_entries, i.e, valid_entries = ['0', '1', '2']\n",
        "\n",
        "# 2. Create an infinite while loop. Inside the loop, create a variable called user_input to store the input taken by the player.\n",
        "  # 3. Use the input() function to take input from a player.\n",
        "  # Inside the input() function, write the Enter 0 for ROCK, 1 for PAPER and 2 for SCISSORS: statement to show it as a message to a player.\n",
        "    # 4. Write another while loop to check whether the input provided by a player exists in the valid_entries list or not.\n",
        "\n",
        "    # 5. If the input provided by a player does not exist in the valid_entries list, then print Invalid Input! message.\n",
        "    # In the next line, rewrite the user_input = input(\"Enter 0 for ROCK, 1 for PAPER and 2 for SCISSORS: \") statement.\n",
        "# Import the random module in the next line.\n",
        "import random\n",
        "# Create the count_rock, 'count_paper and count_scissors variables and set their initial values equal to 0.\n",
        "count_rock,count_paper,count_scissors=0,0,0\n",
        "\n",
        "# Create the player_score and comp_score variables.\n",
        "player_score,comp_score=0,0\n",
        "\n",
        "# Create the update_counts() function.\n",
        "def update_counts(user_input):\n",
        "  global count_rock, count_paper, count_scissors\n",
        "  if user_input==0:\n",
        "    count_rock+=1\n",
        "  elif user_input==1:\n",
        "    count_paper+=1\n",
        "  else:\n",
        "    count_scissors+=1\n",
        "\n",
        "# Create the predict() function.\n",
        "def predict():\n",
        "  # Uncomment the lines below.\n",
        "  if count_rock>count_paper:\n",
        "    if count_paper>count_scissors:\n",
        "      pred = 0\n",
        "    else:\n",
        "      if count_scissors>count_paper:\n",
        "        if count_rock>count_scissors:\n",
        "          pred = 0\n",
        "        else:\n",
        "          pred = 2\n",
        "\n",
        "  if count_paper>count_rock:\n",
        "    if count_rock>count_scissors:\n",
        "      pred = 1\n",
        "    else:\n",
        "      if count_scissors>count_rock:\n",
        "        if count_scissors>count_paper:\n",
        "          pre = 2\n",
        "        else:\n",
        "          pred = 1\n",
        "\n",
        "  if count_paper==count_rock:\n",
        "    if count_rock>count_scissors:\n",
        "      predict1=random.randint(1,2)\n",
        "      if predict1==1:\n",
        "        pred = 0\n",
        "      else:\n",
        "        pred = 1\n",
        "    else:\n",
        "      pred = 2\n",
        "\n",
        "  if count_paper==count_scissors:\n",
        "    if count_scissors>count_rock:\n",
        "      predict2=random.randint(2,3)\n",
        "      if peredict2==2:\n",
        "        pred = 1\n",
        "      else:\n",
        "        pred = 2\n",
        "    else:\n",
        "      pred = 0\n",
        "\n",
        "  if count_rock==count_scissors:\n",
        "    if count_scissors>count_paper:\n",
        "      predict3=random.randint(1,2)\n",
        "      if predict3==1:\n",
        "        pred = 0\n",
        "      else:\n",
        "        pred = 2\n",
        "    else:\n",
        "      pred = 1\n",
        "\n",
        "  if count_scissors==count_rock and count_scissors==count_paper:\n",
        "    predict4=random.randint(1,3)\n",
        "    if predict4==1:\n",
        "      pred = 0\n",
        "    elif predict4==2:\n",
        "      pred = 1\n",
        "    else:\n",
        "      pred = 2\n",
        "\n",
        "  if pred==0:\n",
        "    return 'ROCK'\n",
        "  elif pred==1:\n",
        "    return 'PAPER'\n",
        "  else:\n",
        "    return 'SCISSORS'\n",
        "\n",
        "# Create the update_scores() function.\n",
        "def update_scores(user_input):\n",
        "  global player_score, comp_score\n",
        "  # Rock wins over scissors, scissors win over paper and paper wins over rock.\n",
        "  predicted = predict()\n",
        "  if user_input == 0:\n",
        "    if predicted == 0:\n",
        "      print(\"\\nYou played ROCK, computer played ROCK.\")\n",
        "      print(\"\\nComputer Score: \", comp_score, \"\\nYour Score: \", player_score)\n",
        "    elif predicted == 1:\n",
        "      print(\"\\nYou played ROCK, computer played PAPER.\")\n",
        "      comp_score += 1\n",
        "      print(\"\\nComputer Score: \", comp_score, \"\\nYour Score: \", player_score)\n",
        "    else:\n",
        "      print(\"\\nYou played ROCK, computer played SCISSORS.\")\n",
        "      player_score += 1\n",
        "      print(\"\\nComputer Score: \", comp_score, \"\\nYour Score: \", player_score)\n",
        "  if user_input == 1:\n",
        "    if predicted == 1:\n",
        "      print(\"\\nYou played PAPER, computer played PAPER.\")\n",
        "      print(\"\\nComputer Score: \", comp_score, \"\\nYour Score: \", player_score)\n",
        "    elif predicted == 0:\n",
        "      print(\"\\nYou played PAPER, computer played ROCK.\")\n",
        "      comp_score += 1\n",
        "      print(\"\\nComputer Score: \", comp_score, \"\\nYour Score: \", player_score)\n",
        "    else:\n",
        "      print(\"\\nYou played PAPER, computer played SCISSORS.\")\n",
        "      player_score += 1\n",
        "      print(\"\\nComputer Score: \", comp_score, \"\\nYour Score: \", player_score)\n",
        "  if user_input == 2:\n",
        "    if predicted == 2:\n",
        "      print(\"\\nYou played SCISSORS, computer played SCISSORS.\")\n",
        "      print(\"\\nComputer Score: \", comp_score, \"\\nYour Score: \", player_score)\n",
        "    elif predicted == 0:\n",
        "      print(\"\\nYou played SCISSORS, computer played ROCK.\")\n",
        "      comp_score += 1\n",
        "      print(\"\\nComputer Score: \", comp_score, \"\\nYour Score: \", player_score)\n",
        "    else:\n",
        "      print(\"\\nYou played SCISSORS, computer played PAPER.\")\n",
        "      player_score += 1\n",
        "      print(\"\\nComputer Score: \", comp_score, \"\\nYour Score: \", player_score)\n",
        "\n",
        "while player_score<10 or comp_score<10:\n",
        "  user_input=int(input('Enter 0 for Rock, 1 for Paper and 2 for Scissors: '))\n",
        "  while user_input not in [0,1,2]:\n",
        "    print('Invalid.')\n",
        "    user_input=int(input('Enter 0 for Rock, 1 for Paper and 2 for Scissors: '))\n",
        "\n",
        "  # 6. Now, outside the inner while loop, convert the user_input value to an integer value using the int() function.\n",
        "  # 7. Call the update_scores() function with the user_input as an input to update the scores of the computer and the player.\n",
        "  update_scores(user_input)\n",
        "  # 8. Call the update_counts() function with the user_input as an input to update the counts of the inputs provided by the player.\n",
        "  update_counts(user_input)\n",
        "  # 9. Write an if statement to check if the score is 10 for any of the player.\n",
        "  if player_score==10 or comp_score==10:\n",
        "    if player_score==10:\n",
        "      print('You Won!')\n",
        "      break\n",
        "  # If the comp_score == 10, then print the Computer Won! message and break the loop.\n",
        "    else:\n",
        "      print('Computer Won.')\n",
        "      break\n",
        "  # Else if the player_score == 10, then print the You won! message and break the loop.\n"
      ],
      "execution_count": null,
      "outputs": [
        {
          "output_type": "stream",
          "text": [
            "Enter 0 for Rock, 1 for Paper and 2 for Scissors: 1\n",
            "\n",
            "You played PAPER, computer played SCISSORS.\n",
            "\n",
            "Computer Score:  0 \n",
            "Your Score:  1\n",
            "Enter 0 for Rock, 1 for Paper and 2 for Scissors: 0\n",
            "\n",
            "You played ROCK, computer played SCISSORS.\n",
            "\n",
            "Computer Score:  0 \n",
            "Your Score:  2\n",
            "Enter 0 for Rock, 1 for Paper and 2 for Scissors: 1\n",
            "\n",
            "You played PAPER, computer played SCISSORS.\n",
            "\n",
            "Computer Score:  0 \n",
            "Your Score:  3\n"
          ],
          "name": "stdout"
        },
        {
          "output_type": "error",
          "ename": "KeyboardInterrupt",
          "evalue": "ignored",
          "traceback": [
            "\u001b[0;31m---------------------------------------------------------------------------\u001b[0m",
            "\u001b[0;31mKeyboardInterrupt\u001b[0m                         Traceback (most recent call last)",
            "\u001b[0;32m/usr/local/lib/python3.6/dist-packages/ipykernel/kernelbase.py\u001b[0m in \u001b[0;36m_input_request\u001b[0;34m(self, prompt, ident, parent, password)\u001b[0m\n\u001b[1;32m    728\u001b[0m             \u001b[0;32mtry\u001b[0m\u001b[0;34m:\u001b[0m\u001b[0;34m\u001b[0m\u001b[0;34m\u001b[0m\u001b[0m\n\u001b[0;32m--> 729\u001b[0;31m                 \u001b[0mident\u001b[0m\u001b[0;34m,\u001b[0m \u001b[0mreply\u001b[0m \u001b[0;34m=\u001b[0m \u001b[0mself\u001b[0m\u001b[0;34m.\u001b[0m\u001b[0msession\u001b[0m\u001b[0;34m.\u001b[0m\u001b[0mrecv\u001b[0m\u001b[0;34m(\u001b[0m\u001b[0mself\u001b[0m\u001b[0;34m.\u001b[0m\u001b[0mstdin_socket\u001b[0m\u001b[0;34m,\u001b[0m \u001b[0;36m0\u001b[0m\u001b[0;34m)\u001b[0m\u001b[0;34m\u001b[0m\u001b[0;34m\u001b[0m\u001b[0m\n\u001b[0m\u001b[1;32m    730\u001b[0m             \u001b[0;32mexcept\u001b[0m \u001b[0mException\u001b[0m\u001b[0;34m:\u001b[0m\u001b[0;34m\u001b[0m\u001b[0;34m\u001b[0m\u001b[0m\n",
            "\u001b[0;32m/usr/local/lib/python3.6/dist-packages/jupyter_client/session.py\u001b[0m in \u001b[0;36mrecv\u001b[0;34m(self, socket, mode, content, copy)\u001b[0m\n\u001b[1;32m    802\u001b[0m         \u001b[0;32mtry\u001b[0m\u001b[0;34m:\u001b[0m\u001b[0;34m\u001b[0m\u001b[0;34m\u001b[0m\u001b[0m\n\u001b[0;32m--> 803\u001b[0;31m             \u001b[0mmsg_list\u001b[0m \u001b[0;34m=\u001b[0m \u001b[0msocket\u001b[0m\u001b[0;34m.\u001b[0m\u001b[0mrecv_multipart\u001b[0m\u001b[0;34m(\u001b[0m\u001b[0mmode\u001b[0m\u001b[0;34m,\u001b[0m \u001b[0mcopy\u001b[0m\u001b[0;34m=\u001b[0m\u001b[0mcopy\u001b[0m\u001b[0;34m)\u001b[0m\u001b[0;34m\u001b[0m\u001b[0;34m\u001b[0m\u001b[0m\n\u001b[0m\u001b[1;32m    804\u001b[0m         \u001b[0;32mexcept\u001b[0m \u001b[0mzmq\u001b[0m\u001b[0;34m.\u001b[0m\u001b[0mZMQError\u001b[0m \u001b[0;32mas\u001b[0m \u001b[0me\u001b[0m\u001b[0;34m:\u001b[0m\u001b[0;34m\u001b[0m\u001b[0;34m\u001b[0m\u001b[0m\n",
            "\u001b[0;32m/usr/local/lib/python3.6/dist-packages/zmq/sugar/socket.py\u001b[0m in \u001b[0;36mrecv_multipart\u001b[0;34m(self, flags, copy, track)\u001b[0m\n\u001b[1;32m    490\u001b[0m         \"\"\"\n\u001b[0;32m--> 491\u001b[0;31m         \u001b[0mparts\u001b[0m \u001b[0;34m=\u001b[0m \u001b[0;34m[\u001b[0m\u001b[0mself\u001b[0m\u001b[0;34m.\u001b[0m\u001b[0mrecv\u001b[0m\u001b[0;34m(\u001b[0m\u001b[0mflags\u001b[0m\u001b[0;34m,\u001b[0m \u001b[0mcopy\u001b[0m\u001b[0;34m=\u001b[0m\u001b[0mcopy\u001b[0m\u001b[0;34m,\u001b[0m \u001b[0mtrack\u001b[0m\u001b[0;34m=\u001b[0m\u001b[0mtrack\u001b[0m\u001b[0;34m)\u001b[0m\u001b[0;34m]\u001b[0m\u001b[0;34m\u001b[0m\u001b[0;34m\u001b[0m\u001b[0m\n\u001b[0m\u001b[1;32m    492\u001b[0m         \u001b[0;31m# have first part already, only loop while more to receive\u001b[0m\u001b[0;34m\u001b[0m\u001b[0;34m\u001b[0m\u001b[0;34m\u001b[0m\u001b[0m\n",
            "\u001b[0;32mzmq/backend/cython/socket.pyx\u001b[0m in \u001b[0;36mzmq.backend.cython.socket.Socket.recv\u001b[0;34m()\u001b[0m\n",
            "\u001b[0;32mzmq/backend/cython/socket.pyx\u001b[0m in \u001b[0;36mzmq.backend.cython.socket.Socket.recv\u001b[0;34m()\u001b[0m\n",
            "\u001b[0;32mzmq/backend/cython/socket.pyx\u001b[0m in \u001b[0;36mzmq.backend.cython.socket._recv_copy\u001b[0;34m()\u001b[0m\n",
            "\u001b[0;32m/usr/local/lib/python3.6/dist-packages/zmq/backend/cython/checkrc.pxd\u001b[0m in \u001b[0;36mzmq.backend.cython.checkrc._check_rc\u001b[0;34m()\u001b[0m\n",
            "\u001b[0;31mKeyboardInterrupt\u001b[0m: ",
            "\nDuring handling of the above exception, another exception occurred:\n",
            "\u001b[0;31mKeyboardInterrupt\u001b[0m                         Traceback (most recent call last)",
            "\u001b[0;32m<ipython-input-11-3b4bfe1e8525>\u001b[0m in \u001b[0;36m<module>\u001b[0;34m()\u001b[0m\n\u001b[1;32m    138\u001b[0m \u001b[0;34m\u001b[0m\u001b[0m\n\u001b[1;32m    139\u001b[0m \u001b[0;32mwhile\u001b[0m \u001b[0mplayer_score\u001b[0m\u001b[0;34m<\u001b[0m\u001b[0;36m10\u001b[0m \u001b[0;32mor\u001b[0m \u001b[0mcomp_score\u001b[0m\u001b[0;34m<\u001b[0m\u001b[0;36m10\u001b[0m\u001b[0;34m:\u001b[0m\u001b[0;34m\u001b[0m\u001b[0;34m\u001b[0m\u001b[0m\n\u001b[0;32m--> 140\u001b[0;31m   \u001b[0muser_input\u001b[0m\u001b[0;34m=\u001b[0m\u001b[0mint\u001b[0m\u001b[0;34m(\u001b[0m\u001b[0minput\u001b[0m\u001b[0;34m(\u001b[0m\u001b[0;34m'Enter 0 for Rock, 1 for Paper and 2 for Scissors: '\u001b[0m\u001b[0;34m)\u001b[0m\u001b[0;34m)\u001b[0m\u001b[0;34m\u001b[0m\u001b[0;34m\u001b[0m\u001b[0m\n\u001b[0m\u001b[1;32m    141\u001b[0m   \u001b[0;32mwhile\u001b[0m \u001b[0muser_input\u001b[0m \u001b[0;32mnot\u001b[0m \u001b[0;32min\u001b[0m \u001b[0;34m[\u001b[0m\u001b[0;36m0\u001b[0m\u001b[0;34m,\u001b[0m\u001b[0;36m1\u001b[0m\u001b[0;34m,\u001b[0m\u001b[0;36m2\u001b[0m\u001b[0;34m]\u001b[0m\u001b[0;34m:\u001b[0m\u001b[0;34m\u001b[0m\u001b[0;34m\u001b[0m\u001b[0m\n\u001b[1;32m    142\u001b[0m     \u001b[0mprint\u001b[0m\u001b[0;34m(\u001b[0m\u001b[0;34m'Invalid.'\u001b[0m\u001b[0;34m)\u001b[0m\u001b[0;34m\u001b[0m\u001b[0;34m\u001b[0m\u001b[0m\n",
            "\u001b[0;32m/usr/local/lib/python3.6/dist-packages/ipykernel/kernelbase.py\u001b[0m in \u001b[0;36mraw_input\u001b[0;34m(self, prompt)\u001b[0m\n\u001b[1;32m    702\u001b[0m             \u001b[0mself\u001b[0m\u001b[0;34m.\u001b[0m\u001b[0m_parent_ident\u001b[0m\u001b[0;34m,\u001b[0m\u001b[0;34m\u001b[0m\u001b[0;34m\u001b[0m\u001b[0m\n\u001b[1;32m    703\u001b[0m             \u001b[0mself\u001b[0m\u001b[0;34m.\u001b[0m\u001b[0m_parent_header\u001b[0m\u001b[0;34m,\u001b[0m\u001b[0;34m\u001b[0m\u001b[0;34m\u001b[0m\u001b[0m\n\u001b[0;32m--> 704\u001b[0;31m             \u001b[0mpassword\u001b[0m\u001b[0;34m=\u001b[0m\u001b[0;32mFalse\u001b[0m\u001b[0;34m,\u001b[0m\u001b[0;34m\u001b[0m\u001b[0;34m\u001b[0m\u001b[0m\n\u001b[0m\u001b[1;32m    705\u001b[0m         )\n\u001b[1;32m    706\u001b[0m \u001b[0;34m\u001b[0m\u001b[0m\n",
            "\u001b[0;32m/usr/local/lib/python3.6/dist-packages/ipykernel/kernelbase.py\u001b[0m in \u001b[0;36m_input_request\u001b[0;34m(self, prompt, ident, parent, password)\u001b[0m\n\u001b[1;32m    732\u001b[0m             \u001b[0;32mexcept\u001b[0m \u001b[0mKeyboardInterrupt\u001b[0m\u001b[0;34m:\u001b[0m\u001b[0;34m\u001b[0m\u001b[0;34m\u001b[0m\u001b[0m\n\u001b[1;32m    733\u001b[0m                 \u001b[0;31m# re-raise KeyboardInterrupt, to truncate traceback\u001b[0m\u001b[0;34m\u001b[0m\u001b[0;34m\u001b[0m\u001b[0;34m\u001b[0m\u001b[0m\n\u001b[0;32m--> 734\u001b[0;31m                 \u001b[0;32mraise\u001b[0m \u001b[0mKeyboardInterrupt\u001b[0m\u001b[0;34m\u001b[0m\u001b[0;34m\u001b[0m\u001b[0m\n\u001b[0m\u001b[1;32m    735\u001b[0m             \u001b[0;32melse\u001b[0m\u001b[0;34m:\u001b[0m\u001b[0;34m\u001b[0m\u001b[0;34m\u001b[0m\u001b[0m\n\u001b[1;32m    736\u001b[0m                 \u001b[0;32mbreak\u001b[0m\u001b[0;34m\u001b[0m\u001b[0;34m\u001b[0m\u001b[0m\n",
            "\u001b[0;31mKeyboardInterrupt\u001b[0m: "
          ]
        }
      ]
    }
  ]
}
