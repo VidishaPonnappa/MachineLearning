{
  "nbformat": 4,
  "nbformat_minor": 0,
  "metadata": {
    "colab": {
      "provenance": [],
      "include_colab_link": true
    },
    "kernelspec": {
      "name": "python3",
      "display_name": "Python 3"
    }
  },
  "cells": [
    {
      "cell_type": "markdown",
      "metadata": {
        "id": "view-in-github",
        "colab_type": "text"
      },
      "source": [
        "<a href=\"https://colab.research.google.com/github/VidishaPonnappa/MachineLearning/blob/main/Project_12.ipynb\" target=\"_parent\"><img src=\"https://colab.research.google.com/assets/colab-badge.svg\" alt=\"Open In Colab\"/></a>"
      ]
    },
    {
      "cell_type": "markdown",
      "metadata": {
        "id": "bEyBzxYRhrLG"
      },
      "source": [
        "#### Goals :\n",
        "\n",
        "1. Find Prime Numbers\n",
        "2. Return n digit number\n"
      ]
    },
    {
      "cell_type": "markdown",
      "metadata": {
        "id": "DPOFIO3EHncO"
      },
      "source": [
        "---"
      ]
    },
    {
      "cell_type": "markdown",
      "metadata": {
        "id": "q4fH06mIjuK3"
      },
      "source": [
        "#### 1. Find Prime Numbers from 2 to 50\n",
        "\n",
        "\n"
      ]
    },
    {
      "cell_type": "code",
      "metadata": {
        "id": "4EAoTskqg041",
        "colab": {
          "base_uri": "https://localhost:8080/"
        },
        "outputId": "fae467e3-ceb6-4cc6-975b-5fa3fcb3bffc"
      },
      "source": [
        "# Write a program to find prime numbers from 2 to 50.\n",
        "prime,comp=[],[]\n",
        "for i in range(2,51):\n",
        "  for j in range(2,i):\n",
        "    if i!=j:\n",
        "      if i%j==0:\n",
        "        comp.append(i)\n",
        "        break\n",
        "for i in range(2,51):\n",
        "  if i not in comp:\n",
        "    prime.append(i)\n",
        "print('There are {} prime numbers between 2 and 50. They are: {}'.format(len(prime),prime))"
      ],
      "execution_count": null,
      "outputs": [
        {
          "output_type": "stream",
          "text": [
            "There are 15 prime numbers between 2 and 50. They are: [2, 3, 5, 7, 11, 13, 17, 19, 23, 29, 31, 37, 41, 43, 47]\n"
          ],
          "name": "stdout"
        }
      ]
    },
    {
      "cell_type": "markdown",
      "metadata": {
        "id": "xJlPs9X9oeRw"
      },
      "source": [
        "---"
      ]
    },
    {
      "cell_type": "markdown",
      "metadata": {
        "id": "qA-b1CdeofKc"
      },
      "source": [
        "#### Activity 2: Print `n` Digit Number\n",
        "\n",
        "Write a function which takes a natural number $n$ (where $1\\leq n \\leq 9$) as an input and returns an $n$-digit number having the digit $n$ at all the places as an output. Ex : 333"
      ]
    },
    {
      "cell_type": "code",
      "metadata": {
        "id": "AtvPTG3kpBoS",
        "colab": {
          "base_uri": "https://localhost:8080/"
        },
        "outputId": "106a76ae-8b92-4797-c757-687c49764a82"
      },
      "source": [
        "# Print n -digit number\n",
        "a=int(input('Enter a number from 1 to 9: '))\n",
        "while a not in range(1,10):\n",
        "  print('Sorry. Invalid.')\n",
        "  a=int(input('Enter a number from 1 to 9: '))\n",
        "n,num=str(a),''\n",
        "for i in range(1,a+1):\n",
        "  num=num+n\n",
        "print(num)"
      ],
      "execution_count": null,
      "outputs": [
        {
          "output_type": "stream",
          "text": [
            "Enter a number from 1 to 9: 2\n",
            "22\n"
          ],
          "name": "stdout"
        }
      ]
    },
    {
      "cell_type": "markdown",
      "metadata": {
        "id": "KOVBiUSMzut1"
      },
      "source": [
        "---"
      ]
    }
  ]
}