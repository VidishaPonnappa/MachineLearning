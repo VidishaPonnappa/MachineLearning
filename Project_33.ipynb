{
  "nbformat": 4,
  "nbformat_minor": 0,
  "metadata": {
    "colab": {
      "provenance": [],
      "include_colab_link": true
    },
    "kernelspec": {
      "name": "python3",
      "display_name": "Python 3"
    }
  },
  "cells": [
    {
      "cell_type": "markdown",
      "metadata": {
        "id": "view-in-github",
        "colab_type": "text"
      },
      "source": [
        "<a href=\"https://colab.research.google.com/github/VidishaPonnappa/MachineLearning/blob/main/Project_33.ipynb\" target=\"_parent\"><img src=\"https://colab.research.google.com/assets/colab-badge.svg\" alt=\"Open In Colab\"/></a>"
      ]
    },
    {
      "cell_type": "markdown",
      "metadata": {
        "id": "bEyBzxYRhrLG"
      },
      "source": [
        "#### Goals :\n",
        "\n",
        "  1. Filter Strings from List\n",
        "  2. List with no Duplicates\n",
        "  3. Reverse elements of Tuple"
      ]
    },
    {
      "cell_type": "markdown",
      "metadata": {
        "id": "DPOFIO3EHncO"
      },
      "source": [
        "---"
      ]
    },
    {
      "cell_type": "markdown",
      "metadata": {
        "id": "q4fH06mIjuK3"
      },
      "source": [
        "#### 1. Filter out Strings\n",
        "\n",
        "Given a list which contains both integer and string values, create a function that returns a new list without the strings using List comprehension method.\n",
        "\n",
        "**Constraint**:\n",
        "\n",
        "- Consider only non-negative integers"
      ]
    },
    {
      "cell_type": "code",
      "metadata": {
        "id": "4EAoTskqg041",
        "colab": {
          "base_uri": "https://localhost:8080/"
        },
        "outputId": "faa426a5-5a53-4eef-c39c-3025083484c4"
      },
      "source": [
        "# Write your code here\n",
        "# Define a function which will take list as a parameter\n",
        "  # This function returns only those items of list whose type is int. Specify this using list comprehension.\n",
        "#Call the function\n",
        "def intlist(l):\n",
        "  a=[i for i in l if type(i)==int]\n",
        "  return a\n",
        "intlist([1,2,3,'apple'])"
      ],
      "execution_count": null,
      "outputs": [
        {
          "output_type": "execute_result",
          "data": {
            "text/plain": [
              "[1, 2, 3]"
            ]
          },
          "metadata": {
            "tags": []
          },
          "execution_count": 1
        }
      ]
    },
    {
      "cell_type": "markdown",
      "metadata": {
        "id": "xJlPs9X9oeRw"
      },
      "source": [
        "---"
      ]
    },
    {
      "cell_type": "markdown",
      "metadata": {
        "id": "qA-b1CdeofKc"
      },
      "source": [
        "#### 2. List with No Duplicates\n",
        "\n",
        "Given a list of elements, write a program to print a new sorted list with no duplicate values."
      ]
    },
    {
      "cell_type": "code",
      "metadata": {
        "id": "AtvPTG3kpBoS",
        "colab": {
          "base_uri": "https://localhost:8080/"
        },
        "outputId": "99c034ce-132f-4676-9b33-594447adb92d"
      },
      "source": [
        "def sortsimplelist(l):\n",
        "  a=[]\n",
        "  for i in l:\n",
        "    if i not in a:\n",
        "      a.append(i)\n",
        "  a.sort()\n",
        "  return a\n",
        "sortsimplelist([1,1,1,2,3,4,5,9,2,6,27,14])"
      ],
      "execution_count": null,
      "outputs": [
        {
          "output_type": "execute_result",
          "data": {
            "text/plain": [
              "[1, 2, 3, 4, 5, 6, 9, 14, 27]"
            ]
          },
          "metadata": {
            "tags": []
          },
          "execution_count": 2
        }
      ]
    },
    {
      "cell_type": "markdown",
      "metadata": {
        "id": "KOVBiUSMzut1"
      },
      "source": [
        "---"
      ]
    },
    {
      "cell_type": "markdown",
      "metadata": {
        "id": "b4aeCDi0pkJz"
      },
      "source": [
        "#### Activity 3: Reverse the elements of a Tuple\n",
        "\n",
        "Given `n` elements of different types in a tuple, write a program to print the elements of that tuple in a reverse order using negative indexing."
      ]
    },
    {
      "cell_type": "code",
      "metadata": {
        "id": "d5ufKLNYzsIl",
        "colab": {
          "base_uri": "https://localhost:8080/"
        },
        "outputId": "9453a403-51f5-4ac3-a3a3-1be90b847f1a"
      },
      "source": [
        "# Write your code here\n",
        "def revt(t):\n",
        "  print('Original tuple: ',t)\n",
        "  print('Tuple in reverse order: ')\n",
        "  for i in range(-1,-len(t),-1):\n",
        "    print(t[i])\n",
        "revt((1,2,3,4,5,'a'))"
      ],
      "execution_count": null,
      "outputs": [
        {
          "output_type": "stream",
          "text": [
            "Original tuple:  (1, 2, 3, 4, 5, 'a')\n",
            "Tuple in reverse order: \n",
            "a\n",
            "5\n",
            "4\n",
            "3\n",
            "2\n"
          ],
          "name": "stdout"
        }
      ]
    }
  ]
}