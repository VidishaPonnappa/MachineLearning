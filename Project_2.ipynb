{
  "nbformat": 4,
  "nbformat_minor": 0,
  "metadata": {
    "colab": {
      "provenance": [],
      "include_colab_link": true
    },
    "kernelspec": {
      "name": "python3",
      "display_name": "Python 3"
    }
  },
  "cells": [
    {
      "cell_type": "markdown",
      "metadata": {
        "id": "view-in-github",
        "colab_type": "text"
      },
      "source": [
        "<a href=\"https://colab.research.google.com/github/VidishaPonnappa/MachineLearning/blob/main/Project_2.ipynb\" target=\"_parent\"><img src=\"https://colab.research.google.com/assets/colab-badge.svg\" alt=\"Open In Colab\"/></a>"
      ]
    },
    {
      "cell_type": "markdown",
      "metadata": {
        "id": "q4fH06mIjuK3"
      },
      "source": [
        "#### 1. Print Even Numbers"
      ]
    },
    {
      "cell_type": "code",
      "metadata": {
        "id": "4EAoTskqg041"
      },
      "source": [
        "# Print Even numbers from 60 - 100\n",
        "num=60\n",
        "while num<101:\n",
        "  print(num)\n",
        "  num+=2"
      ],
      "execution_count": null,
      "outputs": []
    },
    {
      "cell_type": "markdown",
      "metadata": {
        "id": "xJlPs9X9oeRw"
      },
      "source": [
        "---"
      ]
    },
    {
      "cell_type": "markdown",
      "metadata": {
        "id": "qA-b1CdeofKc"
      },
      "source": [
        "#### 2. Football Points"
      ]
    },
    {
      "cell_type": "code",
      "metadata": {
        "id": "AtvPTG3kpBoS",
        "colab": {
          "base_uri": "https://localhost:8080/",
          "height": 85
        },
        "outputId": "f5a99257-3c86-4739-e2e0-c33b38aa3acc"
      },
      "source": [
        "# Solution\n",
        "# Step 1: Ask the user to enter the number of wins, draws and losses\n",
        "match_win=int(input('Enter the number of matches won by the football team: '))\n",
        "match_draw=int(input('Enter the number of matches ended as a draw: '))\n",
        "match_loss=int(input('Enter the number of matches that the football team has lost: '))\n",
        "# Step 2: Initialize 'total' variable with '0'\n",
        "total=0\n",
        "# Step 3: Calculate the win points by multiplying the number of wins by 3\n",
        "winpoints=match_win*3\n",
        "# Step 4: Add the values stored in 'win_points' and draws and store the result in 'total'\n",
        "total=winpoints+match_draw\n",
        "# Step 5: Print the value stored in variable 'total'\n",
        "print('The total points is {}. Good Job!'.format(total))"
      ],
      "execution_count": null,
      "outputs": [
        {
          "output_type": "stream",
          "text": [
            "Enter the number of matches won by the football team: 20\n",
            "Enter the number of matches ended as a draw: 3\n",
            "Enter the number of matches that the football team has lost: 7\n",
            "The total points is 63. Good Job!\n"
          ],
          "name": "stdout"
        }
      ]
    },
    {
      "cell_type": "markdown",
      "metadata": {
        "id": "KOVBiUSMzut1"
      },
      "source": [
        "---"
      ]
    },
    {
      "cell_type": "markdown",
      "metadata": {
        "id": "omNV0VCwzzNK"
      },
      "source": [
        "#### Activity 3: On/Off Switches\n",
        "\n",
        "Create a program that ask the user to enter the number of switches and calculates the possible outcomes that can come from those many number of switches (on / off).\n",
        "\n",
        "<img src='https://i.imgur.com/D8ch79V.png' width = 150/>\n",
        "\n",
        "**Examples**\n",
        "\n",
        "possible outcomes that can come from 1 switch ➞ 2 (`on`, `off`)\n",
        "\n",
        "possible outcomes that can come from 3 switches ➞ 8 ((`on` `on` `on`), (`on` `on` `off`), (`on` `off` `on`), (`off` `on` `on`), (`off` `off` `on`), (`off` `off` `off`), (`off` `on` `off`), (`on` `off` `off`))\n",
        "\n",
        "possible outcomes that can come from 10 switches ➞ 1024"
      ]
    },
    {
      "cell_type": "markdown",
      "metadata": {
        "id": "SI87SJh9g5PN"
      },
      "source": [
        "Follow the steps given below to achieve the desired result:\n",
        "\n",
        "- **Step 1**: Get the number of **switches** from the user and store it in a variable (lets say `switches`).\n",
        "\n",
        "- **Step 2**: Initialize 3 variables `max_poss = 2`, `i = 1` and `power = 1`, where,\n",
        "    \n",
        "    - `max_poss = 2` denotes the maximum possibile outcome of 1 switch (i.e. **on** and **off**),\n",
        "    \n",
        "    - `i` is used to set the condition in `while` loop and it will keep incrementing unless all the switches are over.\n",
        "    \n",
        "    - `power` variable is further used to store the result.  \n",
        "\n",
        "- **Step 3**: Define a `while` loop with a condition to execute till the value of `i` is less than or equal to `switches`.\n",
        "\n",
        "- **Step 4**: Inside the `while` loop,\n",
        "\n",
        "    - Multiply the value stored in `max_poss` with `power` and store the result in `power`.\n",
        "\n",
        "    - Increment the value of `i` by `1`.\n",
        "\n",
        "For eg: When `switches = 2`, In the $1^{st}$ iteration, `power = 2` and in the $2^{nd}$ iteration, `power = 2 * 2` i.e. `4`. This indicates that, the number of possible outcomes = $2^{switches}$, where `switches` denotes the number of switches.\n",
        "\n",
        "- **Step 5**: Print the total number of possible outcomes stored in variable `power`."
      ]
    },
    {
      "cell_type": "code",
      "metadata": {
        "id": "3ekesgnN2ELc",
        "colab": {
          "base_uri": "https://localhost:8080/",
          "height": 85
        },
        "outputId": "c1d3f909-eb40-4f3a-8767-19135e507a7e"
      },
      "source": [
        "import math\n",
        "# Step 1: Get the number of switches as an integer and store it in a variable.\n",
        "switches=int(input('Enter the number of switches: '))\n",
        "\n",
        "# Step 2: Initialize 3 variables 'max_poss = 2', 'i = 1' & 'power = 1'\n",
        "max_poss,i,power=2,1,1\n",
        "\n",
        "# Step 3: Define a while loop with a condition to execute till the value of 'i <= switches'\n",
        "# Step 4: Multiply 'max_poss' with 'power' and store the result in 'power'\n",
        "# Increment the value of 'i' by '1'\n",
        "# Step 5: Print the total number of possible outcomes stored in 'power'\n",
        "while i<=switches:\n",
        "  power*=max_poss\n",
        "  i+=1\n",
        "print('The total number of outcomes are: ',power)\n",
        "\n",
        "#Simpler method for the same result\n",
        "#import statement is in line1\n",
        "num=int(input('Enter the number of switches: '))\n",
        "print('The total number of outcomes are: ',int(math.pow(2,num)))\n",
        "\n",
        "\n"
      ],
      "execution_count": null,
      "outputs": [
        {
          "output_type": "stream",
          "text": [
            "Enter the number of switches: 10\n",
            "The total number of outcomes are  1024\n",
            "Enter the number of switches: 10\n",
            "The total number of outcomes are:  1024\n"
          ],
          "name": "stdout"
        }
      ]
    },
    {
      "cell_type": "markdown",
      "metadata": {
        "id": "QQw2Bqml3ZN0"
      },
      "source": [
        "---"
      ]
    },
    {
      "cell_type": "markdown",
      "metadata": {
        "id": "2zrpyFDCQm3i"
      },
      "source": [
        "### Submitting the Project:\n",
        "\n",
        "1. After finishing the project, click on the **Share** button on the top right corner of the notebook. A new dialog box will appear.\n",
        "\n",
        "  <img src='https://student-datasets-bucket.s3.ap-south-1.amazonaws.com/images/project-share-images/2_share_button.png' width=500>\n",
        "\n",
        "2. In the dialog box, make sure that '**Anyone on the Internet with this link can view**' option is selected and then click on the **Copy link** button.\n",
        "\n",
        "   <img src='https://student-datasets-bucket.s3.ap-south-1.amazonaws.com/images/project-share-images/3_copy_link.png' width=500>\n",
        "\n",
        "3. The link of the duplicate copy (named as **YYYY-MM-DD_StudentName_Project2**) of the notebook will get copied\n",
        "\n",
        "   <img src='https://student-datasets-bucket.s3.ap-south-1.amazonaws.com/images/project-share-images/4_copy_link_confirmation.png' width=500>\n",
        "\n",
        "4. Go to your dashboard and click on the **My Projects** option.\n",
        "   \n",
        "   <img src='https://student-datasets-bucket.s3.ap-south-1.amazonaws.com/images/project-share-images/5_student_dashboard.png' width=800>\n",
        "\n",
        "  <img src='https://student-datasets-bucket.s3.ap-south-1.amazonaws.com/images/project-share-images/6_my_projects.png' width=800>\n",
        "\n",
        "5. Click on the **View Project** button for the project you want to submit.\n",
        "\n",
        "   <img src='https://student-datasets-bucket.s3.ap-south-1.amazonaws.com/images/project-share-images/7_view_project.png' width=800>\n",
        "\n",
        "6. Click on the **Submit Project Here** button.\n",
        "\n",
        "   <img src='https://student-datasets-bucket.s3.ap-south-1.amazonaws.com/images/project-share-images/8_submit_project.png' width=800>\n",
        "\n",
        "7. Paste the link to the project file named as **YYYY-MM-DD_StudentName_Project2** in the URL box and then click on the **Submit** button.\n",
        "\n",
        "   <img src='https://student-datasets-bucket.s3.ap-south-1.amazonaws.com/images/project-share-images/9_enter_project_url.png' width=800>"
      ]
    },
    {
      "cell_type": "markdown",
      "metadata": {
        "id": "HSz7jRSlGxIO"
      },
      "source": [
        "---"
      ]
    }
  ]
}