{
  "nbformat": 4,
  "nbformat_minor": 0,
  "metadata": {
    "colab": {
      "provenance": [],
      "include_colab_link": true
    },
    "kernelspec": {
      "name": "python3",
      "display_name": "Python 3"
    }
  },
  "cells": [
    {
      "cell_type": "markdown",
      "metadata": {
        "id": "view-in-github",
        "colab_type": "text"
      },
      "source": [
        "<a href=\"https://colab.research.google.com/github/VidishaPonnappa/MachineLearning/blob/main/Project_48.ipynb\" target=\"_parent\"><img src=\"https://colab.research.google.com/assets/colab-badge.svg\" alt=\"Open In Colab\"/></a>"
      ]
    },
    {
      "cell_type": "markdown",
      "metadata": {
        "id": "fIKnY8occu37"
      },
      "source": [
        "#### Goals :\n",
        "\n",
        "1. Isogram Word\n",
        "2. Will the Cargo Fit?\n",
        "\n",
        "\n"
      ]
    },
    {
      "cell_type": "markdown",
      "metadata": {
        "id": "9oVvUZZCPxxl"
      },
      "source": [
        "---"
      ]
    },
    {
      "cell_type": "markdown",
      "metadata": {
        "id": "0dG-Pm9-UpYh"
      },
      "source": [
        "#### 1. Isogram Word\n",
        "\n",
        "An isogram is a word that has no repeating letters, consecutive or non-consecutive.\n",
        "\n",
        "Given a word as a string, write a program to find whether the word is an isogram or not.\n",
        "\n",
        "**Constraint**:\n",
        "\n",
        "- Ignore letter case (should not be case sensitive).\n",
        "\n",
        "- All test cases contain a valid one-word string."
      ]
    },
    {
      "cell_type": "code",
      "metadata": {
        "id": "yYlWfTFxUx8C",
        "colab": {
          "base_uri": "https://localhost:8080/"
        },
        "outputId": "f2279d1a-2a8b-4a3d-d6f8-c6e5f906cf5d"
      },
      "source": [
        "#  Write your solution here:\n",
        "def iso(a):\n",
        "  word=[a[i].lower() for i in range(len(a))]\n",
        "  for j in word:\n",
        "    if word.count(j)>1:\n",
        "      return 'Not an isogram'\n",
        "    elif word.count(j)==1:\n",
        "      continue\n",
        "  return 'Isogram'\n",
        "\n",
        "print(iso('cOat'))\n",
        "print(iso('Password'))"
      ],
      "execution_count": null,
      "outputs": [
        {
          "output_type": "stream",
          "text": [
            "Isogram\n",
            "Not an isogram\n"
          ],
          "name": "stdout"
        }
      ]
    },
    {
      "cell_type": "markdown",
      "metadata": {
        "id": "ftOXrP5NUzsZ"
      },
      "source": [
        "---"
      ]
    },
    {
      "cell_type": "markdown",
      "metadata": {
        "id": "BVT9G_baB1aq"
      },
      "source": [
        "#### 2. Does the Cargo Fit?\n",
        "\n",
        "A ship has to transport cargo from one place to another, while picking up cargo along the way. Given the total amount of cargo and the types of cargo holds in the ship as lists, create a function (let's say `will_fit()`) that returns `True` if each weight of cargo can fit in one hold, and `False` if it can't.\n",
        "\n",
        "- \"S\" means 50 cargo space.\n",
        "\n",
        "- \"M\" means 100 cargo space.\n",
        "\n",
        "- \"L\" means 200 cargo space."
      ]
    },
    {
      "cell_type": "code",
      "metadata": {
        "id": "0pIGxKG9B3mb",
        "colab": {
          "base_uri": "https://localhost:8080/"
        },
        "outputId": "9f7b0942-d6be-4e41-d0e3-b03a44258469"
      },
      "source": [
        "# Write your solution here:\n",
        "def willfit(size,items):\n",
        "  d={'S':50,'M':100,'L':200}\n",
        "  total=sum(items)\n",
        "  t=0\n",
        "  for i in size:\n",
        "    t+=d[i]\n",
        "  if t>total:\n",
        "    return True\n",
        "  else:\n",
        "    return False\n",
        "\n",
        "print(willfit([\"S\", \"S\", \"S\", \"S\", \"L\"], [40, 50, 60, 70 , 80, 90, 200]))\n",
        "print(willfit([\"M\", \"L\", \"L\", \"M\"], [56, 62, 84, 90]))"
      ],
      "execution_count": null,
      "outputs": [
        {
          "output_type": "stream",
          "text": [
            "False\n",
            "True\n"
          ],
          "name": "stdout"
        }
      ]
    },
    {
      "cell_type": "markdown",
      "metadata": {
        "id": "IJIZASayCpEW"
      },
      "source": [
        "---"
      ]
    }
  ]
}