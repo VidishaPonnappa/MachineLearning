{
  "nbformat": 4,
  "nbformat_minor": 0,
  "metadata": {
    "colab": {
      "provenance": [],
      "include_colab_link": true
    },
    "kernelspec": {
      "name": "python3",
      "display_name": "Python 3"
    }
  },
  "cells": [
    {
      "cell_type": "markdown",
      "metadata": {
        "id": "view-in-github",
        "colab_type": "text"
      },
      "source": [
        "<a href=\"https://colab.research.google.com/github/VidishaPonnappa/MachineLearning/blob/main/Project_21.ipynb\" target=\"_parent\"><img src=\"https://colab.research.google.com/assets/colab-badge.svg\" alt=\"Open In Colab\"/></a>"
      ]
    },
    {
      "cell_type": "markdown",
      "metadata": {
        "id": "q4fH06mIjuK3"
      },
      "source": [
        "#### Activity 1: Palindrome Number\n",
        "\n",
        "Write a program which takes a number as an input and find out whether the number is a palindrome or not.\n",
        "\n"
      ]
    },
    {
      "cell_type": "code",
      "metadata": {
        "id": "4EAoTskqg041",
        "colab": {
          "base_uri": "https://localhost:8080/"
        },
        "outputId": "842fedde-36d5-4206-ed76-4abbb3aacef9"
      },
      "source": [
        "# Write your code here\n",
        "def pal(a):\n",
        "  b=''\n",
        "  for i in a:\n",
        "    b=i+b\n",
        "  if b==a:\n",
        "    print('Palindrome')\n",
        "  else:\n",
        "    print('Not a palindrome')\n",
        "a=input('Enter: ')\n",
        "pal(a)"
      ],
      "execution_count": null,
      "outputs": [
        {
          "output_type": "stream",
          "text": [
            "Enter: 121\n",
            "Palindrome\n"
          ],
          "name": "stdout"
        }
      ]
    },
    {
      "cell_type": "markdown",
      "metadata": {
        "id": "xJlPs9X9oeRw"
      },
      "source": [
        "---"
      ]
    },
    {
      "cell_type": "markdown",
      "metadata": {
        "id": "qA-b1CdeofKc"
      },
      "source": [
        "#### Activity 2: Two Distinct Elements\n",
        "\n",
        "Create a function that returns the unique numbers within a list. Unique numbers are those numbers which occurred only once inside the list.\n",
        "\n",
        "**Constraint**\n",
        "\n",
        "Keep the same ordering in the output."
      ]
    },
    {
      "cell_type": "code",
      "metadata": {
        "id": "AtvPTG3kpBoS",
        "colab": {
          "base_uri": "https://localhost:8080/"
        },
        "outputId": "eaec3dfc-b927-4721-99d9-49f11c78be9b"
      },
      "source": [
        "# Write your solution here\n",
        "a=input('Enter your number or press n: ')\n",
        "l=[]\n",
        "while a!= 'n':\n",
        "  a=int(a)\n",
        "  l.append(a)\n",
        "  a=input('Enter your number or press n: ')\n",
        "print(l)\n",
        "\n",
        "l2=[]\n",
        "\n",
        "for i in l:\n",
        "  b=(l.count(i))\n",
        "  l2.append(b)\n",
        "print(l2)\n",
        "\n",
        "for i in l2:\n",
        "  if l2[i]==1:\n",
        "    print(l[i])"
      ],
      "execution_count": null,
      "outputs": [
        {
          "output_type": "stream",
          "text": [
            "Enter your number or press n: 1\n",
            "Enter your number or press n: 1\n",
            "Enter your number or press n: 2\n",
            "Enter your number or press n: n\n",
            "[1, 1, 2]\n",
            "[2, 2, 1]\n",
            "2\n",
            "2\n"
          ],
          "name": "stdout"
        }
      ]
    },
    {
      "cell_type": "markdown",
      "metadata": {
        "id": "KOVBiUSMzut1"
      },
      "source": [
        "---"
      ]
    }
  ]
}