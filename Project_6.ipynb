{
  "nbformat": 4,
  "nbformat_minor": 0,
  "metadata": {
    "colab": {
      "provenance": [],
      "include_colab_link": true
    },
    "kernelspec": {
      "name": "python3",
      "display_name": "Python 3"
    }
  },
  "cells": [
    {
      "cell_type": "markdown",
      "metadata": {
        "id": "view-in-github",
        "colab_type": "text"
      },
      "source": [
        "<a href=\"https://colab.research.google.com/github/VidishaPonnappa/MachineLearning/blob/main/Project_6.ipynb\" target=\"_parent\"><img src=\"https://colab.research.google.com/assets/colab-badge.svg\" alt=\"Open In Colab\"/></a>"
      ]
    },
    {
      "cell_type": "markdown",
      "metadata": {
        "id": "q4fH06mIjuK3"
      },
      "source": [
        "#### 1. Fibonacci Series"
      ]
    },
    {
      "cell_type": "code",
      "metadata": {
        "id": "4EAoTskqg041",
        "outputId": "aa03e74a-f914-4ea2-fa05-75b2c0c91c5c",
        "colab": {
          "base_uri": "https://localhost:8080/",
          "height": 51
        }
      },
      "source": [
        "# Step 1: Create a function 'series(n)'\n",
        "def series(n):\n",
        "  n1,n2=0,1\n",
        "  n1=int(n1)\n",
        "  n2=int(n2)\n",
        "  # Step 2: Initialize 'n1' and 'n2' variables\n",
        "  # Step 3: Initialize 'count' variable\n",
        "  count=0\n",
        "  # Step 4: Check whether 'n'<=0\n",
        "  while n<=0:\n",
        "    print('Invalid.')\n",
        "    n=int(input('Enter the number whose series you require: '))\n",
        "    # Step 5: Run a while loop till 'count' < 'n\n",
        "  print(n1,n2, end=' ')\n",
        "  for i in range(n-2):\n",
        "    count=n1+n2\n",
        "    print(count,end=' ')\n",
        "    n1+=n2\n",
        "    n2=count\n",
        "    # Perform Step 6\n",
        "# Step 7: Call 'series()' function\n",
        "n=int(input('Enter the number whose series you require: '))\n",
        "series(n)"
      ],
      "execution_count": null,
      "outputs": [
        {
          "output_type": "stream",
          "text": [
            "Enter the number whose series you require: 7\n",
            "0 1 0 1 2 4 8 "
          ],
          "name": "stdout"
        }
      ]
    },
    {
      "cell_type": "markdown",
      "metadata": {
        "id": "xJlPs9X9oeRw"
      },
      "source": [
        "---"
      ]
    },
    {
      "cell_type": "markdown",
      "metadata": {
        "id": "qA-b1CdeofKc"
      },
      "source": [
        "#### Activity 2: Find the missing number"
      ]
    },
    {
      "cell_type": "code",
      "metadata": {
        "id": "AtvPTG3kpBoS",
        "outputId": "7ea9e3c0-8817-44ab-8455-bc821ef6eabb",
        "colab": {
          "base_uri": "https://localhost:8080/",
          "height": 289
        }
      },
      "source": [
        "# Write a program to find the missing number in the list\n",
        "def missing_num(list):\n",
        "  for i in range(1,11):\n",
        "    if i not in list:\n",
        "      print ('The missing number is {}.'.format(i))\n",
        "\n",
        "l=[]\n",
        "for i in range(9):\n",
        "  a=input('Enter a value between 0 to 10: ')\n",
        "  while a not in ['0','1','2','3','4','5','6','7','8','9','10']:\n",
        "    print('Invalid.')\n",
        "    a=input('Enter a value between 0 to 10: ')\n",
        "  a=int(a)\n",
        "  l.append(a)\n",
        "\n",
        "missing_num(l)"
      ],
      "execution_count": null,
      "outputs": [
        {
          "output_type": "stream",
          "text": [
            "Enter a value between 0 to 10: 2\n",
            "Enter a value between 0 to 10: 0.5\n",
            "Invalid.\n",
            "Enter a value between 0 to 10: a\n",
            "Invalid.\n",
            "Enter a value between 0 to 10:  \n",
            "Invalid.\n",
            "Enter a value between 0 to 10: 3\n",
            "Enter a value between 0 to 10: 4\n",
            "Enter a value between 0 to 10: 5\n",
            "Enter a value between 0 to 10: 6\n",
            "Enter a value between 0 to 10: 8\n",
            "Enter a value between 0 to 10: 9\n",
            "Enter a value between 0 to 10: 10\n",
            "Enter a value between 0 to 10: 1\n",
            "The missing number is  7 !\n"
          ],
          "name": "stdout"
        }
      ]
    },
    {
      "cell_type": "markdown",
      "metadata": {
        "id": "KOVBiUSMzut1"
      },
      "source": [
        "---"
      ]
    }
  ]
}