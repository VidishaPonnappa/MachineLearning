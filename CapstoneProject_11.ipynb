{
  "nbformat": 4,
  "nbformat_minor": 0,
  "metadata": {
    "colab": {
      "provenance": [],
      "include_colab_link": true
    },
    "kernelspec": {
      "name": "python3",
      "display_name": "Python 3"
    }
  },
  "cells": [
    {
      "cell_type": "markdown",
      "metadata": {
        "id": "view-in-github",
        "colab_type": "text"
      },
      "source": [
        "<a href=\"https://colab.research.google.com/github/VidishaPonnappa/MachineLearning/blob/main/CapstoneProject_11.ipynb\" target=\"_parent\"><img src=\"https://colab.research.google.com/assets/colab-badge.svg\" alt=\"Open In Colab\"/></a>"
      ]
    },
    {
      "cell_type": "markdown",
      "metadata": {
        "id": "kZX0UKRjlsaT"
      },
      "source": [
        "# Project 11: Video Game Sales Analysis - Grouping & Aggregation"
      ]
    },
    {
      "cell_type": "markdown",
      "metadata": {
        "id": "ovFh8SYI6Ccf"
      },
      "source": [
        "### Context\n",
        "\n",
        "Video games creation is essentially a software development process.  A group of individuals or a company create a video game with the aim of massive profits. Generally, publishers such as EA Sports, Atari, Rockstar Games etc. fund the game development process. However, for publishers, it is very important to estimate the cost of development of a video game. Additionally, they also have to allocate the right amount of budget. If the budget is too little, the quality of a game will get compromised whereas if the budget is too much, their profit margin will reduce. Most of the commercial games do not generate adequate profit.\n",
        "\n",
        "A video game is an interactive visual story. A new game must provide novelty and must be a product of innovation. Otherwise, it may turn out repetitive and boring. Many individual groups of game developers shut down their development process and exit the market because they cannot find a publisher or they can't fund the development by themselves as the initial capital investment requirement is humongous. Nevertheless, once the companies become financially stable by making sufficient profits, they may expand to develop newer games or sequels to the initial ones such as FIFA, Call of Duty, Age of Empires etc.\n",
        "\n",
        "An average development budget for a multiplatform (PC, PS, Xbox etc.) game is US \\$18 to 28 million, with high-profile games often exceeding US $40 million.\n",
        "\n"
      ]
    },
    {
      "cell_type": "markdown",
      "metadata": {
        "id": "r4MxDAGZaRi4"
      },
      "source": [
        "---"
      ]
    },
    {
      "cell_type": "markdown",
      "metadata": {
        "id": "LrQxEISzaSMt"
      },
      "source": [
        "### Problem Statement\n",
        "\n",
        "Imagine that you work for one of the world's biggest tech giants as a data analyst. The company intends to venture into the video game development business by either creating their own video games and gaming platforms or by funding a group of individual game developers.\n",
        "\n",
        "As a part of market research, your CEO wants to come up with a business strategy to enable your company to enter into the video game development business. However, in the best interest of companies financial investment in this project, it is important to know whether there are enough buyers, in the long run, do the number of buyers increase so that they stay invested in this project.\n",
        "\n",
        "Your CEO would like to know what kind of games are most popular in terms of the most units sold, what are the most commonly used gaming platforms such as PS4, Xbox, PC etc."
      ]
    },
    {
      "cell_type": "markdown",
      "metadata": {
        "id": "0k1KpbT9aQww"
      },
      "source": [
        "---"
      ]
    },
    {
      "cell_type": "markdown",
      "metadata": {
        "id": "_ViWL6RCjkFw"
      },
      "source": [
        "#### Getting Started\n",
        "\n",
        "Follow the steps described below to solve the project:\n",
        "\n",
        "1. Click on the link provided below to open the Colab file for this project.\n",
        "   \n",
        "   https://colab.research.google.com/drive/1nXtn3CB3jwX8TiBuAPLLU9JiuM3X_w8z?usp=sharing\n",
        "\n",
        "2. Create the duplicate copy of the Colab file. Here are the steps to create the duplicate copy:\n",
        "\n",
        "    - Click on the **File** menu. A new drop-down list will appear.\n",
        "\n",
        "      <img src='https://student-datasets-bucket.s3.ap-south-1.amazonaws.com/images/project-share-images/0_file_menu.png' width=500>\n",
        "\n",
        "    - Click on the **Save a copy in Drive** option. A duplicate copy will get created. It will open up in the new tab on your web browser.\n",
        "\n",
        "      <img src='https://student-datasets-bucket.s3.ap-south-1.amazonaws.com/images/project-share-images/1_create_colab_duplicate_copy.png' width=500>\n",
        "\n",
        "     - After creating the duplicate copy of the notebook, please rename it in the **YYYY-MM-DD_StudentName_CapstoneProject11** format.\n",
        "\n",
        "3. Now, write your code in the prescribed code cells."
      ]
    },
    {
      "cell_type": "markdown",
      "metadata": {
        "id": "4EvXFu3C4bH4"
      },
      "source": [
        "### Dataset Description\n",
        "\n",
        "You are provided with a video games sales dataset. It consists of the following features:\n",
        "\n",
        "1. `Rank` - Rank based on the number of units sold of a game. The most sold game is ranked 1.\n",
        "\n",
        "2. `Name` - The name of a video game.\n",
        "\n",
        "3. `Platform` - The platform (PC, PS4, XBox etc.) for which a game is released.\n",
        "\n",
        "4. `Year` - The release year of a video game.\n",
        "\n",
        "5. `Genre` - The genre of a video game.\n",
        "\n",
        "6. `Publisher` - The publisher of a video game.\n",
        "\n",
        "7. `NA_Sales` - Approximately, the total number of units sold (in million) of a video game in North America.\n",
        "\n",
        "8. `EU_Sales` - Approximately, the total number of units sold (in million) of a video game in Europe.\n",
        "\n",
        "9. `JP_Sales` - Approximately, the total number of units sold (in million) of a video game in Japan.\n",
        "\n",
        "10. `Other_Sales` - Approximately, the total number of units sold (in million) of a video game in the rest of the world.\n",
        "\n",
        "11. `Global_Sales` - Approximately, the total number of units sold (in million) of a video game all over the world.\n",
        "\n",
        "Here's a link to the dataset:\n",
        "\n",
        "https://student-datasets-bucket.s3.ap-south-1.amazonaws.com/whitehat-ds-datasets/video-games-sales/video-game-sales.csv"
      ]
    },
    {
      "cell_type": "markdown",
      "metadata": {
        "id": "Ql315hOw68cq"
      },
      "source": [
        "---"
      ]
    },
    {
      "cell_type": "markdown",
      "metadata": {
        "id": "xC6ILjfc6-UM"
      },
      "source": [
        "### Things To Do\n",
        "\n",
        "- The `Year` and `Publisher` columns contain few missing values. Treat them accordingly.\n",
        "\n",
        "- Convert the values contained in the `Year` column into integer values.\n",
        "\n",
        "- Find out:\n",
        "\n",
        "  1. The trend of growth in the number of total units sold across the given regions and the world. Also create year-wise line plots for the total number of units sold across different regions and the world.\n",
        "  \n",
        "  2. Top 10 most sold genres of video games but at least 100 million units sold globally. Also create genre-wise line plots for the total number of units sold across different regions and the world.\n",
        "\n",
        "  3. Top 10 best publishers of video games but at least 100 million units sold globally.\n",
        "  \n",
        "  4. Top 10 most commonly used gaming platform but at least 100 million units sold globally."
      ]
    },
    {
      "cell_type": "markdown",
      "metadata": {
        "id": "Ca9sX56O69PL"
      },
      "source": [
        "---"
      ]
    },
    {
      "cell_type": "markdown",
      "metadata": {
        "id": "l9oIFA80B70Z"
      },
      "source": [
        "#### 1. Import Modules & Load Data"
      ]
    },
    {
      "cell_type": "code",
      "metadata": {
        "id": "BfFy6Rh_w2e4"
      },
      "source": [
        "# Import the modules required.\n",
        "import pandas as pd"
      ],
      "execution_count": null,
      "outputs": []
    },
    {
      "cell_type": "code",
      "metadata": {
        "id": "3weGqD-5w9SV"
      },
      "source": [
        "# Load the dataset.\n",
        "df=pd.read_csv('https://student-datasets-bucket.s3.ap-south-1.amazonaws.com/whitehat-ds-datasets/video-games-sales/video-game-sales.csv')"
      ],
      "execution_count": null,
      "outputs": []
    },
    {
      "cell_type": "code",
      "metadata": {
        "id": "AfrNCnXMxAZW",
        "colab": {
          "base_uri": "https://localhost:8080/"
        },
        "outputId": "e42f94c6-469e-4d5d-8e9d-c59051c12f93"
      },
      "source": [
        "# Get the dataset information.\n",
        "df.info()"
      ],
      "execution_count": null,
      "outputs": [
        {
          "output_type": "stream",
          "text": [
            "<class 'pandas.core.frame.DataFrame'>\n",
            "RangeIndex: 16598 entries, 0 to 16597\n",
            "Data columns (total 11 columns):\n",
            " #   Column        Non-Null Count  Dtype  \n",
            "---  ------        --------------  -----  \n",
            " 0   Rank          16598 non-null  int64  \n",
            " 1   Name          16598 non-null  object \n",
            " 2   Platform      16598 non-null  object \n",
            " 3   Year          16327 non-null  float64\n",
            " 4   Genre         16598 non-null  object \n",
            " 5   Publisher     16540 non-null  object \n",
            " 6   NA_Sales      16598 non-null  float64\n",
            " 7   EU_Sales      16598 non-null  float64\n",
            " 8   JP_Sales      16598 non-null  float64\n",
            " 9   Other_Sales   16598 non-null  float64\n",
            " 10  Global_Sales  16598 non-null  float64\n",
            "dtypes: float64(6), int64(1), object(4)\n",
            "memory usage: 1.4+ MB\n"
          ],
          "name": "stdout"
        }
      ]
    },
    {
      "cell_type": "markdown",
      "metadata": {
        "id": "7KWq2P6cCZgh"
      },
      "source": [
        "---"
      ]
    },
    {
      "cell_type": "markdown",
      "metadata": {
        "id": "U13QyzyaCaMJ"
      },
      "source": [
        "#### 2. Treat Null Values"
      ]
    },
    {
      "cell_type": "code",
      "metadata": {
        "id": "SwcvisQwxDlX",
        "colab": {
          "base_uri": "https://localhost:8080/"
        },
        "outputId": "b2fa7174-89e8-44e4-c196-7ceb770d80ad"
      },
      "source": [
        "# Check for the null values in all the columns.\n",
        "df.isnull().sum()"
      ],
      "execution_count": null,
      "outputs": [
        {
          "output_type": "execute_result",
          "data": {
            "text/plain": [
              "Rank              0\n",
              "Name              0\n",
              "Platform          0\n",
              "Year            271\n",
              "Genre             0\n",
              "Publisher        58\n",
              "NA_Sales          0\n",
              "EU_Sales          0\n",
              "JP_Sales          0\n",
              "Other_Sales       0\n",
              "Global_Sales      0\n",
              "dtype: int64"
            ]
          },
          "metadata": {
            "tags": []
          },
          "execution_count": 21
        }
      ]
    },
    {
      "cell_type": "code",
      "metadata": {
        "id": "6emQ1pvq1qiX"
      },
      "source": [
        "# Remove the rows/columns containing the null values.\n",
        "df=df.dropna()"
      ],
      "execution_count": null,
      "outputs": []
    },
    {
      "cell_type": "code",
      "metadata": {
        "colab": {
          "base_uri": "https://localhost:8080/"
        },
        "id": "ZhiIfIQIXjxl",
        "outputId": "6da74bcc-a11a-4f96-f342-95c28c99cc34"
      },
      "source": [
        "df.isnull().sum()"
      ],
      "execution_count": null,
      "outputs": [
        {
          "output_type": "execute_result",
          "data": {
            "text/plain": [
              "Rank            0\n",
              "Name            0\n",
              "Platform        0\n",
              "Year            0\n",
              "Genre           0\n",
              "Publisher       0\n",
              "NA_Sales        0\n",
              "EU_Sales        0\n",
              "JP_Sales        0\n",
              "Other_Sales     0\n",
              "Global_Sales    0\n",
              "dtype: int64"
            ]
          },
          "metadata": {
            "tags": []
          },
          "execution_count": 23
        }
      ]
    },
    {
      "cell_type": "code",
      "metadata": {
        "id": "_8_qlOFN3kBX",
        "colab": {
          "base_uri": "https://localhost:8080/"
        },
        "outputId": "b2ca2d6d-1e4d-422f-ec98-236b95bee7d4"
      },
      "source": [
        "# Convert the data-type of the year values into integer values.\n",
        "df['Year']=df['Year'].astype('int')\n",
        "df.info()"
      ],
      "execution_count": null,
      "outputs": [
        {
          "output_type": "stream",
          "text": [
            "<class 'pandas.core.frame.DataFrame'>\n",
            "Int64Index: 16291 entries, 0 to 16597\n",
            "Data columns (total 11 columns):\n",
            " #   Column        Non-Null Count  Dtype  \n",
            "---  ------        --------------  -----  \n",
            " 0   Rank          16291 non-null  int64  \n",
            " 1   Name          16291 non-null  object \n",
            " 2   Platform      16291 non-null  object \n",
            " 3   Year          16291 non-null  int64  \n",
            " 4   Genre         16291 non-null  object \n",
            " 5   Publisher     16291 non-null  object \n",
            " 6   NA_Sales      16291 non-null  float64\n",
            " 7   EU_Sales      16291 non-null  float64\n",
            " 8   JP_Sales      16291 non-null  float64\n",
            " 9   Other_Sales   16291 non-null  float64\n",
            " 10  Global_Sales  16291 non-null  float64\n",
            "dtypes: float64(5), int64(2), object(4)\n",
            "memory usage: 1.5+ MB\n"
          ],
          "name": "stdout"
        }
      ]
    },
    {
      "cell_type": "markdown",
      "metadata": {
        "id": "I39H7SLOC2LJ"
      },
      "source": [
        "---"
      ]
    },
    {
      "cell_type": "markdown",
      "metadata": {
        "id": "vUHN05k0C4Mh"
      },
      "source": [
        "#### 3. Yearly Total Units Sold"
      ]
    },
    {
      "cell_type": "code",
      "metadata": {
        "id": "ZP0Px4gx38UT",
        "colab": {
          "base_uri": "https://localhost:8080/"
        },
        "outputId": "40d5d0e3-0019-4bb6-a9d5-dc07238befe8"
      },
      "source": [
        "# Find out the total number of units sold yearly across different regions and the world.\n",
        "total_yearly=df.loc[:,['Year', 'EU_Sales', 'JP_Sales', 'Other_Sales', 'Global_Sales']].groupby(df['Year']).sum()\n",
        "total_yearly.columns"
      ],
      "execution_count": null,
      "outputs": [
        {
          "output_type": "execute_result",
          "data": {
            "text/plain": [
              "Index(['Year', 'EU_Sales', 'JP_Sales', 'Other_Sales', 'Global_Sales'], dtype='object')"
            ]
          },
          "metadata": {
            "tags": []
          },
          "execution_count": 25
        }
      ]
    },
    {
      "cell_type": "code",
      "metadata": {
        "id": "sUsi9SjZch-5",
        "colab": {
          "base_uri": "https://localhost:8080/",
          "height": 266
        },
        "outputId": "8f438554-a575-4c9c-8041-cd84c5506a26"
      },
      "source": [
        "# Create the line plots for the total number of units sold yearly across different regions and the world.\n",
        "import matplotlib.pyplot as plt\n",
        "plt.plot(total_yearly['EU_Sales'],color='blue',label='EU')\n",
        "plt.plot(total_yearly['JP_Sales'],color='purple',label='JP')\n",
        "plt.plot(total_yearly['Other_Sales'],color='green',label='Other')\n",
        "plt.plot(total_yearly['Global_Sales'],color='red',label='Global')\n",
        "plt.legend()\n",
        "plt.show()"
      ],
      "execution_count": null,
      "outputs": [
        {
          "output_type": "display_data",
          "data": {
            "image/png": "[encoded data removed]",
            "text/plain": [
              "<Figure size 432x288 with 1 Axes>"
            ]
          },
          "metadata": {
            "tags": [],
            "needs_background": "light"
          }
        }
      ]
    },
    {
      "cell_type": "markdown",
      "metadata": {
        "id": "9ir2duqwgu20"
      },
      "source": [
        "**Q:** In which year, the most number of games were sold globally and how many?\n",
        "\n",
        "**A:** In 2008, Global_Sales was the highest with a record of around 678.9 sales."
      ]
    },
    {
      "cell_type": "code",
      "metadata": {
        "id": "XKEDFMMpg256",
        "colab": {
          "base_uri": "https://localhost:8080/",
          "height": 111
        },
        "outputId": "a66db5b2-448b-41dc-99e6-b61a49a38573"
      },
      "source": [
        "# In which year, the most number of games were sold globally and how many?\n",
        "total_yearly.loc[total_yearly['Global_Sales']==678.8999999999952,:]"
      ],
      "execution_count": null,
      "outputs": [
        {
          "output_type": "execute_result",
          "data": {
            "text/html": [
              "<div>\n",
              "<style scoped>\n",
              "    .dataframe tbody tr th:only-of-type {\n",
              "        vertical-align: middle;\n",
              "    }\n",
              "\n",
              "    .dataframe tbody tr th {\n",
              "        vertical-align: top;\n",
              "    }\n",
              "\n",
              "    .dataframe thead th {\n",
              "        text-align: right;\n",
              "    }\n",
              "</style>\n",
              "<table border=\"1\" class=\"dataframe\">\n",
              "  <thead>\n",
              "    <tr style=\"text-align: right;\">\n",
              "      <th></th>\n",
              "      <th>Year</th>\n",
              "      <th>EU_Sales</th>\n",
              "      <th>JP_Sales</th>\n",
              "      <th>Other_Sales</th>\n",
              "      <th>Global_Sales</th>\n",
              "    </tr>\n",
              "    <tr>\n",
              "      <th>Year</th>\n",
              "      <th></th>\n",
              "      <th></th>\n",
              "      <th></th>\n",
              "      <th></th>\n",
              "      <th></th>\n",
              "    </tr>\n",
              "  </thead>\n",
              "  <tbody>\n",
              "    <tr>\n",
              "      <th>2008</th>\n",
              "      <td>2867424</td>\n",
              "      <td>184.4</td>\n",
              "      <td>60.26</td>\n",
              "      <td>82.39</td>\n",
              "      <td>678.9</td>\n",
              "    </tr>\n",
              "  </tbody>\n",
              "</table>\n",
              "</div>"
            ],
            "text/plain": [
              "         Year  EU_Sales  JP_Sales  Other_Sales  Global_Sales\n",
              "Year                                                        \n",
              "2008  2867424     184.4     60.26        82.39         678.9"
            ]
          },
          "metadata": {
            "tags": []
          },
          "execution_count": 27
        }
      ]
    },
    {
      "cell_type": "code",
      "metadata": {
        "colab": {
          "base_uri": "https://localhost:8080/",
          "height": 452
        },
        "id": "VM7m6_pCeM0u",
        "outputId": "e1e8d144-92b8-43f7-dd38-f57c42116a73"
      },
      "source": [
        "gy=df.groupby(by='Genre')\n",
        "gy.agg({ 'EU_Sales':sum, 'JP_Sales':sum, 'Other_Sales':sum, 'Global_Sales':sum})"
      ],
      "execution_count": null,
      "outputs": [
        {
          "output_type": "execute_result",
          "data": {
            "text/html": [
              "<div>\n",
              "<style scoped>\n",
              "    .dataframe tbody tr th:only-of-type {\n",
              "        vertical-align: middle;\n",
              "    }\n",
              "\n",
              "    .dataframe tbody tr th {\n",
              "        vertical-align: top;\n",
              "    }\n",
              "\n",
              "    .dataframe thead th {\n",
              "        text-align: right;\n",
              "    }\n",
              "</style>\n",
              "<table border=\"1\" class=\"dataframe\">\n",
              "  <thead>\n",
              "    <tr style=\"text-align: right;\">\n",
              "      <th></th>\n",
              "      <th>EU_Sales</th>\n",
              "      <th>JP_Sales</th>\n",
              "      <th>Other_Sales</th>\n",
              "      <th>Global_Sales</th>\n",
              "    </tr>\n",
              "    <tr>\n",
              "      <th>Genre</th>\n",
              "      <th></th>\n",
              "      <th></th>\n",
              "      <th></th>\n",
              "      <th></th>\n",
              "    </tr>\n",
              "  </thead>\n",
              "  <tbody>\n",
              "    <tr>\n",
              "      <th>Action</th>\n",
              "      <td>516.48</td>\n",
              "      <td>158.65</td>\n",
              "      <td>184.92</td>\n",
              "      <td>1722.84</td>\n",
              "    </tr>\n",
              "    <tr>\n",
              "      <th>Adventure</th>\n",
              "      <td>63.74</td>\n",
              "      <td>51.99</td>\n",
              "      <td>16.70</td>\n",
              "      <td>234.59</td>\n",
              "    </tr>\n",
              "    <tr>\n",
              "      <th>Fighting</th>\n",
              "      <td>100.00</td>\n",
              "      <td>87.15</td>\n",
              "      <td>36.19</td>\n",
              "      <td>444.05</td>\n",
              "    </tr>\n",
              "    <tr>\n",
              "      <th>Misc</th>\n",
              "      <td>211.77</td>\n",
              "      <td>106.67</td>\n",
              "      <td>73.92</td>\n",
              "      <td>789.87</td>\n",
              "    </tr>\n",
              "    <tr>\n",
              "      <th>Platform</th>\n",
              "      <td>200.65</td>\n",
              "      <td>130.65</td>\n",
              "      <td>51.51</td>\n",
              "      <td>829.13</td>\n",
              "    </tr>\n",
              "    <tr>\n",
              "      <th>Puzzle</th>\n",
              "      <td>50.52</td>\n",
              "      <td>56.68</td>\n",
              "      <td>12.47</td>\n",
              "      <td>242.21</td>\n",
              "    </tr>\n",
              "    <tr>\n",
              "      <th>Racing</th>\n",
              "      <td>236.31</td>\n",
              "      <td>56.61</td>\n",
              "      <td>76.68</td>\n",
              "      <td>726.76</td>\n",
              "    </tr>\n",
              "    <tr>\n",
              "      <th>Role-Playing</th>\n",
              "      <td>187.57</td>\n",
              "      <td>350.29</td>\n",
              "      <td>59.38</td>\n",
              "      <td>923.83</td>\n",
              "    </tr>\n",
              "    <tr>\n",
              "      <th>Shooter</th>\n",
              "      <td>310.45</td>\n",
              "      <td>38.18</td>\n",
              "      <td>101.90</td>\n",
              "      <td>1026.20</td>\n",
              "    </tr>\n",
              "    <tr>\n",
              "      <th>Simulation</th>\n",
              "      <td>113.02</td>\n",
              "      <td>63.54</td>\n",
              "      <td>31.36</td>\n",
              "      <td>389.98</td>\n",
              "    </tr>\n",
              "    <tr>\n",
              "      <th>Sports</th>\n",
              "      <td>371.34</td>\n",
              "      <td>134.76</td>\n",
              "      <td>132.65</td>\n",
              "      <td>1309.24</td>\n",
              "    </tr>\n",
              "    <tr>\n",
              "      <th>Strategy</th>\n",
              "      <td>44.84</td>\n",
              "      <td>49.10</td>\n",
              "      <td>11.23</td>\n",
              "      <td>173.27</td>\n",
              "    </tr>\n",
              "  </tbody>\n",
              "</table>\n",
              "</div>"
            ],
            "text/plain": [
              "              EU_Sales  JP_Sales  Other_Sales  Global_Sales\n",
              "Genre                                                      \n",
              "Action          516.48    158.65       184.92       1722.84\n",
              "Adventure        63.74     51.99        16.70        234.59\n",
              "Fighting        100.00     87.15        36.19        444.05\n",
              "Misc            211.77    106.67        73.92        789.87\n",
              "Platform        200.65    130.65        51.51        829.13\n",
              "Puzzle           50.52     56.68        12.47        242.21\n",
              "Racing          236.31     56.61        76.68        726.76\n",
              "Role-Playing    187.57    350.29        59.38        923.83\n",
              "Shooter         310.45     38.18       101.90       1026.20\n",
              "Simulation      113.02     63.54        31.36        389.98\n",
              "Sports          371.34    134.76       132.65       1309.24\n",
              "Strategy         44.84     49.10        11.23        173.27"
            ]
          },
          "metadata": {
            "tags": []
          },
          "execution_count": 28
        }
      ]
    },
    {
      "cell_type": "markdown",
      "metadata": {
        "id": "4pU8liclgohu"
      },
      "source": [
        "---"
      ]
    },
    {
      "cell_type": "markdown",
      "metadata": {
        "id": "SzlEER7sDdEg"
      },
      "source": [
        "#### 4. Genre-wise Total Units Sold"
      ]
    },
    {
      "cell_type": "code",
      "metadata": {
        "id": "eeflb6xLUlmK"
      },
      "source": [
        "# Find out the genre-wise total number of units sold across different regions and the world.\n",
        "gy=df.groupby(by='Genre')\n",
        "gy_sum=gy.agg({ 'Publisher':sum,'EU_Sales':sum, 'JP_Sales':sum, 'Other_Sales':sum, 'Global_Sales':sum})"
      ],
      "execution_count": null,
      "outputs": []
    },
    {
      "cell_type": "code",
      "metadata": {
        "id": "vzHWayJ4lol9",
        "colab": {
          "base_uri": "https://localhost:8080/",
          "height": 592
        },
        "outputId": "2ce14d88-f2e6-4d1e-d068-a0b5475cc1f3"
      },
      "source": [
        "# Create line plots for genre-wise total number of units sold across different regions and the world.\n",
        "plt.figure(figsize=(10,10))\n",
        "plt.plot(gy_sum['EU_Sales'],color='blue',label='EU')\n",
        "plt.plot(gy_sum['JP_Sales'],color='purple',label='JP')\n",
        "plt.plot(gy_sum['Other_Sales'],color='green',label='Other')\n",
        "plt.plot(gy_sum['Global_Sales'],color='red',label='Global')\n",
        "plt.legend()\n",
        "plt.show()"
      ],
      "execution_count": null,
      "outputs": [
        {
          "output_type": "display_data",
          "data": {
            "image/png": "[encoded data removed]",
            "text/plain": [
              "<Figure size 720x720 with 1 Axes>"
            ]
          },
          "metadata": {
            "tags": [],
            "needs_background": "light"
          }
        }
      ]
    },
    {
      "cell_type": "markdown",
      "metadata": {
        "id": "lWspTB6RdPvq"
      },
      "source": [
        "**Q:** What genre of video game is most popular in Japan in terms of the total number of units sold? Also, provide the total number of units sold in Japan for that genre.\n",
        "\n",
        "**A:** Role-Playing is popular in Japan with around 350 units being sold."
      ]
    },
    {
      "cell_type": "code",
      "metadata": {
        "id": "Hj8Po3M7kBFM",
        "colab": {
          "base_uri": "https://localhost:8080/"
        },
        "outputId": "0dc899b4-e431-483c-f29e-3e4cddf1c650"
      },
      "source": [
        "# What genre of video game is most popular in Japan in terms of the total number of units sold?\n",
        "gy_sum['JP_Sales'].sort_values(ascending=False)\n",
        "#Role=Playing"
      ],
      "execution_count": null,
      "outputs": [
        {
          "output_type": "execute_result",
          "data": {
            "text/plain": [
              "Genre\n",
              "Role-Playing    350.29\n",
              "Action          158.65\n",
              "Sports          134.76\n",
              "Platform        130.65\n",
              "Misc            106.67\n",
              "Fighting         87.15\n",
              "Simulation       63.54\n",
              "Puzzle           56.68\n",
              "Racing           56.61\n",
              "Adventure        51.99\n",
              "Strategy         49.10\n",
              "Shooter          38.18\n",
              "Name: JP_Sales, dtype: float64"
            ]
          },
          "metadata": {
            "tags": []
          },
          "execution_count": 39
        }
      ]
    },
    {
      "cell_type": "code",
      "metadata": {
        "id": "wW_9gVmTlt0n",
        "colab": {
          "base_uri": "https://localhost:8080/",
          "height": 452
        },
        "outputId": "9345a7ba-8c69-4ab7-c738-dc1c865f84bb"
      },
      "source": [
        "# Genre-wise total number of units sold across different regions and the world in descending order.\n",
        "gy_sum.sort_values(by='Global_Sales',ascending=False)"
      ],
      "execution_count": null,
      "outputs": [
        {
          "output_type": "execute_result",
          "data": {
            "text/html": [
              "<div>\n",
              "<style scoped>\n",
              "    .dataframe tbody tr th:only-of-type {\n",
              "        vertical-align: middle;\n",
              "    }\n",
              "\n",
              "    .dataframe tbody tr th {\n",
              "        vertical-align: top;\n",
              "    }\n",
              "\n",
              "    .dataframe thead th {\n",
              "        text-align: right;\n",
              "    }\n",
              "</style>\n",
              "<table border=\"1\" class=\"dataframe\">\n",
              "  <thead>\n",
              "    <tr style=\"text-align: right;\">\n",
              "      <th></th>\n",
              "      <th>EU_Sales</th>\n",
              "      <th>JP_Sales</th>\n",
              "      <th>Other_Sales</th>\n",
              "      <th>Global_Sales</th>\n",
              "    </tr>\n",
              "    <tr>\n",
              "      <th>Genre</th>\n",
              "      <th></th>\n",
              "      <th></th>\n",
              "      <th></th>\n",
              "      <th></th>\n",
              "    </tr>\n",
              "  </thead>\n",
              "  <tbody>\n",
              "    <tr>\n",
              "      <th>Action</th>\n",
              "      <td>516.48</td>\n",
              "      <td>158.65</td>\n",
              "      <td>184.92</td>\n",
              "      <td>1722.84</td>\n",
              "    </tr>\n",
              "    <tr>\n",
              "      <th>Sports</th>\n",
              "      <td>371.34</td>\n",
              "      <td>134.76</td>\n",
              "      <td>132.65</td>\n",
              "      <td>1309.24</td>\n",
              "    </tr>\n",
              "    <tr>\n",
              "      <th>Shooter</th>\n",
              "      <td>310.45</td>\n",
              "      <td>38.18</td>\n",
              "      <td>101.90</td>\n",
              "      <td>1026.20</td>\n",
              "    </tr>\n",
              "    <tr>\n",
              "      <th>Role-Playing</th>\n",
              "      <td>187.57</td>\n",
              "      <td>350.29</td>\n",
              "      <td>59.38</td>\n",
              "      <td>923.83</td>\n",
              "    </tr>\n",
              "    <tr>\n",
              "      <th>Platform</th>\n",
              "      <td>200.65</td>\n",
              "      <td>130.65</td>\n",
              "      <td>51.51</td>\n",
              "      <td>829.13</td>\n",
              "    </tr>\n",
              "    <tr>\n",
              "      <th>Misc</th>\n",
              "      <td>211.77</td>\n",
              "      <td>106.67</td>\n",
              "      <td>73.92</td>\n",
              "      <td>789.87</td>\n",
              "    </tr>\n",
              "    <tr>\n",
              "      <th>Racing</th>\n",
              "      <td>236.31</td>\n",
              "      <td>56.61</td>\n",
              "      <td>76.68</td>\n",
              "      <td>726.76</td>\n",
              "    </tr>\n",
              "    <tr>\n",
              "      <th>Fighting</th>\n",
              "      <td>100.00</td>\n",
              "      <td>87.15</td>\n",
              "      <td>36.19</td>\n",
              "      <td>444.05</td>\n",
              "    </tr>\n",
              "    <tr>\n",
              "      <th>Simulation</th>\n",
              "      <td>113.02</td>\n",
              "      <td>63.54</td>\n",
              "      <td>31.36</td>\n",
              "      <td>389.98</td>\n",
              "    </tr>\n",
              "    <tr>\n",
              "      <th>Puzzle</th>\n",
              "      <td>50.52</td>\n",
              "      <td>56.68</td>\n",
              "      <td>12.47</td>\n",
              "      <td>242.21</td>\n",
              "    </tr>\n",
              "    <tr>\n",
              "      <th>Adventure</th>\n",
              "      <td>63.74</td>\n",
              "      <td>51.99</td>\n",
              "      <td>16.70</td>\n",
              "      <td>234.59</td>\n",
              "    </tr>\n",
              "    <tr>\n",
              "      <th>Strategy</th>\n",
              "      <td>44.84</td>\n",
              "      <td>49.10</td>\n",
              "      <td>11.23</td>\n",
              "      <td>173.27</td>\n",
              "    </tr>\n",
              "  </tbody>\n",
              "</table>\n",
              "</div>"
            ],
            "text/plain": [
              "              EU_Sales  JP_Sales  Other_Sales  Global_Sales\n",
              "Genre                                                      \n",
              "Action          516.48    158.65       184.92       1722.84\n",
              "Sports          371.34    134.76       132.65       1309.24\n",
              "Shooter         310.45     38.18       101.90       1026.20\n",
              "Role-Playing    187.57    350.29        59.38        923.83\n",
              "Platform        200.65    130.65        51.51        829.13\n",
              "Misc            211.77    106.67        73.92        789.87\n",
              "Racing          236.31     56.61        76.68        726.76\n",
              "Fighting        100.00     87.15        36.19        444.05\n",
              "Simulation      113.02     63.54        31.36        389.98\n",
              "Puzzle           50.52     56.68        12.47        242.21\n",
              "Adventure        63.74     51.99        16.70        234.59\n",
              "Strategy         44.84     49.10        11.23        173.27"
            ]
          },
          "metadata": {
            "tags": []
          },
          "execution_count": 32
        }
      ]
    },
    {
      "cell_type": "markdown",
      "metadata": {
        "id": "JmCjBlMa4TMW"
      },
      "source": [
        "**Q:** Which genre of the video games sells the most globally and how much?\n",
        "\n",
        "**A:** Action"
      ]
    },
    {
      "cell_type": "markdown",
      "metadata": {
        "id": "l9_sr3CTkEhM"
      },
      "source": [
        "---"
      ]
    },
    {
      "cell_type": "markdown",
      "metadata": {
        "id": "e1S6OHNCEaOk"
      },
      "source": [
        "#### 5. Publisher-wise Total Units Sold"
      ]
    },
    {
      "cell_type": "code",
      "metadata": {
        "id": "AtfJjrB21BHC",
        "colab": {
          "base_uri": "https://localhost:8080/",
          "height": 450
        },
        "outputId": "0b5c03ca-09a8-4252-ad40-32b221eef9ad"
      },
      "source": [
        "# Find out the publisher-wise total number of units sold across different regions and the world in the descending order.\n",
        "py=df.groupby(by='Publisher')\n",
        "py_sum=py.agg({'EU_Sales':sum, 'JP_Sales':sum, 'Other_Sales':sum, 'Global_Sales':sum})\n",
        "py_sum.sort_values(by='Publisher',ascending=False)"
      ],
      "execution_count": null,
      "outputs": [
        {
          "output_type": "execute_result",
          "data": {
            "text/html": [
              "<div>\n",
              "<style scoped>\n",
              "    .dataframe tbody tr th:only-of-type {\n",
              "        vertical-align: middle;\n",
              "    }\n",
              "\n",
              "    .dataframe tbody tr th {\n",
              "        vertical-align: top;\n",
              "    }\n",
              "\n",
              "    .dataframe thead th {\n",
              "        text-align: right;\n",
              "    }\n",
              "</style>\n",
              "<table border=\"1\" class=\"dataframe\">\n",
              "  <thead>\n",
              "    <tr style=\"text-align: right;\">\n",
              "      <th></th>\n",
              "      <th>EU_Sales</th>\n",
              "      <th>JP_Sales</th>\n",
              "      <th>Other_Sales</th>\n",
              "      <th>Global_Sales</th>\n",
              "    </tr>\n",
              "    <tr>\n",
              "      <th>Publisher</th>\n",
              "      <th></th>\n",
              "      <th></th>\n",
              "      <th></th>\n",
              "      <th></th>\n",
              "    </tr>\n",
              "  </thead>\n",
              "  <tbody>\n",
              "    <tr>\n",
              "      <th>responDESIGN</th>\n",
              "      <td>0.04</td>\n",
              "      <td>0.00</td>\n",
              "      <td>0.01</td>\n",
              "      <td>0.13</td>\n",
              "    </tr>\n",
              "    <tr>\n",
              "      <th>mixi, Inc</th>\n",
              "      <td>0.00</td>\n",
              "      <td>0.86</td>\n",
              "      <td>0.00</td>\n",
              "      <td>0.86</td>\n",
              "    </tr>\n",
              "    <tr>\n",
              "      <th>inXile Entertainment</th>\n",
              "      <td>0.06</td>\n",
              "      <td>0.00</td>\n",
              "      <td>0.01</td>\n",
              "      <td>0.10</td>\n",
              "    </tr>\n",
              "    <tr>\n",
              "      <th>imageepoch Inc.</th>\n",
              "      <td>0.00</td>\n",
              "      <td>0.04</td>\n",
              "      <td>0.00</td>\n",
              "      <td>0.04</td>\n",
              "    </tr>\n",
              "    <tr>\n",
              "      <th>id Software</th>\n",
              "      <td>0.00</td>\n",
              "      <td>0.00</td>\n",
              "      <td>0.00</td>\n",
              "      <td>0.03</td>\n",
              "    </tr>\n",
              "    <tr>\n",
              "      <th>...</th>\n",
              "      <td>...</td>\n",
              "      <td>...</td>\n",
              "      <td>...</td>\n",
              "      <td>...</td>\n",
              "    </tr>\n",
              "    <tr>\n",
              "      <th>3DO</th>\n",
              "      <td>3.04</td>\n",
              "      <td>0.00</td>\n",
              "      <td>0.63</td>\n",
              "      <td>10.12</td>\n",
              "    </tr>\n",
              "    <tr>\n",
              "      <th>2D Boy</th>\n",
              "      <td>0.03</td>\n",
              "      <td>0.00</td>\n",
              "      <td>0.01</td>\n",
              "      <td>0.04</td>\n",
              "    </tr>\n",
              "    <tr>\n",
              "      <th>20th Century Fox Video Games</th>\n",
              "      <td>0.10</td>\n",
              "      <td>0.00</td>\n",
              "      <td>0.01</td>\n",
              "      <td>1.94</td>\n",
              "    </tr>\n",
              "    <tr>\n",
              "      <th>1C Company</th>\n",
              "      <td>0.07</td>\n",
              "      <td>0.00</td>\n",
              "      <td>0.02</td>\n",
              "      <td>0.10</td>\n",
              "    </tr>\n",
              "    <tr>\n",
              "      <th>10TACLE Studios</th>\n",
              "      <td>0.04</td>\n",
              "      <td>0.00</td>\n",
              "      <td>0.00</td>\n",
              "      <td>0.11</td>\n",
              "    </tr>\n",
              "  </tbody>\n",
              "</table>\n",
              "<p>576 rows × 4 columns</p>\n",
              "</div>"
            ],
            "text/plain": [
              "                              EU_Sales  JP_Sales  Other_Sales  Global_Sales\n",
              "Publisher                                                                  \n",
              "responDESIGN                      0.04      0.00         0.01          0.13\n",
              "mixi, Inc                         0.00      0.86         0.00          0.86\n",
              "inXile Entertainment              0.06      0.00         0.01          0.10\n",
              "imageepoch Inc.                   0.00      0.04         0.00          0.04\n",
              "id Software                       0.00      0.00         0.00          0.03\n",
              "...                                ...       ...          ...           ...\n",
              "3DO                               3.04      0.00         0.63         10.12\n",
              "2D Boy                            0.03      0.00         0.01          0.04\n",
              "20th Century Fox Video Games      0.10      0.00         0.01          1.94\n",
              "1C Company                        0.07      0.00         0.02          0.10\n",
              "10TACLE Studios                   0.04      0.00         0.00          0.11\n",
              "\n",
              "[576 rows x 4 columns]"
            ]
          },
          "metadata": {
            "tags": []
          },
          "execution_count": 44
        }
      ]
    },
    {
      "cell_type": "markdown",
      "metadata": {
        "id": "7o1cyK4b4wdw"
      },
      "source": [
        "**Q:** Which video game publisher sells the most number of units globally and how much?\n",
        "\n",
        "**A:** responDESIGN"
      ]
    },
    {
      "cell_type": "markdown",
      "metadata": {
        "id": "B8hjBlf94vz4"
      },
      "source": [
        "---"
      ]
    },
    {
      "cell_type": "markdown",
      "metadata": {
        "id": "qjQdUGpbFGMd"
      },
      "source": [
        "#### 6. Platform-wise Total Units Sold"
      ]
    },
    {
      "cell_type": "code",
      "metadata": {
        "id": "1mvaELQIzp_2",
        "colab": {
          "base_uri": "https://localhost:8080/",
          "height": 1000
        },
        "outputId": "acb8aec4-6369-4e7f-9ef8-61f0c9406d77"
      },
      "source": [
        "# Find out the platform-wise the total number of units sold across different regions and the world in the descending order.\n",
        "pl=df.groupby(by='Platform')\n",
        "pl_sum=pl.agg({ 'Global_Sales':sum})\n",
        "pl_sum.sort_values(by='Global_Sales',ascending=False)"
      ],
      "execution_count": null,
      "outputs": [
        {
          "output_type": "execute_result",
          "data": {
            "text/html": [
              "<div>\n",
              "<style scoped>\n",
              "    .dataframe tbody tr th:only-of-type {\n",
              "        vertical-align: middle;\n",
              "    }\n",
              "\n",
              "    .dataframe tbody tr th {\n",
              "        vertical-align: top;\n",
              "    }\n",
              "\n",
              "    .dataframe thead th {\n",
              "        text-align: right;\n",
              "    }\n",
              "</style>\n",
              "<table border=\"1\" class=\"dataframe\">\n",
              "  <thead>\n",
              "    <tr style=\"text-align: right;\">\n",
              "      <th></th>\n",
              "      <th>Global_Sales</th>\n",
              "    </tr>\n",
              "    <tr>\n",
              "      <th>Platform</th>\n",
              "      <th></th>\n",
              "    </tr>\n",
              "  </thead>\n",
              "  <tbody>\n",
              "    <tr>\n",
              "      <th>PS2</th>\n",
              "      <td>1233.46</td>\n",
              "    </tr>\n",
              "    <tr>\n",
              "      <th>X360</th>\n",
              "      <td>969.60</td>\n",
              "    </tr>\n",
              "    <tr>\n",
              "      <th>PS3</th>\n",
              "      <td>949.35</td>\n",
              "    </tr>\n",
              "    <tr>\n",
              "      <th>Wii</th>\n",
              "      <td>909.81</td>\n",
              "    </tr>\n",
              "    <tr>\n",
              "      <th>DS</th>\n",
              "      <td>818.91</td>\n",
              "    </tr>\n",
              "    <tr>\n",
              "      <th>PS</th>\n",
              "      <td>727.39</td>\n",
              "    </tr>\n",
              "    <tr>\n",
              "      <th>GBA</th>\n",
              "      <td>305.62</td>\n",
              "    </tr>\n",
              "    <tr>\n",
              "      <th>PSP</th>\n",
              "      <td>291.71</td>\n",
              "    </tr>\n",
              "    <tr>\n",
              "      <th>PS4</th>\n",
              "      <td>278.10</td>\n",
              "    </tr>\n",
              "    <tr>\n",
              "      <th>PC</th>\n",
              "      <td>254.70</td>\n",
              "    </tr>\n",
              "    <tr>\n",
              "      <th>GB</th>\n",
              "      <td>254.42</td>\n",
              "    </tr>\n",
              "    <tr>\n",
              "      <th>XB</th>\n",
              "      <td>252.09</td>\n",
              "    </tr>\n",
              "    <tr>\n",
              "      <th>NES</th>\n",
              "      <td>251.07</td>\n",
              "    </tr>\n",
              "    <tr>\n",
              "      <th>3DS</th>\n",
              "      <td>246.27</td>\n",
              "    </tr>\n",
              "    <tr>\n",
              "      <th>N64</th>\n",
              "      <td>218.21</td>\n",
              "    </tr>\n",
              "    <tr>\n",
              "      <th>SNES</th>\n",
              "      <td>200.05</td>\n",
              "    </tr>\n",
              "    <tr>\n",
              "      <th>GC</th>\n",
              "      <td>197.14</td>\n",
              "    </tr>\n",
              "    <tr>\n",
              "      <th>XOne</th>\n",
              "      <td>141.06</td>\n",
              "    </tr>\n",
              "    <tr>\n",
              "      <th>2600</th>\n",
              "      <td>86.57</td>\n",
              "    </tr>\n",
              "    <tr>\n",
              "      <th>WiiU</th>\n",
              "      <td>81.86</td>\n",
              "    </tr>\n",
              "    <tr>\n",
              "      <th>PSV</th>\n",
              "      <td>61.60</td>\n",
              "    </tr>\n",
              "    <tr>\n",
              "      <th>SAT</th>\n",
              "      <td>33.59</td>\n",
              "    </tr>\n",
              "    <tr>\n",
              "      <th>GEN</th>\n",
              "      <td>28.36</td>\n",
              "    </tr>\n",
              "    <tr>\n",
              "      <th>DC</th>\n",
              "      <td>15.97</td>\n",
              "    </tr>\n",
              "    <tr>\n",
              "      <th>SCD</th>\n",
              "      <td>1.87</td>\n",
              "    </tr>\n",
              "    <tr>\n",
              "      <th>NG</th>\n",
              "      <td>1.44</td>\n",
              "    </tr>\n",
              "    <tr>\n",
              "      <th>WS</th>\n",
              "      <td>1.42</td>\n",
              "    </tr>\n",
              "    <tr>\n",
              "      <th>TG16</th>\n",
              "      <td>0.16</td>\n",
              "    </tr>\n",
              "    <tr>\n",
              "      <th>3DO</th>\n",
              "      <td>0.10</td>\n",
              "    </tr>\n",
              "    <tr>\n",
              "      <th>GG</th>\n",
              "      <td>0.04</td>\n",
              "    </tr>\n",
              "    <tr>\n",
              "      <th>PCFX</th>\n",
              "      <td>0.03</td>\n",
              "    </tr>\n",
              "  </tbody>\n",
              "</table>\n",
              "</div>"
            ],
            "text/plain": [
              "          Global_Sales\n",
              "Platform              \n",
              "PS2            1233.46\n",
              "X360            969.60\n",
              "PS3             949.35\n",
              "Wii             909.81\n",
              "DS              818.91\n",
              "PS              727.39\n",
              "GBA             305.62\n",
              "PSP             291.71\n",
              "PS4             278.10\n",
              "PC              254.70\n",
              "GB              254.42\n",
              "XB              252.09\n",
              "NES             251.07\n",
              "3DS             246.27\n",
              "N64             218.21\n",
              "SNES            200.05\n",
              "GC              197.14\n",
              "XOne            141.06\n",
              "2600             86.57\n",
              "WiiU             81.86\n",
              "PSV              61.60\n",
              "SAT              33.59\n",
              "GEN              28.36\n",
              "DC               15.97\n",
              "SCD               1.87\n",
              "NG                1.44\n",
              "WS                1.42\n",
              "TG16              0.16\n",
              "3DO               0.10\n",
              "GG                0.04\n",
              "PCFX              0.03"
            ]
          },
          "metadata": {
            "tags": []
          },
          "execution_count": 51
        }
      ]
    },
    {
      "cell_type": "markdown",
      "metadata": {
        "id": "Z4WTKKVB5Efj"
      },
      "source": [
        "**Q:** For which platform of a video game, the most number of units are sold globally and how much?\n",
        "\n",
        "**A:** PS2"
      ]
    },
    {
      "cell_type": "markdown",
      "metadata": {
        "id": "TOjvpX3rxRxZ"
      },
      "source": [
        "---"
      ]
    },
    {
      "cell_type": "markdown",
      "metadata": {
        "id": "_vVeRQthIMF2"
      },
      "source": [
        "### Submitting the Project\n",
        "\n",
        "Follow the steps described below to submit the project.\n",
        "\n",
        "1. After finishing the project, click on the **Share** button on the top right corner of the notebook. A new dialog box will appear.\n",
        "\n",
        "  <img src='https://student-datasets-bucket.s3.ap-south-1.amazonaws.com/images/project-share-images/2_share_button.png' width=500>\n",
        "\n",
        "2. In the dialog box, click on the **Copy link** button.\n",
        "\n",
        "   <img src='https://student-datasets-bucket.s3.ap-south-1.amazonaws.com/images/project-share-images/3_copy_link.png' width=500>\n",
        "\n",
        "\n",
        "3. The link of the duplicate copy (named as **YYYY-MM-DD_StudentName_CapstoneProject11**) of the notebook will get copied\n",
        "\n",
        "   <img src='https://student-datasets-bucket.s3.ap-south-1.amazonaws.com/images/project-share-images/4_copy_link_confirmation.png' width=500>\n",
        "\n",
        "4. Go to your dashboard and click on the **My Projects** option.\n",
        "\n",
        "   <img src='https://student-datasets-bucket.s3.ap-south-1.amazonaws.com/images/project-share-images/5_student_dashboard.png' width=800>\n",
        "\n",
        "   <img src='https://student-datasets-bucket.s3.ap-south-1.amazonaws.com/images/project-share-images/6_my_projects.png' width=800>\n",
        "\n",
        "5. Click on the **View Project** button for the project you want to submit.\n",
        "\n",
        "   <img src='https://student-datasets-bucket.s3.ap-south-1.amazonaws.com/images/project-share-images/7_view_project.png' width=800>\n",
        "\n",
        "6. Click on the **Submit Project Here** button.\n",
        "\n",
        "   <img src='https://student-datasets-bucket.s3.ap-south-1.amazonaws.com/images/project-share-images/8_submit_project.png' width=800>\n",
        "\n",
        "7. Paste the link to the project file named as **YYYY-MM-DD_StudentName_CapstoneProject11** in the URL box and then click on the **Submit** button.\n",
        "\n",
        "   <img src='https://student-datasets-bucket.s3.ap-south-1.amazonaws.com/images/project-share-images/9_enter_project_url.png' width=800>\n"
      ]
    },
    {
      "cell_type": "markdown",
      "metadata": {
        "id": "IdQtvpwfILqC"
      },
      "source": [
        "---"
      ]
    }
  ]
}