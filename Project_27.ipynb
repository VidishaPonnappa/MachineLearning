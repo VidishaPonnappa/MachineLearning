{
  "nbformat": 4,
  "nbformat_minor": 0,
  "metadata": {
    "colab": {
      "provenance": [],
      "include_colab_link": true
    },
    "kernelspec": {
      "name": "python3",
      "display_name": "Python 3"
    }
  },
  "cells": [
    {
      "cell_type": "markdown",
      "metadata": {
        "id": "view-in-github",
        "colab_type": "text"
      },
      "source": [
        "<a href=\"https://colab.research.google.com/github/VidishaPonnappa/MachineLearning/blob/main/Project_27.ipynb\" target=\"_parent\"><img src=\"https://colab.research.google.com/assets/colab-badge.svg\" alt=\"Open In Colab\"/></a>"
      ]
    },
    {
      "cell_type": "markdown",
      "metadata": {
        "id": "fIKnY8occu37"
      },
      "source": [
        "#### Goals :\n",
        "\n",
        "1. Bonus Calculation\n",
        "\n",
        "2. Making Box Pattern\n"
      ]
    },
    {
      "cell_type": "markdown",
      "metadata": {
        "id": "xVjK5anRpFU1"
      },
      "source": [
        "---"
      ]
    },
    {
      "cell_type": "markdown",
      "metadata": {
        "id": "BVT9G_baB1aq"
      },
      "source": [
        "#### 1. Bonus Calculation\n",
        "\n",
        "A financial institution has set a scheme to motivate and reward its staff by paying a bonus for each day.\n",
        "\n",
        "This scheme is calculated with a threshold target of 32 days per quarter, and the incentive payment for each billable day in excess of such threshold target is shown as follows:\n",
        "\n",
        "|Days                |Bonus                     |\n",
        "|--------------------|--------------------------|\n",
        "|0 to 32 days        |Zero                      |\n",
        "|33 to 40 days       |SGD \\$325 per billable day|\n",
        "|41 to 48 days       |SGD \\$550 per billable day|\n",
        "|Greater than 48 days|SGD \\$600 per billable day|\n",
        "\n",
        "\n",
        "Please note that incentive payment is calculated progressively. As an example, if an employee reached total billable days of 45 in a quarter, his/her incentive payment is computed as follows:\n",
        "```\n",
        "32*0 + 8*325 + 5*550 = 5350\n",
        "```\n",
        "Write a function to read the billable days of an employee and return the bonus he/she has obtained in that quarter.\n",
        "\n",
        "**Examples** :\n",
        "```\n",
        "calculate_bonus(15) ➞ 0\n",
        "\n",
        "calculate_bonus(37) ➞ 1625\n",
        "\n",
        "calculate_bonus(50) ➞ 8200\n",
        "```"
      ]
    },
    {
      "cell_type": "code",
      "metadata": {
        "id": "0pIGxKG9B3mb",
        "colab": {
          "base_uri": "https://localhost:8080/"
        },
        "outputId": "7e5b4bb3-fc6b-44f5-e90b-ce4ba45fb8ee"
      },
      "source": [
        "# Write a function to read the billable days of an employee and return the bonus he/she has obtained in that quarter.\n",
        "def billdays(n):\n",
        "  days=0\n",
        "  if n in range(0,33):\n",
        "    return 0\n",
        "  elif n in range(33,41):\n",
        "    days=\n",
        "    return 325*days\n",
        "  elif n in range(41,49):\n",
        "    days=49-n\n",
        "    return 550*days\n",
        "  elif n>49:\n",
        "    days=n-49\n",
        "    return 600*days\n",
        "\n",
        "days=int(input('Enter number of days to recieve your bonus: '))\n",
        "billdays(days)"
      ],
      "execution_count": null,
      "outputs": [
        {
          "output_type": "stream",
          "text": [
            "Enter number of days to recieve your bonus: 33\n"
          ],
          "name": "stdout"
        },
        {
          "output_type": "execute_result",
          "data": {
            "text/plain": [
              "2600"
            ]
          },
          "metadata": {
            "tags": []
          },
          "execution_count": 3
        }
      ]
    },
    {
      "cell_type": "markdown",
      "metadata": {
        "id": "JuwBMIeFB9xY"
      },
      "source": [
        "---"
      ]
    },
    {
      "cell_type": "markdown",
      "metadata": {
        "id": "5kBinzKxn3hd"
      },
      "source": [
        "#### 2. Making a Box\n",
        "\n",
        "Define a function that creates a box based on dimension `n`. Size of box will be `(n X n)` i.e. `n` rows and `n` columns.\n",
        "\n",
        "**Constraint**\n",
        "\n",
        "- Size of the `(n x n)` box should always be greater than 2, i.e. `n > 2`.\n",
        "\n",
        "**Sample Input**\n",
        "```\n",
        "5\n",
        "```\n",
        "\n",
        "**Sample Output**\n",
        "```\n",
        "\n",
        "  \"#####\",\n",
        "  \"#   #\",\n",
        "  \"#   #\",\n",
        "  \"#   #\",\n",
        "  \"#####\"\n",
        "\n",
        "\n",
        "```\n"
      ]
    },
    {
      "cell_type": "code",
      "metadata": {
        "id": "4gjDvOhzn6TL",
        "colab": {
          "base_uri": "https://localhost:8080/"
        },
        "outputId": "ba7753fd-0c19-4b42-a5ec-3305d822de58"
      },
      "source": [
        "# Write your solution here\n",
        "def pattern(a):\n",
        "  p1=''\n",
        "  for i in range(a):\n",
        "    p1+='#'\n",
        "  b=a-2\n",
        "  p2='#'\n",
        "  for j in range(b):\n",
        "    p2+=' '\n",
        "  p2+='#'\n",
        "  print(p1)\n",
        "  for i in range(b):\n",
        "    print(p2)\n",
        "  print(p1)\n",
        "\n",
        "num=int(input('Enter a number greater than 2: '))\n",
        "while num<=2:\n",
        "  print('Wrong input.')\n",
        "  num=int(input('Enter a number greater than 2: '))\n",
        "pattern(num)"
      ],
      "execution_count": null,
      "outputs": [
        {
          "output_type": "stream",
          "text": [
            "Enter a number greater than 2: 1\n",
            "Wrong input.\n",
            "Enter a number greater than 2: 9\n",
            "#########\n",
            "#       #\n",
            "#       #\n",
            "#       #\n",
            "#       #\n",
            "#       #\n",
            "#       #\n",
            "#       #\n",
            "#########\n"
          ],
          "name": "stdout"
        }
      ]
    },
    {
      "cell_type": "markdown",
      "metadata": {
        "id": "MWkPEALQn-lN"
      },
      "source": [
        "---"
      ]
    }
  ]
}