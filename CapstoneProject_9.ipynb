{
  "nbformat": 4,
  "nbformat_minor": 0,
  "metadata": {
    "colab": {
      "provenance": [],
      "include_colab_link": true
    },
    "kernelspec": {
      "name": "python3",
      "display_name": "Python 3"
    }
  },
  "cells": [
    {
      "cell_type": "markdown",
      "metadata": {
        "id": "view-in-github",
        "colab_type": "text"
      },
      "source": [
        "<a href=\"https://colab.research.google.com/github/VidishaPonnappa/MachineLearning/blob/main/CapstoneProject_9.ipynb\" target=\"_parent\"><img src=\"https://colab.research.google.com/assets/colab-badge.svg\" alt=\"Open In Colab\"/></a>"
      ]
    },
    {
      "cell_type": "markdown",
      "metadata": {
        "id": "UYmMpXkNw9I6"
      },
      "source": [
        "# Project 10: Guess the word - Python String Operation"
      ]
    },
    {
      "cell_type": "markdown",
      "metadata": {
        "id": "PaanjkTewd2U"
      },
      "source": [
        "---"
      ]
    },
    {
      "cell_type": "markdown",
      "metadata": {
        "id": "2i36Yv3-MPY5"
      },
      "source": [
        "### Problem Statement\n",
        "\n",
        "In this project, you have to write a computer program to create an interactive game application called **Guess the Word**. The game must have the following major components:\n",
        "\n",
        "1. A repository of English words.\n",
        "\n",
        "2. A function to jumble the letters of the English words.\n",
        "\n",
        "3. Display a word such that its letters are jumbled, its part of speech and its meaning. Then prompt the player to guess the word one-by-one.  \n",
        "\n",
        "6. Check whether the player had guessed the correct word.\n",
        "\n",
        "7. Keep a count of the player's correct guesses.\n"
      ]
    },
    {
      "cell_type": "markdown",
      "metadata": {
        "id": "y9owukOqg1lw"
      },
      "source": [
        "---"
      ]
    },
    {
      "cell_type": "markdown",
      "metadata": {
        "id": "IMYx69ZBwsOV"
      },
      "source": [
        "### Programming Approach\n",
        "\n",
        "To create the **Guess A Word** game, you should follow the steps described below.\n",
        "\n",
        "**Step 1**\n",
        "\n",
        "Store the words to be guessed in a Python tuple. Let's call it `my_words`. A tuple is an immutable collection of items. Hence, it is best to store the words. The `my_words` tuple should contain the following 10 words.\n",
        "\n",
        "<img src='https://student-datasets-bucket.s3.ap-south-1.amazonaws.com/images/project10_words_list.png'>\n",
        "\n",
        "**Note:** Make sure that all the letters of each word are in lowercase.\n",
        "\n",
        "Next, you need to create a variable `score` with initial value as `0`. Later we will be incrementing the value of `score` by 1 on a correct guess.\n",
        "\n",
        "**Step 2**\n",
        "\n",
        "As the next step, you need to create a function which returns a string containing the jumbled letters of a word. Let's call it `shuffler()`. E.g., The `shuffler()` function must return either `wims` or `mwsi` or `imsw` etc. for the word `swim`.\n",
        "\n",
        "You can use the `shuffle()` function of the `random` module to shuffle the letters from a word. However, you first have to convert each word into a list of letters using the `list()` function.\n",
        "\n",
        "The `shuffle()` function simply reorganises the order of the items in a Python list. E.g., if a list contains `['s', 'w', 'i', 'm']` items, then the `shuffle()` function will reorder the items as either `['w', 's', 'i', 'm']`, or `['s', 'w', 'm', 'i']` or `['i', 's', 'm', 'w']` etc.\n",
        "\n",
        "Then you should use the `join()` function to convert a list of jumbled letters into a word.\n",
        "\n",
        "**Step 3:**\n",
        "\n",
        "Prompt a player to enter their name. You should also tell the player, the input they need to enter to stop the game midway ('Type 's' to stop the game at any time.').\n",
        "\n",
        "Then you need to create a `for` loop which should do the following:\n",
        "\n",
        "1. Display the jumbled letters of a word in uppercase.\n",
        "\n",
        "2. Take input from the user.\n",
        "\n",
        "3. Convert the user input into uppercase.\n",
        "\n",
        "4. If the player's input is `s`, terminate the loop using the `break` keyword.\n",
        "\n",
        "5. Else if the player's guess is correct, show the `CORRECT!` message and increase player's score (stored in `score` variable) by 1.\n",
        "\n",
        "6. Else, show the `WRONG!` message. Also, display the correct word.\n",
        "\n",
        "**Step 4:**\n",
        "\n",
        "Finally, show `Game Over!` after the player has completed guessing the 10 words and show the final score stored in `score` variable.\n"
      ]
    },
    {
      "cell_type": "markdown",
      "metadata": {
        "id": "UyYUfSu3fJkj"
      },
      "source": [
        "---"
      ]
    },
    {
      "cell_type": "markdown",
      "metadata": {
        "id": "toeLx5LJpIV-"
      },
      "source": [
        "### Project Requirements\n",
        "\n",
        "1. Create the `my_words` tuple which should contain the following 10 words,\n",
        "\n",
        "    - Questionnaire\n",
        "\n",
        "    - Unconscious\n",
        "\n",
        "    - Precocious\n",
        "\n",
        "    - Liaison\n",
        "\n",
        "    - Surveillance\n",
        "\n",
        "    - Malfeasance\n",
        "\n",
        "    - Irascible\n",
        "\n",
        "    - Idiosyncrasy\n",
        "\n",
        "    - Foudroyant\n",
        "\n",
        "    - Eudemonic\n",
        "\n",
        "2. Create the `score` variable with initial value as `0`, to store the counts of the player's guess.\n",
        "\n",
        "2. Create the `shuffler()` function which returns a string having jumbled letters of a word.\n",
        "\n",
        "4. Create a `for` to run the game.\n",
        "\n",
        "5. Once the player has completed guessing all the words, display `Game Over!` message along with the final score.\n",
        "  ```\n",
        "  Game Over!\n",
        "  Kakashi, Your score is 6.\n",
        "  ```"
      ]
    },
    {
      "cell_type": "markdown",
      "metadata": {
        "id": "5JRlGIBRqCGl"
      },
      "source": [
        "---"
      ]
    },
    {
      "cell_type": "markdown",
      "metadata": {
        "id": "UCusTfW0tcxe"
      },
      "source": [
        "#### 1. Words & Score\n",
        "\n",
        "- Create the `my_words` tuple which should contain the following 10 words,\n",
        "\n",
        "    - Questionnaire\n",
        "\n",
        "    - Unconscious\n",
        "\n",
        "    - Precocious\n",
        "\n",
        "    - Liaison\n",
        "\n",
        "    - Surveillance\n",
        "\n",
        "    - Malfeasance\n",
        "\n",
        "    - Irascible\n",
        "\n",
        "    - Idiosyncrasy\n",
        "\n",
        "    - Foudroyant\n",
        "\n",
        "    - Eudemonic\n",
        "    ```\n",
        "    my_words = ('questionnaire', 'unconscious', 'precocious', 'liaison', 'surveillance', 'malfeasance', 'irascible', 'idiosyncrasy', 'foudroyant', 'eudemonic')\n",
        "    ```\n",
        "\n",
        "- Create the `score` variable with initial value as `0`, to store the counts of the player's guess."
      ]
    },
    {
      "cell_type": "code",
      "metadata": {
        "id": "6RL71w3ntzcH"
      },
      "source": [
        "# Create the 'my_words' tuple and the 'score' variable.\n",
        "words = ('questionnaire', 'unconscious', 'precocious', 'liaison', 'surveillance', 'malfeasance', 'irascible', 'idiosyncrasy', 'foudroyant', 'eudemonic')\n",
        "score=0"
      ],
      "execution_count": null,
      "outputs": []
    },
    {
      "cell_type": "markdown",
      "metadata": {
        "id": "RETr5Tv1JBls"
      },
      "source": [
        "---"
      ]
    },
    {
      "cell_type": "markdown",
      "metadata": {
        "id": "0_OEabQbGQcP"
      },
      "source": [
        "#### 2. The `shuffler()` Function\n",
        "\n",
        "- Create the `shuffler()` function which returns a string containing the jumbled letters of a word. E.g., The `shuffler()` function must return either `wims` or `mwsi` or `imsw` etc. for the word `swim`."
      ]
    },
    {
      "cell_type": "code",
      "metadata": {
        "id": "mROhcvIy0ML6",
        "colab": {
          "base_uri": "https://localhost:8080/"
        },
        "outputId": "85871bbf-abf7-4195-a979-4d434da59c3f"
      },
      "source": [
        "# Create the 'shuffler()' function to to jumble the letters of a word and form a jumbled word.\n",
        "import random\n",
        "def shuffler(a):\n",
        "  al=[]\n",
        "  for i in range(len(a)):\n",
        "    al.append(a[i])\n",
        "  random.shuffle(al)\n",
        "  b=''\n",
        "  for i in al:\n",
        "    b+=i\n",
        "  return b\n",
        "swords=[]\n",
        "for i in words:\n",
        "  b=shuffler(i)\n",
        "  swords.append(b)\n",
        "print(swords)"
      ],
      "execution_count": null,
      "outputs": [
        {
          "output_type": "stream",
          "text": [
            "['quainnroseite', 'ncuncsosuio', 'osecprocui', 'inislao', 'ilncsularvee', 'aaasfelnemc', 'aesiiclbr', 'nsoicsryadiy', 'tnouydafro', 'nociemdue']\n"
          ],
          "name": "stdout"
        }
      ]
    },
    {
      "cell_type": "markdown",
      "metadata": {
        "id": "aJJT0ojPGPcd"
      },
      "source": [
        "---"
      ]
    },
    {
      "cell_type": "markdown",
      "metadata": {
        "id": "rZsDogK8LaOW"
      },
      "source": [
        "#### 3. The Remaining Components\n",
        "\n",
        "Before creating the `for` loop, print the title of the game. Here's the expected output:\n",
        "\n",
        "```\n",
        "-----------------------------GUESS A WORD GAME--------------------------------\n",
        "```\n",
        "\n",
        "The title is centre justified and the total length of the string is 120.\n",
        "\n",
        "Prompt a player to enter their name. You should also tell the player, to enter `s` as an input to stop the game midway.\n",
        "\n",
        "Then create a `for` loop which should do the following:\n",
        "\n",
        "1. Display the jumbled letters of a word in uppercase, the part of speech for the word in uppercase and the meaning of the word in uppercase. Here's an example of the expected output:\n",
        "\n",
        "   `Jumbled Letters: UQSTOAEREIINN`\n",
        "\n",
        "2. Take input from the user (the guessed word) and convert it into uppercase.\n",
        "\n",
        "3. If the player's input is `s`, terminate the loop using the `break` keyword.\n",
        "\n",
        "4. Else if the player's guess is correct, show the `CORRECT!` message and increase player's guess count stored in `score` variable by 1.\n",
        "\n",
        "5. Else, show the `WRONG!` message. Also, display the correct word. Here's an example of the expected output:\n",
        "\n",
        "   ```\n",
        "   Guess the word:\n",
        "   mealfeseance\n",
        "\n",
        "   WRONG!\n",
        "   Correct word is MALFEASANCE\n",
        "   ```\n",
        "\n",
        "6. Once the player has completed guessing all the words, display `Game Over!` message along with the final score.\n",
        "  ```\n",
        "  Game Over!\n",
        "  Kakashi, Your score is 6.\n",
        "  ```\n",
        ""
      ]
    },
    {
      "cell_type": "code",
      "metadata": {
        "id": "8HV3cY6O9LeE",
        "colab": {
          "base_uri": "https://localhost:8080/"
        },
        "outputId": "5ca91399-a85b-4560-ce3f-8b0fedecb523"
      },
      "source": [
        "# Check whether player's guess is correct or not\n",
        "print('Guess the words!')\n",
        "name=input('Enter your name: ')\n",
        "for i in range(10):\n",
        "  print(swords[i])\n",
        "  ans=input('Enter the unscrambled word: ')\n",
        "  if ans==words[i]:\n",
        "    print('Correct!')\n",
        "    score+=1\n",
        "  elif ans!=words[i]:\n",
        "    print('Wrong! \\nCorrect word is {}.'.format(words[i]))\n",
        "print('Game Over! \\n {}, Your score is {}.'.format(name,score))"
      ],
      "execution_count": null,
      "outputs": [
        {
          "output_type": "stream",
          "text": [
            "Guess the words!\n",
            "Enter your name: v\n",
            "quainnroseite\n",
            "Enter the unscrambled word: a\n",
            "Wrong! \n",
            "Correct word is questionnaire.\n",
            "ncuncsosuio\n",
            "Enter the unscrambled word: b\n",
            "Wrong! \n",
            "Correct word is unconscious.\n",
            "osecprocui\n",
            "Enter the unscrambled word: c\n",
            "Wrong! \n",
            "Correct word is precocious.\n",
            "inislao\n",
            "Enter the unscrambled word: liasion\n",
            "Wrong! \n",
            "Correct word is liaison.\n",
            "ilncsularvee\n",
            "Enter the unscrambled word: surveillance\n",
            "Correct!\n",
            "aaasfelnemc\n",
            "Enter the unscrambled word: a\n",
            "Wrong! \n",
            "Correct word is malfeasance.\n",
            "aesiiclbr\n",
            "Enter the unscrambled word: b\n",
            "Wrong! \n",
            "Correct word is irascible.\n",
            "nsoicsryadiy\n",
            "Enter the unscrambled word: b\n",
            "Wrong! \n",
            "Correct word is idiosyncrasy.\n",
            "tnouydafro\n",
            "Enter the unscrambled word: a\n",
            "Wrong! \n",
            "Correct word is foudroyant.\n",
            "nociemdue\n",
            "Enter the unscrambled word: a\n",
            "Wrong! \n",
            "Correct word is eudemonic.\n",
            "Game Over! \n",
            " v, Your score is 1.\n"
          ],
          "name": "stdout"
        }
      ]
    },
    {
      "cell_type": "markdown",
      "metadata": {
        "id": "gdgW4-R6LVB3"
      },
      "source": [
        "---"
      ]
    },
    {
      "cell_type": "markdown",
      "metadata": {
        "id": "NyHSsEwEoEvH"
      },
      "source": [
        "#### 4. Final score\n",
        "\n",
        "Finally, show `Game Over!` after player has completed guessing the 10 words and show the final score stored in `score` variable."
      ]
    },
    {
      "cell_type": "code",
      "metadata": {
        "id": "-QAIIkM1qCNr"
      },
      "source": [
        "# Display 'Game Over' and Final score to the player\n",
        "#Previous code cell"
      ],
      "execution_count": null,
      "outputs": []
    },
    {
      "cell_type": "markdown",
      "metadata": {
        "id": "4qIsQMIj-Is3"
      },
      "source": [
        "---"
      ]
    }
  ]
}