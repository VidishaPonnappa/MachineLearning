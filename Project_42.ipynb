{
  "nbformat": 4,
  "nbformat_minor": 0,
  "metadata": {
    "colab": {
      "provenance": [],
      "include_colab_link": true
    },
    "kernelspec": {
      "name": "python3",
      "display_name": "Python 3"
    }
  },
  "cells": [
    {
      "cell_type": "markdown",
      "metadata": {
        "id": "view-in-github",
        "colab_type": "text"
      },
      "source": [
        "<a href=\"https://colab.research.google.com/github/VidishaPonnappa/MachineLearning/blob/main/Project_42.ipynb\" target=\"_parent\"><img src=\"https://colab.research.google.com/assets/colab-badge.svg\" alt=\"Open In Colab\"/></a>"
      ]
    },
    {
      "cell_type": "markdown",
      "metadata": {
        "id": "fIKnY8occu37"
      },
      "source": [
        "#### Goals :\n",
        "\n",
        "1. Reverse Components of RNA\n",
        "\n",
        "3. Customised matplotlib Plots\n",
        "\n",
        "\n",
        "\n",
        "\n",
        "\n",
        "\n"
      ]
    },
    {
      "cell_type": "markdown",
      "metadata": {
        "id": "4GlOMTG2w1en"
      },
      "source": [
        "---"
      ]
    },
    {
      "cell_type": "markdown",
      "metadata": {
        "id": "0dG-Pm9-UpYh"
      },
      "source": [
        "#### Activity 1: Create Customized Line plots.\n",
        "\n",
        "Given the dataset of the average annual salary (in dollars) of developers of various programming languages. Create customized line plots to compare the salary variations **Age-wise** for **Python** developer with **Javascript** developer.\n",
        "\n",
        "**Link to the Dataset**: https://raw.githubusercontent.com/CoreyMSchafer/code_snippets/master/Python/Matplotlib/10-Subplots/data.csv"
      ]
    },
    {
      "cell_type": "code",
      "metadata": {
        "id": "yYlWfTFxUx8C",
        "colab": {
          "base_uri": "https://localhost:8080/"
        },
        "outputId": "a13ab1fb-1a6a-4317-85ca-5479c3cebd13"
      },
      "source": [
        "# Step 1: Import necessary modules to create dataframe and line plots\n",
        "import pandas as pd\n",
        "import matplotlib.pyplot as plt\n",
        "# Step 2: Create a Dataframe and store it in a variable from the given dataset\n",
        "df=pd.read_csv('https://raw.githubusercontent.com/CoreyMSchafer/code_snippets/master/Python/Matplotlib/10-Subplots/data.csv')\n",
        "# Print the first 5 rows in the DataFrame\n",
        "df.value_counts()"
      ],
      "execution_count": null,
      "outputs": [
        {
          "output_type": "execute_result",
          "data": {
            "text/plain": [
              "Age  All_Devs  Python  JavaScript\n",
              "55   103117    120000  104000        1\n",
              "27   46752     53850   46823         1\n",
              "34   68748     75370   68746         1\n",
              "33   67317     71496   68745         1\n",
              "32   64928     70000   66674         1\n",
              "31   62316     70003   62375         1\n",
              "30   56000     65998   56373         1\n",
              "29   53200     63016   53437         1\n",
              "28   49320     57287   49293         1\n",
              "26   42000     48876   43515         1\n",
              "54   105000    122870  105000        1\n",
              "25   38496     45372   37810         1\n",
              "24   34368     41247   34372         1\n",
              "23   30252     37732   29000         1\n",
              "22   25206     30500   25704         1\n",
              "21   20628     24744   21780         1\n",
              "20   18012     20000   18942         1\n",
              "19   16500     17100   16791         1\n",
              "35   73752     83640   74583         1\n",
              "36   77232     84666   79000         1\n",
              "37   78000     84392   78508         1\n",
              "38   78508     78254   79996         1\n",
              "53   108923    112542  108000        1\n",
              "52   100000    101407  99240         1\n",
              "51   98988     108423  91660         1\n",
              "50   100000    104708  100000        1\n",
              "49   98964     100771  100000        1\n",
              "48   98150     112285  102264        1\n",
              "47   91660     102736  91660         1\n",
              "46   91633     99240   99313         1\n",
              "45   90000     93302   90000         1\n",
              "44   95000     97962   96243         1\n",
              "43   90056     94796   87892         1\n",
              "42   90000     100000  91660         1\n",
              "41   88935     91991   88833         1\n",
              "40   82488     87038   83820         1\n",
              "39   79536     85000   80403         1\n",
              "18   17784     20046   16446         1\n",
              "dtype: int64"
            ]
          },
          "metadata": {
            "tags": []
          },
          "execution_count": 4
        }
      ]
    },
    {
      "cell_type": "code",
      "metadata": {
        "id": "KYfflY2cd3Ow",
        "colab": {
          "base_uri": "https://localhost:8080/",
          "height": 262
        },
        "outputId": "01479401-69d5-4bb8-c730-df93259fbec5"
      },
      "source": [
        "# Step 3: Create a customised line plot for comparing the Age-wise annual salary variations for Python developer with JavaScript developer.  Use the 'seaborn-dark' style\n",
        "plt.style.use('seaborn-dark')\n",
        "plt.plot(df['Age'],df['Python'],label='Python')\n",
        "plt.plot(df['Age'],df['JavaScript'],label='JavaScript')\n",
        "plt.legend()\n",
        "plt.show()"
      ],
      "execution_count": null,
      "outputs": [
        {
          "output_type": "display_data",
          "data": {
            "image/png": "[encoded data removed]",
            "text/plain": [
              "<Figure size 432x288 with 1 Axes>"
            ]
          },
          "metadata": {
            "tags": []
          }
        }
      ]
    },
    {
      "cell_type": "markdown",
      "metadata": {
        "id": "PLSY4nu0UzCj"
      },
      "source": [
        "**Q**: What can you conclude from the above comparison ?\n",
        "\n",
        "**A**:"
      ]
    },
    {
      "cell_type": "markdown",
      "metadata": {
        "id": "ftOXrP5NUzsZ"
      },
      "source": [
        "---"
      ]
    },
    {
      "cell_type": "markdown",
      "metadata": {
        "id": "BVT9G_baB1aq"
      },
      "source": [
        "#### Activity 2:  Find Reverse Complement of RNA\n",
        "\n",
        "**Ribonucleic acid** (RNA) is a polymeric molecule essential in various biological roles in coding, decoding, regulation and expression of genes. RNA and DNA are nucleic acids.\n",
        "\n",
        "Create a function (let's say `reverse_complement()`) that finds the **reverse complement** of a ribonucleic acid (**RNA**) strand.\n",
        "\n",
        "The **reverse complement** of **RNA** sequence is formed by reversing the letters, interchanging `A` with `U` and `G` with `C` and vice-versa.\n",
        "\n",
        "The **RNA** will be represented as a string containing only the characters `\"A\", \"C\", \"G\"` and `\"U\"`. Since **RNA** can only (canonically) allow pairings of A/U and G/C, the complement of an **RNA** would be as follows:\n",
        "\n",
        "```\n",
        "original -> complement\n",
        "\n",
        "\"AAA\" -> \"UUU\"\n",
        "\n",
        "\"UUU\" -> \"AAA\"\n",
        "\n",
        "\"GGG\" -> \"CCC\"\n",
        "\n",
        "\"CCC\" -> \"GGG\"\n",
        "\n",
        "\"GGAACC\" -> \"CCAAGG\"\n",
        "```\n",
        "\n",
        "Your function should find the complement on the right and also reverse the resulting string.\n",
        "\n",
        "**Examples**\n",
        "```\n",
        "reverse_complement(\"GUGU\") ➞ \"ACAC\"\n",
        "\n",
        "reverse_complement(\"UCUCG\") ➞ \"CGAGA\"\n",
        "\n",
        "reverse_complement(\"CAGGU\") ➞ \"ACCUG\"\n",
        "```"
      ]
    },
    {
      "cell_type": "code",
      "metadata": {
        "id": "0pIGxKG9B3mb",
        "colab": {
          "base_uri": "https://localhost:8080/",
          "height": 35
        },
        "outputId": "f65b5730-9a9e-437a-acf6-89c68d01e1bf"
      },
      "source": [
        "# Write a program to print the reverse complement of RNA.\n",
        "# Replace A with U, G with C, C with G, U with A. Use python dictionary to store the original and their complement values in the form of key-value pair\n",
        "def revcomp(a):\n",
        "  rna={'A':'U','U':'A','G':'C','C':'G'}\n",
        "  l,v,word=[],[],''\n",
        "  for i in range(len(a)):\n",
        "    l.append(a[i])\n",
        "  for i in l:\n",
        "    v.append(rna[i])\n",
        "  v.reverse()\n",
        "  word=''.join(v)\n",
        "  return word\n",
        "\n",
        "revcomp('UCUCG')"
      ],
      "execution_count": null,
      "outputs": [
        {
          "output_type": "execute_result",
          "data": {
            "application/vnd.google.colaboratory.intrinsic+json": {
              "type": "string"
            },
            "text/plain": [
              "'CGAGA'"
            ]
          },
          "metadata": {
            "tags": []
          },
          "execution_count": 27
        }
      ]
    },
    {
      "cell_type": "markdown",
      "metadata": {
        "id": "IJIZASayCpEW"
      },
      "source": [
        "---"
      ]
    }
  ]
}