{
  "nbformat": 4,
  "nbformat_minor": 0,
  "metadata": {
    "colab": {
      "provenance": [],
      "include_colab_link": true
    },
    "kernelspec": {
      "name": "python3",
      "display_name": "Python 3"
    }
  },
  "cells": [
    {
      "cell_type": "markdown",
      "metadata": {
        "id": "view-in-github",
        "colab_type": "text"
      },
      "source": [
        "<a href=\"https://colab.research.google.com/github/VidishaPonnappa/MachineLearning/blob/main/Project_47.ipynb\" target=\"_parent\"><img src=\"https://colab.research.google.com/assets/colab-badge.svg\" alt=\"Open In Colab\"/></a>"
      ]
    },
    {
      "cell_type": "markdown",
      "metadata": {
        "id": "fIKnY8occu37"
      },
      "source": [
        "#### Goals :\n",
        "\n",
        "1. Additive and Multiplicative Persistence\n",
        "\n",
        "3. The Datetime Module\n"
      ]
    },
    {
      "cell_type": "markdown",
      "metadata": {
        "id": "thM8pM2PveAO"
      },
      "source": [
        "---"
      ]
    },
    {
      "cell_type": "markdown",
      "metadata": {
        "id": "BVT9G_baB1aq"
      },
      "source": [
        "#### 1. Additive and Multiplicative Persistence\n",
        "\n",
        "The **additive persistence** of an integer, `n`, is the number of times you have to replace `n` with the sum of its digits until `n` becomes a single-digit integer.\n",
        "\n",
        "The **multiplicative persistence** of an integer, `n`, is the number of times you have to replace `n` with the product of its digits until `n` becomes a single-digit integer.\n",
        "\n",
        "Create two functions: that takes an integer as an input and returns\n",
        "\n",
        "  1. The first function should take an integer as an input and return its additive persistence.\n",
        "\n",
        "  2. The second function should take an integer as an input and return its multiplicative persistence.\n",
        "\n",
        "\n",
        "**Examples of Additive Persistence**\n",
        "\n",
        "```\n",
        "1. additive_persistence(1679583) ➞ 3\n",
        "```\n",
        "\n",
        "In the above example:\n",
        "\n",
        "- The sum of all the digits in the number `1679583` is `1 + 6 + 7 + 9 + 5 + 8 + 3 = 39`.\n",
        "\n",
        "- The sum of all the digits in the sum obtained in the first step is `3 + 9 = 12`.\n",
        "\n",
        "- The sum of all the digits in the sum obtained in the second step is `1 + 2 = 3`.\n",
        "\n",
        "Therefore, it takes 3 iterations to reach a single-digit number.\n",
        "\n",
        "Similarly, here are a few more examples of additive persistence:\n",
        "\n",
        "```\n",
        "2. additive_persistence(123456) ➞ 2\n",
        "# 1 + 2 + 3 + 4 + 5 + 6 = 21\n",
        "# 2 + 1 = 3\n",
        "\n",
        "3. additive_persistence(6) ➞ 0\n",
        "# Because 6 is already a single-digit integer.\n",
        "```\n",
        "\n",
        "**Example of Multiplicative Persistence**\n",
        "```\n",
        "1. multiplicative_persistence(77) ➞ 4\n",
        "```\n",
        "\n",
        "In the above example:\n",
        "\n",
        "- The product of all the digits in the number `77` is `7 x 7 = 49`.\n",
        "\n",
        "- The product of all the digits in the number obtained in the first step is `4 x 9 = 36`.\n",
        "\n",
        "- The product of all the digits in the number obtained in the second step is `3 x 6 = 18`.\n",
        "\n",
        "- The product of all the digits in the number obtained in the third step is `1 x 8 = 8`.\n",
        "\n",
        "Therefore, it takes 4 iterations to reach a single-digit number.\n",
        "\n",
        "Similarly, here are a few more examples of multiplicative persistence:\n",
        "\n",
        "```\n",
        "2. multiplicative_persistence(123456) ➞ 2\n",
        "# 1 x 2 x 3 x 4 x 5 x 6 = 720\n",
        "# 7 x 2 x 0 = 0\n",
        "\n",
        "3. multiplicative_persistence(4) ➞ 0\n",
        "# Because 4 is already a single-digit integer.\n",
        "```\n",
        "\n",
        "**Hint:** Use `str()` function to convert integer  which is passed as parameter to string. This helps us to check whether `n` is a single digit number or not.\n",
        "\n"
      ]
    },
    {
      "cell_type": "code",
      "metadata": {
        "colab": {
          "base_uri": "https://localhost:8080/"
        },
        "id": "ads5tzY64Uh0",
        "outputId": "aaf67cab-ac5f-4b9c-d2a2-e51185bfbe92"
      },
      "source": [
        "def repeatadd(num):\n",
        "  if num<=9:\n",
        "    return 0\n",
        "  else:\n",
        "    a=list(str(num))\n",
        "    b=list(int(i) for i in a)\n",
        "    suml = sum(b)\n",
        "    return suml\n",
        "\n",
        "def addp(n):\n",
        "  s = repeatadd(n)\n",
        "  if s==0:\n",
        "    return ('The additive persistance of {} is 0.'.format(n))\n",
        "  elif s<=9:\n",
        "    return ('The additive persistance of {} is 1.'.format(n))\n",
        "  else:\n",
        "    count = 1\n",
        "    print('     Count','--->','Sum')\n",
        "    print('\\t',count, '--->',s)\n",
        "    while s>9:\n",
        "      s = repeatadd(s)\n",
        "      count+=1\n",
        "      print('\\t',count, '--->',s)\n",
        "    return ('The additive persistance of {} is {}.'.format(n,count))\n",
        "\n",
        "\n",
        "print(addp(32))\n",
        "print(addp(2))\n",
        "print(addp(1357968))"
      ],
      "execution_count": null,
      "outputs": [
        {
          "output_type": "stream",
          "name": "stdout",
          "text": [
            "The additive persistance of 32 is 1.\n",
            "The additive persistance of 2 is 0.\n",
            "     Count ---> Sum\n",
            "\t 1 ---> 39\n",
            "\t 2 ---> 12\n",
            "\t 3 ---> 3\n",
            "The additive persistance of 1357968 is 3.\n"
          ]
        }
      ]
    },
    {
      "cell_type": "code",
      "metadata": {
        "id": "AQTbnSy9uwoh",
        "colab": {
          "base_uri": "https://localhost:8080/"
        },
        "outputId": "a12f71e5-1981-466f-9080-b1f1736df76f"
      },
      "source": [
        "# Create a function to find the multiplicative persistence\n",
        "def repmul(num):\n",
        "  if num<=9:\n",
        "    return 0\n",
        "  else:\n",
        "    a=list(str(num))\n",
        "    b=list(int(i) for i in a)\n",
        "    prod = 1\n",
        "    for i in b:\n",
        "      prod*=i\n",
        "    return prod\n",
        "\n",
        "def mulp(n):\n",
        "  p = repmul(n)\n",
        "  if p == 0:\n",
        "    return ('The multiplicative persistance of {} is 0.'.format(n))\n",
        "  elif p <= 9:\n",
        "    return ('The multiplicative persistance of {} is 1.'.format(n))\n",
        "  else:\n",
        "    count = 1\n",
        "    print('     Count','--->','Product')\n",
        "    print('\\t',count, '--->',p)\n",
        "    while p>9:\n",
        "      p = repmul(p)\n",
        "      count+=1\n",
        "      print('\\t',count, '--->',p)\n",
        "    return ('The multiplicative persistance of {} is {}.'.format(n,count))\n",
        "\n",
        "print(mulp(321),'\\n')\n",
        "print(mulp(3),'\\n')\n",
        "print(mulp(77))"
      ],
      "execution_count": null,
      "outputs": [
        {
          "output_type": "stream",
          "name": "stdout",
          "text": [
            "The multiplicative persistance of 321 is 1. \n",
            "\n",
            "The multiplicative persistance of 3 is 0. \n",
            "\n",
            "     Count ---> Product\n",
            "\t 1 ---> 49\n",
            "\t 2 ---> 36\n",
            "\t 3 ---> 18\n",
            "\t 4 ---> 8\n",
            "The multiplicative persistance of 77 is 4.\n"
          ]
        }
      ]
    },
    {
      "cell_type": "markdown",
      "metadata": {
        "id": "IJIZASayCpEW"
      },
      "source": [
        "---"
      ]
    },
    {
      "cell_type": "markdown",
      "metadata": {
        "id": "5kBinzKxn3hd"
      },
      "source": [
        "#### 2. Target Streak\n",
        "\n",
        "Create a function that takes two inputs; target date (eg. `\"2020-07-01\"`) and a list of date dictionaries; and returns an integer as an output.\n",
        "\n",
        "The output denotes **target streak**, i.e., the number of consecutive days in a row till the target date.\n",
        "\n",
        "\n",
        "**Example:**\n",
        "```\n",
        "1. target_streak(\"2019-09-23\", [\n",
        "  {\n",
        "    \"date\": \"2019-09-18\"\n",
        "  },\n",
        "  {\n",
        "    \"date\": \"2019-09-19\"\n",
        "  },\n",
        "  {\n",
        "    \"date\": \"2019-09-21\"\n",
        "  },\n",
        "  {\n",
        "    \"date\": \"2019-09-22\"\n",
        "  },\n",
        "  {\n",
        "    \"date\": \"2019-09-23\"\n",
        "  }\n",
        "]) ➞ 3\n",
        "```\n",
        "\n",
        "In the above example, there are 3 consecutive days till the target date `'2019-09-23'`. Hence, the output is 3.\n",
        "\n",
        "\n",
        "Similarly, here are a few more examples:\n",
        "```\n",
        "2. target_streak(\"2019-09-25\", [\n",
        "  {\n",
        "    \"date\": \"2019-09-16\"\n",
        "  },\n",
        "  {\n",
        "    \"date\": \"2019-09-17\"\n",
        "  },\n",
        "  {\n",
        "    \"date\": \"2019-09-21\"\n",
        "  },\n",
        "  {\n",
        "    \"date\": \"2019-09-22\"\n",
        "  },\n",
        "  {\n",
        "    \"date\": \"2019-09-23\"\n",
        "  }\n",
        "]) ➞ 0\n",
        "\n",
        "```\n",
        "\n",
        "In the above example, there are 0 consecutive days till the target date `'2019-09-25'`. Hence, the output is 0.\n",
        "\n",
        "\n",
        "```\n",
        "3. target_streak(\"2019-09-25\", [\n",
        "  {\n",
        "    \"date\": \"2019-09-16\"\n",
        "  },\n",
        "  {\n",
        "    \"date\": \"2019-09-17\"\n",
        "  },\n",
        "  {\n",
        "    \"date\": \"2019-09-21\"\n",
        "  },\n",
        "  {\n",
        "    \"date\": \"2019-09-22\"\n",
        "  },\n",
        "  {\n",
        "    \"date\": \"2019-09-23\"\n",
        "  },\n",
        "  {\n",
        "    \"date\": \"2019-09-24\"\n",
        "  },\n",
        "  {\n",
        "    \"date\": \"2019-09-25\"\n",
        "  }\n",
        "]) ➞ 5\n",
        "\n",
        "```\n",
        "\n",
        "**Notes**\n",
        "\n",
        "- The list of dates is sorted chronologically.\n",
        "\n",
        "- The target date parameter will always be greater than or equal to the last date in the list of dates.\n",
        "\n",
        "- If the input list is an empty list, then the function should return `0`."
      ]
    },
    {
      "cell_type": "code",
      "metadata": {
        "id": "4gjDvOhzn6TL",
        "colab": {
          "base_uri": "https://localhost:8080/"
        },
        "outputId": "343a54ef-59a2-40e5-f4cd-b67b4fb30523"
      },
      "source": [
        "# Write your solution here:\n",
        "def target_streak(d,l):\n",
        "  if l == {}:\n",
        "    return '0 [No days mentioned]'\n",
        "  day,year,month = d[8:],d[:4],d[5:7]\n",
        "  tday = [int(year),int(month),int(day)]\n",
        "  dictdays = list(l.values())\n",
        "  alldays = []\n",
        "  for day in dictdays:\n",
        "    day,year,month = day[8:],day[:4],day[5:7]\n",
        "    curday = [int(year),int(month),int(day)]\n",
        "    alldays.append(curday)\n",
        "  highestdate = alldays[-1][-1]\n",
        "  currentdate = tday[-1]\n",
        "  if currentdate-highestdate != 1:\n",
        "    return '0 [No consecutive days]'\n",
        "  consdays = list(i[-1] for i in alldays)\n",
        "  consdays.sort(reverse = True)\n",
        "  cons = 1\n",
        "  dif = []\n",
        "  for i in range(len(consdays)-1):\n",
        "    if (consdays[i]-consdays[i+1]) == 1:\n",
        "      dif.append(1)\n",
        "    else:\n",
        "      dif.append(0)\n",
        "  for i in dif:\n",
        "    if i == 1:\n",
        "      cons+=1\n",
        "    else:\n",
        "      break\n",
        "  print('Days in the dictionary --->',alldays)\n",
        "  print('Day to be searched --->',tday)\n",
        "  #print(consdays,dif)\n",
        "  return 'Number of consecutive days ---> {}'.format(cons)\n",
        "\n",
        "print(target_streak('2020-10-25',{'date1':'2020-10-16','date2':'2020-10-17','date3':'2020-10-21','date4':'2020-10-22','date5':'2020-10-23'}))\n",
        "print(target_streak('2020-10-25',{}))\n",
        "print(target_streak('2020-10-25',{'date1':'2020-10-16','date2':'2020-10-21','date3':'2020-10-22','date4':'2020-10-23','date5':'2020-10-24'}))"
      ],
      "execution_count": null,
      "outputs": [
        {
          "output_type": "stream",
          "name": "stdout",
          "text": [
            "0 [No consecutive days]\n",
            "0 [No days mentioned]\n",
            "Days in the dictionary ---> [[2020, 10, 16], [2020, 10, 21], [2020, 10, 22], [2020, 10, 23], [2020, 10, 24]]\n",
            "Day to be searched ---> [2020, 10, 25]\n",
            "Number of consecutive days ---> 4\n"
          ]
        }
      ]
    },
    {
      "cell_type": "markdown",
      "metadata": {
        "id": "MWkPEALQn-lN"
      },
      "source": [
        "---"
      ]
    }
  ]
}