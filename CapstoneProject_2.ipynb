{
  "nbformat": 4,
  "nbformat_minor": 0,
  "metadata": {
    "colab": {
      "provenance": [],
      "include_colab_link": true
    },
    "kernelspec": {
      "name": "python3",
      "display_name": "Python 3"
    }
  },
  "cells": [
    {
      "cell_type": "markdown",
      "metadata": {
        "id": "view-in-github",
        "colab_type": "text"
      },
      "source": [
        "<a href=\"https://colab.research.google.com/github/VidishaPonnappa/MachineLearning/blob/main/CapstoneProject_2.ipynb\" target=\"_parent\"><img src=\"https://colab.research.google.com/assets/colab-badge.svg\" alt=\"Open In Colab\"/></a>"
      ]
    },
    {
      "cell_type": "markdown",
      "metadata": {
        "id": "4b8jPMY49LJC"
      },
      "source": [
        "# Capstone Project 2: Guess A Number\n",
        "\n",
        "### Overview\n",
        "\n",
        "In the second project, you have to create a game called **Guess A Number**. In this game:\n",
        "\n",
        "- A computer asks a player to think of a number between 1 and 63.\n",
        "\n",
        "- Then, the player is shown a series of 6 cards which contain some numbers.\n",
        "\n",
        "- The player then tells the computer (in the form of **yes** or **no**) whether the number they thought of exists on the card shown to them.\n",
        "\n",
        "- Based on the player responses to each of the 6 cards, the computer will return the number that the player thought of at the start of the game.\n",
        "\n",
        "To get a better understanding of the game, play it using the link provided below.\n",
        "\n",
        "https://www.mathsisfun.com/games/mind-reader.html\n"
      ]
    },
    {
      "cell_type": "markdown",
      "metadata": {
        "id": "UY7qrd8zCOU8"
      },
      "source": [
        "---"
      ]
    },
    {
      "cell_type": "markdown",
      "metadata": {
        "id": "jdsYkgJVQBqD"
      },
      "source": [
        "### The Game Logic\n",
        "\n",
        "Before going through this section, it is **strongly** recommended that first, you play the game to fully understand the working of the game.\n",
        "\n",
        "**How the computer is able to guess the number chosen by a player?**\n",
        "\n",
        "There are 6 cards. Each card contains 32 numbers, as shown below.\n",
        "\n",
        "- Card 1:\n",
        "\n",
        "  `1 3 5 7 9 11 13 15 17 19 21 23 25 27 29 31 33 35 37 39 41 43 45 47 49 51 53 55 57 59 61 63`\n",
        "\n",
        "- Card 2:\n",
        "\n",
        "  `2 3 6 7 10 11 14 15 18 19 22 23 26 27 30 31 34 35 38 39 42 43 46 47 50 51 54 55 58 59 62 63`\n",
        "\n",
        "- Card 3:\n",
        "  \n",
        "  `4 5 6 7 12 13 14 15 20 21 22 23 28 29 30 31 36 37 38 39 44 45 46 47 52 53 54 55 60 61 62 63`\n",
        "\n",
        "- Card 4:\n",
        "\n",
        "  `8 9 10 11 12 13 14 15 24 25 26 27 28 29 30 31 40 41 42 43 44 45 46 47 56 57 58 59 60 61 62 63`\n",
        "\n",
        "- Card 5:\n",
        "  \n",
        "  `16 17 18 19 20 21 22 23 24 25 26 27 28 29 30 31 48 49 50 51 52 53 54 55 56 57 58 59 60 61 62 63`\n",
        "\n",
        "- Card 6:\n",
        "  \n",
        "  `32 33 34 35 36 37 38 39 40 41 42 43 44 45 46 47 48 49 50 51 52 53 54 55 56 57 58 59 60 61 62 63`\n",
        "\n",
        "If you look at these cards carefully, you will notice that the **first number** on the\n",
        "\n",
        "- first card is\n",
        "$2^0 = 1$\n",
        "\n",
        "- second card is\n",
        "$2^1 = 2$\n",
        "\n",
        "- third card is\n",
        "$2^2 = 4$\n",
        "\n",
        "- fourth card is\n",
        "$2^3 = 8$\n",
        "\n",
        "- fifth card is\n",
        "$2^4 = 16$\n",
        "\n",
        "- sixth card is\n",
        "$2^5 = 32$\n",
        "\n",
        "**What is the significance of these first numbers in all the 6 cards?**\n",
        "\n",
        "Suppose a player thinks of the number 53 . The player is shown all the six cards. The player will say that their number exits on cards 1, 3, 5 and 6. So, the computer will add the first numbers on these cards to guess the number chosen by the player.\n",
        "\n",
        "Therefore,\n",
        "\n",
        "$$\\text{guess} = 1+4+16+32 = 53$$\n",
        "\n",
        "Similarly, if the player thinks of the number 28, then they would say that their number exists on the cards 3, 4 and 5. So, the computer will add the first numbers on these cards to guess the number chosen by the player.\n",
        "\n",
        "Therefore,\n",
        "\n",
        "$$ \\text{guess} = 4+8+16 = 28$$\n",
        "\n",
        "Just for fun, you can try this logic with all the numbers between 1 and 63 (both inclusive).\n",
        "\n"
      ]
    },
    {
      "cell_type": "markdown",
      "metadata": {
        "id": "ShbieC4op8ZP"
      },
      "source": [
        "---"
      ]
    },
    {
      "cell_type": "markdown",
      "metadata": {
        "id": "YNwv3EpXp9vc"
      },
      "source": [
        "### Binary Conversion\n",
        "\n",
        "Now, the next question is **How do we know what numbers to fill in each of the 6 cards?** This is the fun part. This process is divided into two steps.\n",
        "\n",
        "First of all, you have to convert all the numbers between 1 and 63 into its binary notation. In other words, you have to decompose a number into its binary digits. You might already know that a decimal number is expressed as the sum of the product of digits with the powers of 10. For example,\n",
        "$29347$\n",
        "is expressed as\n",
        "\n",
        "  $$29347 = 2 \\times 10^4 + 9 \\times 10^3 + 3 \\times 10^2 + 4 \\times 10^1 + 7 \\times 10^0$$\n",
        "\n",
        "  $$\\Rightarrow 29347 = 20000 + 9000 + 300 + 40 + 7$$\n",
        "\n",
        "  Using this knowledge, we will convert a decimal number into its binary notation. Let's say you want to convert 29 into its binary notation, then you have to **continuously divide it by 2 until you reach the quotient equal to 0**.\n",
        "\n",
        "- 29, when divided by 2, leaves a quotient 14 and remainder 1.\n",
        "\n",
        "|Dividend|Divisor|Quotient|Remainder|\n",
        "|-|-|-|-|\n",
        "|29|2|14|1|\n",
        "  \n",
        "- 14, when divided by 2, leaves a quotient 7 and remainder 0.\n",
        "\n",
        "|Dividend|Divisor|Quotient|Remainder|\n",
        "|-|-|-|-|\n",
        "|29|2|14|1|\n",
        "|14|2|7|0|\n",
        "\n",
        "- 7, when divided by 2, leaves a quotient 3 and remainder 1.\n",
        "  \n",
        "|Dividend|Divisor|Quotient|Remainder|\n",
        "|-|-|-|-|\n",
        "|29|2|14|1|\n",
        "|14|2|7|0|\n",
        "|7|2|3|1|\n",
        "\n",
        "- 3, when divided by 2, leaves a quotient 1 and remainder 1.\n",
        "  \n",
        "|Dividend|Divisor|Quotient|Remainder|\n",
        "|-|-|-|-|\n",
        "|29|2|14|1|\n",
        "|14|2|7|0|\n",
        "|7|2|3|1|\n",
        "|3|2|1|1|\n",
        "\n",
        "- 1, when divided by 2, leaves a quotient 0 and remainder 1.\n",
        "\n",
        "|Dividend|Divisor|Quotient|Remainder|\n",
        "|-|-|-|-|\n",
        "|29|2|14|1|\n",
        "|14|2|7|0|\n",
        "|7|2|3|1|\n",
        "|3|2|1|1|\n",
        "|1|2|0|1|\n",
        "\n",
        "  Now, the division process stops because we have reached a quotient equal to 0. The last remainder obtained through the repeated division process is called the **most significant bit (MSB)** and the first remainder obtained is called the **least significant bit (LSB)**.\n",
        "\n",
        "  So, by arranging the remainders from MSB to LSB, i.e,\n",
        "  $11101$\n",
        "  , you will get the binary notation of a decimal number. The number 29 has 5 digits in binary notation, i.e,\n",
        "  $1, 1, 1, 0, 1$\n",
        "  . So to get the decimal number back from its binary notation, the first digit is multiplied with\n",
        "  $2^{n - 1} $\n",
        "  , where\n",
        "  $n$\n",
        "  is the number of digits in the binary notation. The second digit is multiplied with\n",
        "  $2^{n - 2}$\n",
        "  , the third digit is multiplied with\n",
        "  $2^{n-3}$\n",
        "  and so on\n",
        "  $\\dots$\n",
        "  The last digit is multiplied with\n",
        "  $2^0 = 1$\n",
        "  . Finally, all these products are added together as shown below.\n",
        "\n",
        "  $$29 = 1 \\times 2^4 + 1 \\times 2^3 + 1 \\times 2^2 + 0 \\times 2^1 + 1 \\times 2^0$$\n",
        "\n",
        "  $$\\Rightarrow 29 = 16 + 8 + 4 + 0 + 1$$\n",
        "\n"
      ]
    },
    {
      "cell_type": "markdown",
      "metadata": {
        "id": "HpmKYY7nqShC"
      },
      "source": [
        "---"
      ]
    },
    {
      "cell_type": "markdown",
      "metadata": {
        "id": "vrH2KvV5qUlZ"
      },
      "source": [
        "### Filling The Cards\n",
        "\n",
        "Now that you have converted a decimal number into a binary number, you have to put the number into the cards. So, the number 29 will go to cards 5, 4, 3 and 1 because\n",
        "\n",
        "  - 16 is the first number on card 5,\n",
        "  \n",
        "  - 8 is the first number on card 4,\n",
        "  \n",
        "  - 4 is the first number on card 3,\n",
        "  \n",
        "  - 0 does not exist on any card, and\n",
        "  \n",
        "  - 1 is the first number on card 1\n",
        "\n",
        "  Similarly, the number\n",
        "  $53$\n",
        "  is expressed as\n",
        "  $110101$\n",
        "  in binary notation. To convert\n",
        "  $110101$\n",
        "  back to its decimal number, write\n",
        "  \n",
        "  $$53 = 1 \\times 2^5 + 1 \\times 2^4 + 0 \\times 2^3 + 1 \\times 2^2 + 0 \\times 2^1 + 1 \\times 2^0$$\n",
        "  \n",
        "  $$\\Rightarrow 53 = 32 + 16 + 0 + 4 + 0 + 1$$\n",
        "  \n",
        "  So, the number 53 will go to cards 6, 5, 3 and 1 because\n",
        "\n",
        "  - 32 is the first number on card 6,\n",
        "\n",
        "  - 16 is the first number on card 5,\n",
        "  \n",
        "  - 4 is the first number on card 3, and\n",
        "  \n",
        "  - 1 is the first number on card 1\n",
        "\n",
        "You can also read about the game logic on the link provided below.\n",
        "\n",
        "http://ceadserv1.nku.edu/longa/shows/binary/binomialcards.pdf\n"
      ]
    },
    {
      "cell_type": "markdown",
      "metadata": {
        "id": "-sIvg4uXA44I"
      },
      "source": [
        "---"
      ]
    },
    {
      "cell_type": "markdown",
      "metadata": {
        "id": "2X0PWfZr0tzr"
      },
      "source": [
        "### Game Requirements\n",
        "\n",
        "To create this game, you have to:\n",
        "\n",
        "1. Create a function which converts a number into its binary notation.\n",
        "\n",
        "2. Create an empty python list to store 6 empty python lists which will act as 6 cards.\n",
        "\n",
        "3. Fill the 6 empty python lists which you created in the second step.\n",
        "\n",
        "4. Run the game till the computer has guessed the number that the player thought of.\n",
        "\n",
        "**Note:** You will require the following arithmetic operators for this project:\n",
        "\n",
        "1. The **floor division** operator denoted by double-slashes `//` to get a quotient without fractional parts.\n",
        "\n",
        "2. The **exponent** operator denoted by double-asterisk signs`**` to get a number raised to an exponent (or power or index).\n",
        "\n",
        "3. The **modulo** operator denoted by the percentage sign `%` to get the remainder when a dividend is divided by a divisor."
      ]
    },
    {
      "cell_type": "markdown",
      "metadata": {
        "id": "A6REQjDYrm7Q"
      },
      "source": [
        "---"
      ]
    },
    {
      "cell_type": "markdown",
      "metadata": {
        "id": "7g26AuJW-Opx"
      },
      "source": [
        "#### Step 1: Get The Binary Digits\n",
        "\n",
        "Create a function called `get_binary_digits()` which takes a number as input and converts it into its binary notation and stores the digits in a list.\n",
        "\n",
        "In this exercise, you may need a ready-made Python list function called `reverse()` which reverses the position of the items in the list, i.e., the first item becomes the last item and vice-versa, the second item becomes the second-last item and vice-versa and so on\n",
        "$\\dots$\n",
        "\n",
        "Look at the code shown below to see the usage of the `reverse()` function."
      ]
    },
    {
      "cell_type": "code",
      "metadata": {
        "id": "nIeSj5Oq2JMD",
        "colab": {
          "base_uri": "https://localhost:8080/"
        },
        "outputId": "0d077388-3993-4f0d-a7df-8e125ebb1aca"
      },
      "source": [
        "# First create a list.\n",
        "my_list = [11, 2, 8, 27, 15]\n",
        "my_list"
      ],
      "execution_count": null,
      "outputs": [
        {
          "output_type": "execute_result",
          "data": {
            "text/plain": [
              "[11, 2, 8, 27, 15]"
            ]
          },
          "metadata": {
            "tags": []
          },
          "execution_count": 1
        }
      ]
    },
    {
      "cell_type": "code",
      "metadata": {
        "id": "1k3DjaQf2PSd"
      },
      "source": [
        "# Apply the 'reverse()' function.\n",
        "my_list.reverse()"
      ],
      "execution_count": null,
      "outputs": []
    },
    {
      "cell_type": "code",
      "metadata": {
        "id": "6tJ4xNt22cr0",
        "colab": {
          "base_uri": "https://localhost:8080/"
        },
        "outputId": "3fb6c3b3-ade6-45cd-cc09-edf0fec856e2"
      },
      "source": [
        "# Print the same list again.\n",
        "my_list"
      ],
      "execution_count": null,
      "outputs": [
        {
          "output_type": "execute_result",
          "data": {
            "text/plain": [
              "[15, 27, 8, 2, 11]"
            ]
          },
          "metadata": {
            "tags": []
          },
          "execution_count": 3
        }
      ]
    },
    {
      "cell_type": "markdown",
      "metadata": {
        "id": "fUwlPD9PvUb8"
      },
      "source": [
        "Now create the `get_binary_digits()` function."
      ]
    },
    {
      "cell_type": "code",
      "metadata": {
        "id": "TutOKVY2LwT8"
      },
      "source": [
        "# Create the 'get_binary_function()'.\n",
        "def changetobin(n):\n",
        "  num=bin(n)\n",
        "  lnum=num[2:]\n",
        "  mlist=list(lnum)\n",
        "  return mlist\n",
        "\n",
        "def allnumbin():\n",
        "  l=[]\n",
        "  for i in range(1,64):\n",
        "    l.append(changetobin(i))\n",
        "  for j in l:\n",
        "    while len(j)<6:\n",
        "      j.insert(0,'0')\n",
        "  return l\n",
        "\n",
        "binnumlist=allnumbin()"
      ],
      "execution_count": null,
      "outputs": []
    },
    {
      "cell_type": "markdown",
      "metadata": {
        "id": "A8Pbkoru892v"
      },
      "source": [
        "---"
      ]
    },
    {
      "cell_type": "markdown",
      "metadata": {
        "id": "n-J1-XVh-dtG"
      },
      "source": [
        "#### Step 2: Create Cards\n",
        "\n",
        "Create an empty list called `cards`. Inside the list, create 6 more empty lists."
      ]
    },
    {
      "cell_type": "code",
      "metadata": {
        "id": "ou1YN9IaokG5"
      },
      "source": [
        "# Create an empty list called 'cards' containing 6 other empty lists.\n",
        "C1,C2,C3,C4,C5,C6=[],[],[],[],[],[]"
      ],
      "execution_count": null,
      "outputs": []
    },
    {
      "cell_type": "markdown",
      "metadata": {
        "id": "tZ73fkLY8_Vh"
      },
      "source": [
        "---"
      ]
    },
    {
      "cell_type": "markdown",
      "metadata": {
        "id": "IuwHxX7l-qa-"
      },
      "source": [
        "#### Step 3: Fill The Cards\n",
        "\n",
        "Now, apply the game logic in Python to fill the `cards` list. Remember, the **first** number on the\n",
        "\n",
        "- first card is 1,\n",
        "\n",
        "- second card is 2,\n",
        "\n",
        "- third card is 4,\n",
        "\n",
        "- fourth card is 8,\n",
        "\n",
        "- fifth card is 16, and\n",
        "\n",
        "- sixth card is 32\n",
        "\n",
        "Also, the number\n",
        "$53$\n",
        "is expressed as\n",
        "$110101$\n",
        "in binary notation.  \n",
        "\n",
        "Therefore,\n",
        "\n",
        "$$53 = 1 \\times 2^5 + 1 \\times 2^4 + 0 \\times 2^3 + 1 \\times 2^2 + 0 \\times 2^1 + 1 \\times 2^0$$\n",
        "\n",
        "$$\\Rightarrow 53 = 32 + 16 + 0 + 4 + 0 + 1$$\n",
        "\n",
        "So, the number 53 will go to cards 6, 5, 3 and 1 because\n",
        "\n",
        "- 32 is the first number on card 6,\n",
        "\n",
        "- 16 is the first number on card 5,\n",
        "\n",
        "- 4 is the first number on card 3, and\n",
        "\n",
        "- 1 is the first number on card 1\n"
      ]
    },
    {
      "cell_type": "code",
      "metadata": {
        "id": "rJ7n_sCipcV6"
      },
      "source": [
        "# Fill the 'cards' list by applying the game logic in python.\n",
        "for j in binnumlist:\n",
        "  if j[0]=='1':\n",
        "      C1.append(binnumlist.index(j)+1)\n",
        "  if j[1]=='1':\n",
        "      C2.append(binnumlist.index(j)+1)\n",
        "  if j[2]=='1':\n",
        "      C3.append(binnumlist.index(j)+1)\n",
        "  if j[3]=='1':\n",
        "      C4.append(binnumlist.index(j)+1)\n",
        "  if j[4]=='1':\n",
        "      C5.append(binnumlist.index(j)+1)\n",
        "  if j[5]=='1':\n",
        "      C6.append(binnumlist.index(j)+1)\n"
      ],
      "execution_count": null,
      "outputs": []
    },
    {
      "cell_type": "code",
      "metadata": {
        "colab": {
          "base_uri": "https://localhost:8080/"
        },
        "id": "XcWiigDquNCf",
        "outputId": "e17e0bd2-2238-4892-cc7b-8f7e9edfa4c7"
      },
      "source": [
        "print(C1)\n",
        "print(C2)\n",
        "print(C3)\n",
        "print(C4)\n",
        "print(C5)\n",
        "print(C6)"
      ],
      "execution_count": null,
      "outputs": [
        {
          "output_type": "stream",
          "text": [
            "[32, 33, 34, 35, 36, 37, 38, 39, 40, 41, 42, 43, 44, 45, 46, 47, 48, 49, 50, 51, 52, 53, 54, 55, 56, 57, 58, 59, 60, 61, 62, 63]\n",
            "[16, 17, 18, 19, 20, 21, 22, 23, 24, 25, 26, 27, 28, 29, 30, 31, 48, 49, 50, 51, 52, 53, 54, 55, 56, 57, 58, 59, 60, 61, 62, 63]\n",
            "[8, 9, 10, 11, 12, 13, 14, 15, 24, 25, 26, 27, 28, 29, 30, 31, 40, 41, 42, 43, 44, 45, 46, 47, 56, 57, 58, 59, 60, 61, 62, 63]\n",
            "[4, 5, 6, 7, 12, 13, 14, 15, 20, 21, 22, 23, 28, 29, 30, 31, 36, 37, 38, 39, 44, 45, 46, 47, 52, 53, 54, 55, 60, 61, 62, 63]\n",
            "[2, 3, 6, 7, 10, 11, 14, 15, 18, 19, 22, 23, 26, 27, 30, 31, 34, 35, 38, 39, 42, 43, 46, 47, 50, 51, 54, 55, 58, 59, 62, 63]\n",
            "[1, 3, 5, 7, 9, 11, 13, 15, 17, 19, 21, 23, 25, 27, 29, 31, 33, 35, 37, 39, 41, 43, 45, 47, 49, 51, 53, 55, 57, 59, 61, 63]\n"
          ],
          "name": "stdout"
        }
      ]
    },
    {
      "cell_type": "code",
      "metadata": {
        "colab": {
          "base_uri": "https://localhost:8080/"
        },
        "id": "rwSQKMpMw9Js",
        "outputId": "a9e7059e-9b19-435a-adce-22eeae50644c"
      },
      "source": [
        "c1=list(set(C1))\n",
        "c2=list(set(C2))\n",
        "c3=list(set(C3))\n",
        "c4=list(set(C4))\n",
        "c5=list(set(C5))\n",
        "c6=list(set(C6))\n",
        "print(c1)\n",
        "print(c2)\n",
        "print(c3)\n",
        "print(c4)\n",
        "print(c5)\n",
        "print(c6)"
      ],
      "execution_count": null,
      "outputs": [
        {
          "output_type": "stream",
          "text": [
            "[32, 33, 34, 35, 36, 37, 38, 39, 40, 41, 42, 43, 44, 45, 46, 47, 48, 49, 50, 51, 52, 53, 54, 55, 56, 57, 58, 59, 60, 61, 62, 63]\n",
            "[16, 17, 18, 19, 20, 21, 22, 23, 24, 25, 26, 27, 28, 29, 30, 31, 48, 49, 50, 51, 52, 53, 54, 55, 56, 57, 58, 59, 60, 61, 62, 63]\n",
            "[8, 9, 10, 11, 12, 13, 14, 15, 24, 25, 26, 27, 28, 29, 30, 31, 40, 41, 42, 43, 44, 45, 46, 47, 56, 57, 58, 59, 60, 61, 62, 63]\n",
            "[4, 5, 6, 7, 12, 13, 14, 15, 20, 21, 22, 23, 28, 29, 30, 31, 36, 37, 38, 39, 44, 45, 46, 47, 52, 53, 54, 55, 60, 61, 62, 63]\n",
            "[2, 3, 6, 7, 10, 11, 14, 15, 18, 19, 22, 23, 26, 27, 30, 31, 34, 35, 38, 39, 42, 43, 46, 47, 50, 51, 54, 55, 58, 59, 62, 63]\n",
            "[1, 3, 5, 7, 9, 11, 13, 15, 17, 19, 21, 23, 25, 27, 29, 31, 33, 35, 37, 39, 41, 43, 45, 47, 49, 51, 53, 55, 57, 59, 61, 63]\n"
          ],
          "name": "stdout"
        }
      ]
    },
    {
      "cell_type": "markdown",
      "metadata": {
        "id": "rFjKbHp09BGy"
      },
      "source": [
        "---"
      ]
    },
    {
      "cell_type": "markdown",
      "metadata": {
        "id": "HqKyGvtQ-5Cy"
      },
      "source": [
        "### Gameplay\n",
        "\n",
        "Finally, run the game.\n",
        "\n",
        "1. First, tell the player to think of a number between 1 and 63.\n",
        "\n",
        "2. Ask the player to type `'start'`, once they are ready to play the game.\n",
        "\n",
        "3. Create a variable called `num` and set its initial value equal to zero.\n",
        "\n",
        "4. Using a loop,\n",
        "  \n",
        "  - Show the numbers of the **first** card to the player and ask whether the number they thought of exists in the card. Ask the player to submit their response in the form of `yes` or `no`. If the player reports `yes` then add the first number of card 1 to the value of the `num` variable.\n",
        "  \n",
        "  - Show the numbers of the **second** card to the player and ask whether the number they thought of exists in the card. Ask the player to submit their response in the form of `yes` or `no`. If the player reports `yes` then add the first number of card 2 to the value of the `num` variable.\n",
        "  \n",
        "  - Show the numbers of the **third** card to the player and ask whether the number they thought of exists in the card. Ask the player to submit their response in the form of `yes` or `no`. If the player reports `yes` then add the first number of card 3 to the value of the `num` variable.\n",
        "  \n",
        "  - Show the numbers of the **fourth** card to the player and ask whether the number they thought of exists in the card. Ask the player to submit their response in the form of `yes` or `no`. If the player reports `yes` then add the first number of card 4 to the value of the `num` variable.\n",
        "  \n",
        "  - Show the numbers of the **fifth** card to the player and ask whether the number they thought of exists in the card. Ask the player to submit their response in the form of `yes` or `no`. If the player reports `yes` then add the first number of card 5 to the value of the `num` variable.\n",
        "  \n",
        "  - Show the numbers of the **sixth** card to the player and ask whether the number they thought of exists in the card. Ask the player to submit their response in the form of `yes` or `no`. If the player reports `yes` then add the first number of card 6 to the value of the `num` variable.\n",
        "\n",
        "5. Finally, print the value of the `num` variable which stores the number that the player chose in their head."
      ]
    },
    {
      "cell_type": "code",
      "metadata": {
        "id": "6OXdDGYXsKCL"
      },
      "source": [
        "import sys\n",
        "# Run the game here.\n",
        "# Give a message 'Think of a number between 1 and 63. Type 'start' when you are ready and hit the 'Enter' key.' to the player\n",
        "# Keep printing the message until the player enters only 'start'.\n",
        "# Create the 'num' variable and set its initial value equal to 0.\n",
        "# Create a list named valid_entries.\n",
        "# Create a loop to display the numbers of each card and to take the input whether the number exists in the card displayed.\n",
        "  # If the number exists in the card displayed, then add the first number to the 'num' variable. Use list indexing, to get the first number.\n",
        "# Print the value of the 'num' variable.\n",
        "\n",
        "def gameplay():\n",
        "  print('I can guess the number you are thinking of! Do you want to try?')\n",
        "  q=input(\"Think of a number between 1 and 63. Type 'start' when you are ready. \")\n",
        "  while q!='start':\n",
        "    print('Invalid input.')\n",
        "    q=input(\"Think of a number between 1 and 63. Type 'start' when you are ready. \")\n",
        "\n",
        "  number=[]\n",
        "\n",
        "  print('Card Set 1: ',c1)\n",
        "  ans=input(\"Is your number here? If yes, press 'y'. If not, press 'n'. \")\n",
        "  while ans not in ['y','n']:\n",
        "    print('Invalid input.')\n",
        "    print('Card Set 1: ',c1)\n",
        "    ans=input('Is your number here? If yes, press \"y\". If not, press \"n\". ')\n",
        "  if ans=='y':\n",
        "    number.append('1')\n",
        "  else:\n",
        "    number.append('0')\n",
        "\n",
        "  print('Card Set 2: ',c2)\n",
        "  ans=input(\"Is your number here? If yes, press 'y'. If not, press 'n'. \")\n",
        "  while ans not in ['y','n']:\n",
        "    print('Invalid input.')\n",
        "    print('Card Set 2: ',c2)\n",
        "    ans=input('Is your number here? If yes, press \"y\". If not, press \"n\". ')\n",
        "  if ans=='y':\n",
        "    number.append('1')\n",
        "  else:\n",
        "    number.append('0')\n",
        "\n",
        "  print('Card Set 3: ',c3)\n",
        "  ans=input(\"Is your number here? If yes, press 'y'. If not, press 'n'. \")\n",
        "  while ans not in ['y','n']:\n",
        "    print('Invalid input.')\n",
        "    print('Card Set 3: ',c3)\n",
        "    ans=input('Is your number here? If yes, press \"y\". If not, press \"n\". ')\n",
        "  if ans=='y':\n",
        "    number.append('1')\n",
        "  else:\n",
        "    number.append('0')\n",
        "\n",
        "  print('Card Set 4: ',c4)\n",
        "  ans=input(\"Is your number here? If yes, press 'y'. If not, press 'n'. \")\n",
        "  while ans not in ['y','n']:\n",
        "    print('Invalid input.')\n",
        "    print('Card Set 4: ',c4)\n",
        "    ans=input('Is your number here? If yes, press \"y\". If not, press \"n\". ')\n",
        "  if ans=='y':\n",
        "    number.append('1')\n",
        "  else:\n",
        "    number.append('0')\n",
        "\n",
        "  print('Card Set 5: ',c5)\n",
        "  ans=input(\"Is your number here? If yes, press 'y'. If not, press 'n'. \")\n",
        "  while ans not in ['y','n']:\n",
        "    print('Invalid input.')\n",
        "    print('Card Set 5: ',c5)\n",
        "    ans=input('Is your number here? If yes, press \"y\". If not, press \"n\". ')\n",
        "  if ans=='y':\n",
        "    number.append('1')\n",
        "  else:\n",
        "    number.append('0')\n",
        "\n",
        "  print('Card Set 6: ',c6)\n",
        "  ans=input(\"Is your number here? If yes, press 'y'. If not, press 'n'. \")\n",
        "  while ans not in ['y','n']:\n",
        "    print('Invalid input.')\n",
        "    print('Card Set 6: ',c6)\n",
        "    ans=input('Is your number here? If yes, press \"y\". If not, press \"n\". ')\n",
        "  if ans=='y':\n",
        "    number.append('1')\n",
        "  else:\n",
        "    number.append('0')\n",
        "\n",
        "  for i in binnumlist:\n",
        "    if i==number:\n",
        "      print('The number you were thinking of was {}.'.format(binnumlist.index(i)+1))\n",
        "\n",
        "  q2=input('Do you want to start over? Press \"y\" or \"n\". ')\n",
        "  while q2 not in ['y','n']:\n",
        "    print('Invalid Input')\n",
        "    q2=input('Do you want to start over? Press \"y\" or \"n\". ')\n",
        "  if q2=='y':\n",
        "    gameplay()\n",
        "  else:\n",
        "    print('Thank you!')\n"
      ],
      "execution_count": null,
      "outputs": []
    },
    {
      "cell_type": "code",
      "metadata": {
        "colab": {
          "base_uri": "https://localhost:8080/"
        },
        "id": "NILKX8ls2Wdf",
        "outputId": "b1ac5226-392a-4154-a563-0006820165aa"
      },
      "source": [
        "gameplay()"
      ],
      "execution_count": null,
      "outputs": [
        {
          "output_type": "stream",
          "text": [
            "I can guess the number you are thinking of! Do you want to try?\n",
            "Think of a number between 1 and 63. Type 'start' when you are ready. start\n",
            "Card Set 1:  [32, 33, 34, 35, 36, 37, 38, 39, 40, 41, 42, 43, 44, 45, 46, 47, 48, 49, 50, 51, 52, 53, 54, 55, 56, 57, 58, 59, 60, 61, 62, 63]\n",
            "Is your number here? If yes, press 'y'. If not, press 'n'. n\n",
            "Card Set 2:  [16, 17, 18, 19, 20, 21, 22, 23, 24, 25, 26, 27, 28, 29, 30, 31, 48, 49, 50, 51, 52, 53, 54, 55, 56, 57, 58, 59, 60, 61, 62, 63]\n",
            "Is your number here? If yes, press 'y'. If not, press 'n'. n\n",
            "Card Set 3:  [8, 9, 10, 11, 12, 13, 14, 15, 24, 25, 26, 27, 28, 29, 30, 31, 40, 41, 42, 43, 44, 45, 46, 47, 56, 57, 58, 59, 60, 61, 62, 63]\n",
            "Is your number here? If yes, press 'y'. If not, press 'n'. y\n",
            "Card Set 4:  [4, 5, 6, 7, 12, 13, 14, 15, 20, 21, 22, 23, 28, 29, 30, 31, 36, 37, 38, 39, 44, 45, 46, 47, 52, 53, 54, 55, 60, 61, 62, 63]\n",
            "Is your number here? If yes, press 'y'. If not, press 'n'. y\n",
            "Card Set 5:  [2, 3, 6, 7, 10, 11, 14, 15, 18, 19, 22, 23, 26, 27, 30, 31, 34, 35, 38, 39, 42, 43, 46, 47, 50, 51, 54, 55, 58, 59, 62, 63]\n",
            "Is your number here? If yes, press 'y'. If not, press 'n'. n\n",
            "Card Set 6:  [1, 3, 5, 7, 9, 11, 13, 15, 17, 19, 21, 23, 25, 27, 29, 31, 33, 35, 37, 39, 41, 43, 45, 47, 49, 51, 53, 55, 57, 59, 61, 63]\n",
            "Is your number here? If yes, press 'y'. If not, press 'n'. y\n",
            "The number you were thinking of was 13.\n",
            "Do you want to start over? Press \"y\" or \"n\". n\n",
            "Thank you!\n"
          ],
          "name": "stdout"
        }
      ]
    },
    {
      "cell_type": "markdown",
      "metadata": {
        "id": "9NqTMJcbFEHE"
      },
      "source": [
        "---"
      ]
    }
  ]
}