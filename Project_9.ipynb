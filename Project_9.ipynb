{
  "nbformat": 4,
  "nbformat_minor": 0,
  "metadata": {
    "colab": {
      "provenance": [],
      "include_colab_link": true
    },
    "kernelspec": {
      "name": "python3",
      "display_name": "Python 3"
    }
  },
  "cells": [
    {
      "cell_type": "markdown",
      "metadata": {
        "id": "view-in-github",
        "colab_type": "text"
      },
      "source": [
        "<a href=\"https://colab.research.google.com/github/VidishaPonnappa/MachineLearning/blob/main/Project_9.ipynb\" target=\"_parent\"><img src=\"https://colab.research.google.com/assets/colab-badge.svg\" alt=\"Open In Colab\"/></a>"
      ]
    },
    {
      "cell_type": "markdown",
      "source": [
        "#### Goals :\n",
        "1. Create a 3x3 matrix\n",
        "2. Change dimensions of array; convert array to list\n",
        "3. Find square roots of numbers in list\n"
      ],
      "metadata": {
        "id": "1b-gSE03Dr0N"
      }
    },
    {
      "cell_type": "markdown",
      "metadata": {
        "id": "q4fH06mIjuK3"
      },
      "source": [
        "#### Activity 1: Create a 3 X 3 Matrix\n",
        "\n",
        "To create a 3x3 matrix with values ranging from 2 to 10.\n",
        "\n",
        "**For Example**:\n",
        "\n",
        "```\n",
        "[[ 2  3  4]\n",
        " [ 5  6  7]\n",
        " [ 8  9 10]]\n",
        "```\n",
        "\n",
        "Follow the steps given below to achieve the desired result:\n",
        "\n",
        "  - **Step 1**: Import `numpy` module.\n",
        "\n",
        "  - **Step 2**: Use `arange()` function to create array of numbers from 2 to 10 and `reshape()` function to reshape your array into another array having 3 rows and 3 columns. Store this reshaped array in a variable `x`.\n",
        "\n",
        "  - **Step 3**: Print variable `x` to get the output.\n",
        "\n",
        ""
      ]
    },
    {
      "cell_type": "code",
      "metadata": {
        "id": "4EAoTskqg041",
        "colab": {
          "base_uri": "https://localhost:8080/"
        },
        "outputId": "05a52d32-de37-4d62-80ef-59dadd16bcb7"
      },
      "source": [
        "# Write your code here\n",
        "# Step 1: Import numpy module\n",
        "import numpy as np\n",
        "# Step 2: Declare a variable 'x' to store the result and use 'arange()' and 'reshape()' functions\n",
        "x=np.arange(2,11)\n",
        "x=x.reshape(3,3)\n",
        "# Step 3: Print the variable 'x' to see the output\n",
        "print(x)"
      ],
      "execution_count": null,
      "outputs": [
        {
          "output_type": "stream",
          "text": [
            "[[ 2  3  4]\n",
            " [ 5  6  7]\n",
            " [ 8  9 10]]\n"
          ],
          "name": "stdout"
        }
      ]
    },
    {
      "cell_type": "markdown",
      "metadata": {
        "id": "xJlPs9X9oeRw"
      },
      "source": [
        "---"
      ]
    },
    {
      "cell_type": "markdown",
      "metadata": {
        "id": "qA-b1CdeofKc"
      },
      "source": [
        "#### Activity 2: Change Dimension of an Array and Convert the NumPy Array into a List\n",
        "\n",
        "Write a program to change the dimension of an array (say `my_arr =[1, 2, 3, 4, 5, 6, 7, 8, 9]`) into a 3 X 3 (3 rows and 3 columns) array and convert this NumPy array into a list.\n",
        "\n",
        "**For Example:**\n",
        "```\n",
        "Original array is [1 2 3 4 5 6 7 8 9]\n",
        "Dimension is (9,)\n",
        "Change array shape to (3, 3) -> 3 rows and 3 columns\n",
        "[[1 2 3]\n",
        " [4 5 6]\n",
        " [7 8 9]]\n",
        "\n",
        "The data type of the converted variable is\n",
        " list\n",
        "```\n"
      ]
    },
    {
      "cell_type": "code",
      "metadata": {
        "id": "AtvPTG3kpBoS",
        "colab": {
          "base_uri": "https://localhost:8080/"
        },
        "outputId": "0845eb21-d759-424e-8382-4bcbff251c31"
      },
      "source": [
        "# Write your code here\n",
        "# Import numpy module\n",
        "import numpy\n",
        "# Create a NumPy array containing a list of numbers\n",
        "a=np.arange(1,10)\n",
        "# Print the dimension of the array\n",
        "print('The dimensions of the array is ',a.shape)\n",
        "# Change the dimension of the array into a 3 X 3\n",
        "x=x.reshape(3,3)\n",
        "# Print the array\n",
        "print('The array is:\\n',x)\n",
        "# Convert the NumPy array into a Python list\n",
        "a=list(a)\n",
        "# Use type() function to verify the conversion\n",
        "type(a)"
      ],
      "execution_count": null,
      "outputs": [
        {
          "output_type": "stream",
          "text": [
            "The dimensions of the array is  (9,)\n",
            "The array is:\n",
            " [[ 2  3  4]\n",
            " [ 5  6  7]\n",
            " [ 8  9 10]]\n"
          ],
          "name": "stdout"
        },
        {
          "output_type": "execute_result",
          "data": {
            "text/plain": [
              "list"
            ]
          },
          "metadata": {
            "tags": []
          },
          "execution_count": 8
        }
      ]
    },
    {
      "cell_type": "markdown",
      "metadata": {
        "id": "KOVBiUSMzut1"
      },
      "source": [
        "---"
      ]
    },
    {
      "cell_type": "markdown",
      "metadata": {
        "id": "b4aeCDi0pkJz"
      },
      "source": [
        "#### Activity 3: Find Square Root and Calculate the value of $c$\n",
        "\n",
        "Write a program to perform following two tasks:\n",
        "-  Print the square root of numbers in the list.\n",
        "- Compute the value of $c$ in the equation $c=\\sqrt(a^2 + b^2)$.\n",
        "\n",
        "**For Example**:\n",
        "\n",
        "```\n",
        "list1 = [4, 16, 9, 1, 25]\n",
        "[2   4    3   1    5 ]\n",
        "If a=27\n",
        "   b=39\n",
        "The value of c =  47.43416490252569\n",
        "```\n",
        "**Hint:** Use `np.sqrt()` function.\n",
        ""
      ]
    },
    {
      "cell_type": "code",
      "metadata": {
        "id": "d5ufKLNYzsIl",
        "colab": {
          "base_uri": "https://localhost:8080/"
        },
        "outputId": "d2b3d8be-b696-42ae-fc1b-a048cba3e072"
      },
      "source": [
        "# Write your solution here\n",
        "l=[1,4,9,16,25]\n",
        "for i in l:\n",
        "  print(f'The root of {i} is {i**(1/2)}.')\n",
        "a=int(input('Enter num1: '))\n",
        "b=int(input('Enter num2: '))\n",
        "c=((a**2)+(b**2))**(1/2)\n",
        "print(f'The value of c in the equation with {a} and {b} is {c}')"
      ],
      "execution_count": null,
      "outputs": [
        {
          "output_type": "stream",
          "text": [
            "The root of 1 is 1.0.\n",
            "The root of 4 is 2.0.\n",
            "The root of 9 is 3.0.\n",
            "The root of 16 is 4.0.\n",
            "The root of 25 is 5.0.\n",
            "Enter num1: 27\n",
            "Enter num2: 39\n",
            "The value of c in the equation with 27 and 39 is 47.43416490252569\n"
          ],
          "name": "stdout"
        }
      ]
    },
    {
      "cell_type": "markdown",
      "metadata": {
        "id": "EuzS4rnHjIyn"
      },
      "source": [
        "---"
      ]
    }
  ]
}