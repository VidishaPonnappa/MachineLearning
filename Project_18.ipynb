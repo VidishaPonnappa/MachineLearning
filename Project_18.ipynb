{
  "nbformat": 4,
  "nbformat_minor": 0,
  "metadata": {
    "colab": {
      "provenance": [],
      "include_colab_link": true
    },
    "kernelspec": {
      "name": "python3",
      "display_name": "Python 3"
    }
  },
  "cells": [
    {
      "cell_type": "markdown",
      "metadata": {
        "id": "view-in-github",
        "colab_type": "text"
      },
      "source": [
        "<a href=\"https://colab.research.google.com/github/VidishaPonnappa/MachineLearning/blob/main/Project_18.ipynb\" target=\"_parent\"><img src=\"https://colab.research.google.com/assets/colab-badge.svg\" alt=\"Open In Colab\"/></a>"
      ]
    },
    {
      "cell_type": "markdown",
      "metadata": {
        "id": "fIKnY8occu37"
      },
      "source": [
        "#### Goals:\n",
        "\n",
        "1. Last Digit Ultimate\n",
        "\n",
        "2. Pentagonal NUmber\n"
      ]
    },
    {
      "cell_type": "markdown",
      "metadata": {
        "id": "BBqkpH4_Doqe"
      },
      "source": [
        "---"
      ]
    },
    {
      "cell_type": "markdown",
      "metadata": {
        "id": "BVT9G_baB1aq"
      },
      "source": [
        "#### 1. Last Digit Ultimate\n",
        "\n",
        "Your job is to create a function, that takes 3 numbers: `num1, num2, num3` and returns `True` if:  (last digit of `num1`) * (the last digit of `num2`) = the last digit of `num3`."
      ]
    },
    {
      "cell_type": "code",
      "metadata": {
        "id": "0pIGxKG9B3mb"
      },
      "source": [
        "# Write your solution here:\n",
        "def lastdig(a,b,c):\n",
        "  sa,sb,sc=str(a),str(b),str(c)\n",
        "  la,lb,lc=sa[-1],sb[-1],sc[-1]\n",
        "  nla,nlb,nlc=int(la),int(lb),int(lc)\n",
        "  nprod=nla*nlb\n",
        "  nprod=list(nprod)\n",
        "  print(nprod)\n",
        "  if nprod[-1]==nlc:\n",
        "    return True\n",
        "  else:\n",
        "    return False\n",
        "lastdig(25,21,124)"
      ],
      "execution_count": null,
      "outputs": []
    },
    {
      "cell_type": "markdown",
      "metadata": {
        "id": "JuwBMIeFB9xY"
      },
      "source": [
        "---"
      ]
    },
    {
      "cell_type": "markdown",
      "metadata": {
        "id": "qA-b1CdeofKc"
      },
      "source": [
        "#### 2. Pentagonal Number\n",
        "\n",
        "Given a number $num$ as a positive integer, calculate how many dots exist in a pentagonal shape around the centre dot on the $Nth$ iteration.\n",
        "\n",
        "In the image below you can see in the first iteration there is only a single dot. On the second, there are 6 dots. On the third, there are 16 dots, and on the fourth there are 31 dots.\n",
        "\n",
        "<img src='https://student-datasets-bucket.s3.ap-south-1.amazonaws.com/images/pengatonal-number.png' width=500>\n"
      ]
    },
    {
      "cell_type": "code",
      "metadata": {
        "id": "J3292jsBX-gQ"
      },
      "source": [
        "1,6,16,31,51\n",
        "1+5(0),5(1)+1,5(2)+6"
      ],
      "execution_count": null,
      "outputs": []
    },
    {
      "cell_type": "code",
      "metadata": {
        "id": "AtvPTG3kpBoS",
        "colab": {
          "base_uri": "https://localhost:8080/"
        },
        "outputId": "70817cdf-8007-4e8d-8333-3ad9fc1d0de0"
      },
      "source": [
        "# Write your solution here\n",
        "def pent(n):\n",
        "  num,l=1,[]\n",
        "  for i in range(0,n):\n",
        "    num+=(5*i)\n",
        "    l.append(num)\n",
        "  print('In series of {} terms, last term is {}.'.format(n,l[-1]))\n",
        "\n",
        "n=int(input('Enter the number of terms: '))\n",
        "pent(n)"
      ],
      "execution_count": null,
      "outputs": [
        {
          "output_type": "stream",
          "text": [
            "Enter the number of terms: 9\n",
            "In series of 9 terms, last term is 181.\n"
          ],
          "name": "stdout"
        }
      ]
    },
    {
      "cell_type": "markdown",
      "metadata": {
        "id": "fgW8LAyjEaEH"
      },
      "source": [
        "**Q**: How many dots are there in the 9th iteration?\n",
        "\n",
        "**A**: 181"
      ]
    },
    {
      "cell_type": "markdown",
      "metadata": {
        "id": "KOVBiUSMzut1"
      },
      "source": [
        "---"
      ]
    }
  ]
}