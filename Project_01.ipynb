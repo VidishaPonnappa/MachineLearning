{
  "nbformat": 4,
  "nbformat_minor": 0,
  "metadata": {
    "colab": {
      "provenance": [],
      "include_colab_link": true
    },
    "kernelspec": {
      "name": "python3",
      "display_name": "Python 3"
    }
  },
  "cells": [
    {
      "cell_type": "markdown",
      "metadata": {
        "id": "view-in-github",
        "colab_type": "text"
      },
      "source": [
        "<a href=\"https://colab.research.google.com/github/VidishaPonnappa/MachineLearning/blob/main/Project_1.ipynb\" target=\"_parent\"><img src=\"https://colab.research.google.com/assets/colab-badge.svg\" alt=\"Open In Colab\"/></a>"
      ]
    },
    {
      "cell_type": "markdown",
      "source": [
        "Personal Details :"
      ],
      "metadata": {
        "id": "o3aZK4su6SRb"
      }
    },
    {
      "cell_type": "code",
      "metadata": {
        "id": "4EAoTskqg041",
        "colab": {
          "base_uri": "https://localhost:8080/",
          "height": 68
        },
        "outputId": "d5b1892e-01ec-465c-ab14-d00d529851c7"
      },
      "source": [
        "# Write your code here\n",
        "# Step 1: Ask the user to enter a name\n",
        "name=input('Enter your name: ')\n",
        "# Step 2: Ask the user to enter an email id\n",
        "email=input(\"Enter your email id: \")\n",
        "# Step 3: Print name and email id\n",
        "print('Hello {}, your email id is {}.'.format(name,email))"
      ],
      "execution_count": null,
      "outputs": [
        {
          "output_type": "stream",
          "text": [
            "Enter your name: Vidisha\n",
            "Enter your email id: vidishaponnappa@gmail.com\n",
            "Hello Vidisha, your email id is vidishaponnappa@gmail.com.\n"
          ],
          "name": "stdout"
        }
      ]
    },
    {
      "cell_type": "markdown",
      "metadata": {
        "id": "xJlPs9X9oeRw"
      },
      "source": [
        "---"
      ]
    },
    {
      "cell_type": "markdown",
      "source": [
        "Average of Marks :"
      ],
      "metadata": {
        "id": "_5pCgIpc6JOp"
      }
    },
    {
      "cell_type": "code",
      "metadata": {
        "id": "AtvPTG3kpBoS",
        "colab": {
          "base_uri": "https://localhost:8080/",
          "height": 85
        },
        "outputId": "508b3ec9-737e-446e-f9de-192bd839be92"
      },
      "source": [
        "# Write your code here\n",
        "# Step 1: Declare three variables 'mark1', 'mark2' and 'mark3' respectively and store any numerical values in them\n",
        "mark1=int(input('Enter your marks in the 1st subject: '))\n",
        "mark2=int(input('Enter your marks in the 2nd subject: '))\n",
        "mark3=int(input('Enter your marks in the 3rd subject: '))\n",
        "# Step 2: Use 'sum' variable to store their sum\n",
        "sum=mark1+mark2+mark3\n",
        "# Step 3: Calculate the average by dividing the 'sum' by 3 and storing it in the variable 'average'\n",
        "average=sum/3\n",
        "# Step 4: Use print() function to display the average marks\n",
        "print('Your average marks value is ({}).'.format(average))"
      ],
      "execution_count": null,
      "outputs": [
        {
          "output_type": "stream",
          "text": [
            "Enter your marks in the 1st subject: 10\n",
            "Enter your marks in the 2nd subject: 50\n",
            "Enter your marks in the 3rd subject: 90\n",
            "Your average marks value is (50.0).\n"
          ],
          "name": "stdout"
        }
      ]
    },
    {
      "cell_type": "markdown",
      "metadata": {
        "id": "KOVBiUSMzut1"
      },
      "source": [
        "---"
      ]
    }
  ]
}
