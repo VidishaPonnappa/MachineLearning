{
  "nbformat": 4,
  "nbformat_minor": 0,
  "metadata": {
    "colab": {
      "provenance": [],
      "include_colab_link": true
    },
    "kernelspec": {
      "name": "python3",
      "display_name": "Python 3"
    }
  },
  "cells": [
    {
      "cell_type": "markdown",
      "metadata": {
        "id": "view-in-github",
        "colab_type": "text"
      },
      "source": [
        "<a href=\"https://colab.research.google.com/github/VidishaPonnappa/MachineLearning/blob/main/Project_46.ipynb\" target=\"_parent\"><img src=\"https://colab.research.google.com/assets/colab-badge.svg\" alt=\"Open In Colab\"/></a>"
      ]
    },
    {
      "cell_type": "markdown",
      "metadata": {
        "id": "fIKnY8occu37"
      },
      "source": [
        "#### Goals :\n",
        "\n",
        "1. Find Intersecting Intervals\n",
        "2. Armstrong Number"
      ]
    },
    {
      "cell_type": "markdown",
      "metadata": {
        "id": "zgHlhOmHtpGt"
      },
      "source": [
        "---"
      ]
    },
    {
      "cell_type": "markdown",
      "metadata": {
        "id": "0dG-Pm9-UpYh"
      },
      "source": [
        "#### 1. Intersecting Intervals\n",
        "\n",
        "Create a function that accepts a list of `intervals` and a `point` as parameters and returns how many intervals **overlap** with that given `point`.\n",
        "\n",
        "An `interval` overlaps a particular `point` if the `point` exists inside the `interval` or on the interval's boundary. For example, the point `3` overlaps with the interval `[2, 4]` (it is inside) and `[2, 3]` (it is on the boundary).\n",
        "\n",
        "**For Example:**\n",
        "```\n",
        "count_overlapping([[1, 2], [2, 3], [1, 3], [4, 5], [0, 1]], 2) ➞ 3\n",
        "# The list of intervals and the point of intersection are passed as parameters\n",
        "# Since [1, 2], [2, 3] and [1, 3] all overlap with point 2\n",
        "```\n",
        "\n",
        "**Note:**\n",
        "\n",
        "- Each `interval` is represented as a list with a **start point** and an **endpoint**.\n"
      ]
    },
    {
      "cell_type": "code",
      "metadata": {
        "id": "yYlWfTFxUx8C",
        "colab": {
          "base_uri": "https://localhost:8080/"
        },
        "outputId": "d0d4602d-7c3e-4cb9-c515-6f76f53a0411"
      },
      "source": [
        "# Write your solution here\n",
        "def co(l,num):\n",
        "  count=0\n",
        "  for i in l:\n",
        "    a,b=i[0],i[1]\n",
        "    for j in range(a,b+1):\n",
        "      if j==num:\n",
        "        count+=1\n",
        "  return count\n",
        "\n",
        "print(co([[1, 2], [2, 3], [3, 4]], 5))\n",
        "co([[1, 2], [5, 6], [5, 7]], 5)"
      ],
      "execution_count": null,
      "outputs": [
        {
          "output_type": "stream",
          "text": [
            "0\n"
          ],
          "name": "stdout"
        },
        {
          "output_type": "execute_result",
          "data": {
            "text/plain": [
              "2"
            ]
          },
          "metadata": {
            "tags": []
          },
          "execution_count": 3
        }
      ]
    },
    {
      "cell_type": "markdown",
      "metadata": {
        "id": "ftOXrP5NUzsZ"
      },
      "source": [
        "---"
      ]
    },
    {
      "cell_type": "markdown",
      "metadata": {
        "id": "BVT9G_baB1aq"
      },
      "source": [
        "#### 2. Armstrong Number\n",
        "\n",
        "Write a function which takes a number as input and returns `True` if the number is an Armstrong number else returns `False`. A number is an **Armstrong number** if the sum of cubes of each digit is equal to the number itself.\n",
        "\n",
        "153: (1 x 1 x 1) + (5 x 5 x 5) + (3 x 3 x 3) = 153. Hence, 153 is an Armstrong number.\n"
      ]
    },
    {
      "cell_type": "code",
      "metadata": {
        "id": "0pIGxKG9B3mb",
        "colab": {
          "base_uri": "https://localhost:8080/"
        },
        "outputId": "6fecaef5-1ac3-4558-d43d-324a729eafa4"
      },
      "source": [
        "# Write a function to check whether a number is Armstrong or not\n",
        "def an(num):\n",
        "  n=str(num)\n",
        "  sum,l=0,[]\n",
        "  for i in range(len(n)):\n",
        "    l.append(int(n[i]))\n",
        "  for j in l:\n",
        "    sum+=(j**3)\n",
        "  if sum==num:\n",
        "    return True\n",
        "  else:\n",
        "    return False\n",
        "print(an(153),an(150))"
      ],
      "execution_count": null,
      "outputs": [
        {
          "output_type": "stream",
          "text": [
            "True False\n"
          ],
          "name": "stdout"
        }
      ]
    },
    {
      "cell_type": "markdown",
      "metadata": {
        "id": "uFgXE0iAt0NO"
      },
      "source": [
        "---"
      ]
    }
  ]
}