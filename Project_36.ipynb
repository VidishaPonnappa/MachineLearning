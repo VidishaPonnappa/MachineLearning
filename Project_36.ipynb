{
  "nbformat": 4,
  "nbformat_minor": 0,
  "metadata": {
    "colab": {
      "provenance": [],
      "include_colab_link": true
    },
    "kernelspec": {
      "name": "python3",
      "display_name": "Python 3"
    }
  },
  "cells": [
    {
      "cell_type": "markdown",
      "metadata": {
        "id": "view-in-github",
        "colab_type": "text"
      },
      "source": [
        "<a href=\"https://colab.research.google.com/github/VidishaPonnappa/MachineLearning/blob/main/Project_36.ipynb\" target=\"_parent\"><img src=\"https://colab.research.google.com/assets/colab-badge.svg\" alt=\"Open In Colab\"/></a>"
      ]
    },
    {
      "cell_type": "markdown",
      "metadata": {
        "id": "fIKnY8occu37"
      },
      "source": [
        "#### Goals :\n",
        "\n",
        "1. Match Words\n",
        "\n",
        "2. Expensive Orders\n"
      ]
    },
    {
      "cell_type": "markdown",
      "metadata": {
        "id": "yPZGW0_xDUOy"
      },
      "source": [
        "---"
      ]
    },
    {
      "cell_type": "markdown",
      "metadata": {
        "id": "BVT9G_baB1aq"
      },
      "source": [
        "#### 1. Match Words\n",
        "\n",
        "Write a function to count from a given list, the number of words whose length is 2 or more and the first and last character are the same.\n"
      ]
    },
    {
      "cell_type": "code",
      "metadata": {
        "id": "0pIGxKG9B3mb",
        "colab": {
          "base_uri": "https://localhost:8080/"
        },
        "outputId": "27477026-7c69-4c53-c6ab-b17ba34f911d"
      },
      "source": [
        "def fnl(l):\n",
        "  l1,l2=[],[]\n",
        "  for i in l:\n",
        "    if len(i)>=2:\n",
        "      l1.append(i)\n",
        "  for j in l1:\n",
        "    if j[0]==j[-1]:\n",
        "      l2.append(j)\n",
        "  return l2\n",
        "fnl(['civic', 'organ', 'trust', 'rigid', 'erase', 'right'])"
      ],
      "execution_count": null,
      "outputs": [
        {
          "output_type": "execute_result",
          "data": {
            "text/plain": [
              "['civic', 'trust', 'erase']"
            ]
          },
          "metadata": {
            "tags": []
          },
          "execution_count": 1
        }
      ]
    },
    {
      "cell_type": "markdown",
      "metadata": {
        "id": "IJIZASayCpEW"
      },
      "source": [
        "---"
      ]
    },
    {
      "cell_type": "markdown",
      "metadata": {
        "id": "BlwuesUU2VEE"
      },
      "source": [
        "#### Activity 2: Print Expensive orders\n",
        "\n",
        "Write a function that returns all orders whose price is strictly more than `avg_val`, where `avg_val` will be an average price that will be passed in the function as a second parameter. The function will look like:\n",
        "\n",
        "`expensive_orders(d, avg_val)`, where `d` is the dictionary with the item name as `key` and the price of the item as `value` and the `avg_val` is the average price of orders.\n",
        "\n",
        "**Example**\n",
        "```\n",
        "1. expensive_orders({ \"a\": 3000,\n",
        "                      \"b\": 200,\n",
        "                      \"c\": 1050 }, 1000) ➞ { \"a\": 3000, \"c\": 1050 }\n",
        "\n",
        "```"
      ]
    },
    {
      "cell_type": "code",
      "metadata": {
        "id": "zbVRgU5s4Zuj",
        "colab": {
          "base_uri": "https://localhost:8080/"
        },
        "outputId": "f28c207e-d464-48c9-9f8f-5798f84f347f"
      },
      "source": [
        "# Write a function to print the expensive orders\n",
        "def eo(d,a):\n",
        "  more=[]\n",
        "  for i in d.items():\n",
        "    if i[1]>a:\n",
        "      more.append(i)\n",
        "  return more\n",
        "eo({ \"a\": 3000,\"b\": 200,\"c\": 1050 }, 1000)"
      ],
      "execution_count": null,
      "outputs": [
        {
          "output_type": "execute_result",
          "data": {
            "text/plain": [
              "[('a', 3000), ('c', 1050)]"
            ]
          },
          "metadata": {
            "tags": []
          },
          "execution_count": 2
        }
      ]
    },
    {
      "cell_type": "markdown",
      "metadata": {
        "id": "2KRIcLMoDmPS"
      },
      "source": [
        "---"
      ]
    }
  ]
}