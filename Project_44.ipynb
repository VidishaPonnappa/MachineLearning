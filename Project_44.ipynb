{
  "nbformat": 4,
  "nbformat_minor": 0,
  "metadata": {
    "colab": {
      "provenance": [],
      "include_colab_link": true
    },
    "kernelspec": {
      "name": "python3",
      "display_name": "Python 3"
    }
  },
  "cells": [
    {
      "cell_type": "markdown",
      "metadata": {
        "id": "view-in-github",
        "colab_type": "text"
      },
      "source": [
        "<a href=\"https://colab.research.google.com/github/VidishaPonnappa/MachineLearning/blob/main/Project_44.ipynb\" target=\"_parent\"><img src=\"https://colab.research.google.com/assets/colab-badge.svg\" alt=\"Open In Colab\"/></a>"
      ]
    },
    {
      "cell_type": "markdown",
      "metadata": {
        "id": "fIKnY8occu37"
      },
      "source": [
        "#### Goals :\n",
        "\n",
        "1. Buggy Uppercase Counting\n",
        "2. Invert Keys and Values for dictionary\n",
        "\n",
        "\n"
      ]
    },
    {
      "cell_type": "markdown",
      "metadata": {
        "id": "BBqkpH4_Doqe"
      },
      "source": [
        "---"
      ]
    },
    {
      "cell_type": "markdown",
      "metadata": {
        "id": "0dG-Pm9-UpYh"
      },
      "source": [
        "#### 1.  Buggy Uppercase Counting\n",
        "\n",
        "Create a function to return the number of uppercase letters in a list of words.\n"
      ]
    },
    {
      "cell_type": "code",
      "metadata": {
        "id": "yYlWfTFxUx8C",
        "colab": {
          "base_uri": "https://localhost:8080/"
        },
        "outputId": "bee16889-52ae-47b8-b8c1-9577fd531d1f"
      },
      "source": [
        "# Create a function to return the number of uppercase letters in a list of words\n",
        "def count_uc(l):\n",
        "  count=0\n",
        "  for i in l:\n",
        "    for j in i:\n",
        "      if j.isupper() == True:\n",
        "        count+=1\n",
        "  return count\n",
        "\n",
        "count_uc(['A','B','CAt','dOg'])"
      ],
      "execution_count": null,
      "outputs": [
        {
          "output_type": "execute_result",
          "data": {
            "text/plain": [
              "5"
            ]
          },
          "metadata": {
            "tags": []
          },
          "execution_count": 4
        }
      ]
    },
    {
      "cell_type": "markdown",
      "metadata": {
        "id": "ftOXrP5NUzsZ"
      },
      "source": [
        "---"
      ]
    },
    {
      "cell_type": "markdown",
      "metadata": {
        "id": "BVT9G_baB1aq"
      },
      "source": [
        "#### 2. Keys and Values Inverting\n",
        "\n",
        "Create a function that inverts the keys and values of a dictionary.\n"
      ]
    },
    {
      "cell_type": "code",
      "metadata": {
        "id": "0pIGxKG9B3mb",
        "colab": {
          "base_uri": "https://localhost:8080/"
        },
        "outputId": "99dc6e06-91e4-41b8-a92f-af36a5416483"
      },
      "source": [
        "# Write your solution here:\n",
        "def invert(d):\n",
        "  d1={}\n",
        "  for i in d.items():\n",
        "    d1[i[1]]=i[0]\n",
        "  return d1\n",
        "\n",
        "invert({'a': 'v', 'b': 'y'})"
      ],
      "execution_count": null,
      "outputs": [
        {
          "output_type": "execute_result",
          "data": {
            "text/plain": [
              "{'v': 'a', 'y': 'b'}"
            ]
          },
          "metadata": {
            "tags": []
          },
          "execution_count": 28
        }
      ]
    },
    {
      "cell_type": "markdown",
      "metadata": {
        "id": "JrgXE4pwIE1y"
      },
      "source": [
        "---"
      ]
    }
  ]
}