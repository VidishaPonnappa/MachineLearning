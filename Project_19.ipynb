{
  "nbformat": 4,
  "nbformat_minor": 0,
  "metadata": {
    "colab": {
      "provenance": [],
      "include_colab_link": true
    },
    "kernelspec": {
      "name": "python3",
      "display_name": "Python 3"
    }
  },
  "cells": [
    {
      "cell_type": "markdown",
      "metadata": {
        "id": "view-in-github",
        "colab_type": "text"
      },
      "source": [
        "<a href=\"https://colab.research.google.com/github/VidishaPonnappa/MachineLearning/blob/main/Project_19.ipynb\" target=\"_parent\"><img src=\"https://colab.research.google.com/assets/colab-badge.svg\" alt=\"Open In Colab\"/></a>"
      ]
    },
    {
      "cell_type": "markdown",
      "metadata": {
        "id": "bEyBzxYRhrLG"
      },
      "source": [
        "#### Goal :\n",
        "\n",
        "1. Scatter Plot\n",
        "2. Line Plot\n",
        "3. Tower of Hanoi"
      ]
    },
    {
      "cell_type": "markdown",
      "metadata": {
        "id": "DPOFIO3EHncO"
      },
      "source": [
        "---"
      ]
    },
    {
      "cell_type": "markdown",
      "metadata": {
        "id": "q4fH06mIjuK3"
      },
      "source": [
        "#### Activity 1: Creating Scatter plot\n",
        "\n",
        "\n",
        "|Unemployment Rate|Stock Price|\n",
        "|-|-|\n",
        "|6.2|1600|\n",
        "|||\n",
        "|5.8|1500|\n",
        "|||\n",
        "|5.7|1530|\n",
        "|||\n",
        "|5.5|1540|\n",
        "|||\n",
        "|5.3|1620|\n",
        "|||\n",
        "|5.2|1534|\n",
        "|||\n",
        "|5.9|1565|\n",
        "\n",
        "Create **Scatter plot** for the above dataset with Unemployment Rate on X-axis and Stock Price on Y-axis.\n",
        "\n"
      ]
    },
    {
      "cell_type": "code",
      "metadata": {
        "id": "Oag8PLVXgo6c",
        "colab": {
          "base_uri": "https://localhost:8080/",
          "height": 265
        },
        "outputId": "e744955b-7e69-4ab8-dda5-a6a424f6e7e1"
      },
      "source": [
        "# Create Scatter plot with Unemployment Rate on X-axis and Stock Price on Y-axis\n",
        "import matplotlib.pyplot as pl\n",
        "# import modules\n",
        "un=[6.2,5.8,5.7,5.5,5.3,5.2,5.9]\n",
        "sp=[1600,1500,1530,1540,1620,1534,1565]\n",
        "# Create two lists, one for Unemployment Rate and one for Stock Price\n",
        "# Create Scatter plot\n",
        "pl.scatter(un,sp)\n",
        "pl.show()"
      ],
      "execution_count": null,
      "outputs": [
        {
          "output_type": "display_data",
          "data": {
            "image/png": "[encoded data removed]",
            "text/plain": [
              "<Figure size 432x288 with 1 Axes>"
            ]
          },
          "metadata": {
            "tags": [],
            "needs_background": "light"
          }
        }
      ]
    },
    {
      "cell_type": "markdown",
      "metadata": {
        "id": "xJlPs9X9oeRw"
      },
      "source": [
        "---"
      ]
    },
    {
      "cell_type": "markdown",
      "metadata": {
        "id": "oxQdooOzjQ13"
      },
      "source": [
        "#### Activity 2: Creating Line Plot\n",
        "\n",
        "Consider the following dataset which depicts the **Unemployment Rate** across time.\n",
        "\n",
        "\n",
        "|Year| Rate|\n",
        "|-|-|\n",
        "|1920|<t>9.8|\n",
        "|||\n",
        "|1930|12|\n",
        "|||\n",
        "|1940|8|\n",
        "|||\n",
        "|1950|7.2|\n",
        "|||\n",
        "|1960|6.9|\n",
        "|||\n",
        "|1970|7|\n",
        "|||\n",
        "|1980|6.5|\n",
        "|||\n",
        "|1990|6.2|\n",
        "|||\n",
        "|2000|5.5|\n",
        "|||\n",
        "|2010|6.3|\n",
        "\n",
        "Create a **Line Plot** to depict the above dataset with Year on X-axis and Unemployment Rate on Y-axis.\n",
        "\n",
        "\n"
      ]
    },
    {
      "cell_type": "code",
      "metadata": {
        "id": "3dB7XTzxlaH8",
        "colab": {
          "base_uri": "https://localhost:8080/",
          "height": 265
        },
        "outputId": "1c7dbd96-9bb0-4e90-b901-7abca8037a4e"
      },
      "source": [
        "# Create Line plot with Year on X-axis and Unemployment Rate on Y-axis\n",
        "year=[1920,1930,1940,1950,1960,1970,1980,1990,2000,2010]\n",
        "rate=[9.8,12,8,7.2,6.9,7,6.5,6.2,5.5,6.3]\n",
        "# Create two lists, one for Year and one for Unemployment Rate\n",
        "# Create the line plot\n",
        "pl.plot(year,rate)\n",
        "pl.show()"
      ],
      "execution_count": null,
      "outputs": [
        {
          "output_type": "display_data",
          "data": {
            "image/png": "[encoded data removed]",
            "text/plain": [
              "<Figure size 432x288 with 1 Axes>"
            ]
          },
          "metadata": {
            "tags": [],
            "needs_background": "light"
          }
        }
      ]
    },
    {
      "cell_type": "markdown",
      "metadata": {
        "id": "b4aeCDi0pkJz"
      },
      "source": [
        "#### Activity 3: Tower of Hanoi\n",
        "\n",
        "Tower of Hanoi is a  puzzle where we have three towers and n disks. The objective of the puzzle is to move the entire stack to another tower, obeying the following simple rules:\n",
        "\n",
        "1. Only one disk can be moved at a time.\n",
        "2. Each move consists of taking the upper disk from one of the stacks and placing it on top of another stack i.e. a disk can only be moved if it is the uppermost disk on a stack.\n",
        "3. No disk may be placed on top of a smaller disk.\n",
        "\n",
        "![animation](https://i.imgur.com/Vz98flW.gif)\n",
        "\n",
        "\n",
        "Create a function to calculate minimum number of steps required to move the all the disks from first tower to third tower.\n",
        "\n",
        "**Hint:** The minimum number of steps required to move the disks is equal to $2^n - 1$ where $n$ is the number of disks and $2$ is the number of towers the disks needs to be shifted.\n",
        "\n",
        "\n",
        "\n",
        "**Example:** Minimum number of steps required to shift 5 disks is 31\n",
        "\n",
        "Follow the steps given below to achieve the desired result:\n",
        "\n",
        "  - **Step 1**: Create a function (let's say `tower_hanoi()`) that takes an integer `disks` as a parameter and returns the minimum amount of steps needed to complete the game.\n",
        "\n",
        "  - **Step 2**: Use $2^n - 1$ to return the result\n",
        "\n",
        "  - **Step 3**: Call the function and check the result\n"
      ]
    },
    {
      "cell_type": "code",
      "metadata": {
        "id": "d5ufKLNYzsIl",
        "colab": {
          "base_uri": "https://localhost:8080/"
        },
        "outputId": "4576ad8d-6431-410f-c644-c3db77eacab3"
      },
      "source": [
        "# Write your code here\n",
        "def towerhanoi(disk):\n",
        "  print('Least number of steps is -',(2**disk)-1)\n",
        "a=int(input('Enter number of disks: '))\n",
        "towerhanoi(a)"
      ],
      "execution_count": null,
      "outputs": [
        {
          "output_type": "stream",
          "text": [
            "Enter number of disks: 5\n",
            "Least number of steps is - 31\n"
          ],
          "name": "stdout"
        }
      ]
    },
    {
      "cell_type": "markdown",
      "metadata": {
        "id": "HSz7jRSlGxIO"
      },
      "source": [
        "---"
      ]
    }
  ]
}