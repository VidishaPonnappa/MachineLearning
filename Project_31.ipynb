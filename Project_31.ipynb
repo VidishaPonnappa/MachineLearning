{
  "nbformat": 4,
  "nbformat_minor": 0,
  "metadata": {
    "colab": {
      "provenance": [],
      "include_colab_link": true
    },
    "kernelspec": {
      "name": "python3",
      "display_name": "Python 3"
    }
  },
  "cells": [
    {
      "cell_type": "markdown",
      "metadata": {
        "id": "view-in-github",
        "colab_type": "text"
      },
      "source": [
        "<a href=\"https://colab.research.google.com/github/VidishaPonnappa/MachineLearning/blob/main/Project_31.ipynb\" target=\"_parent\"><img src=\"https://colab.research.google.com/assets/colab-badge.svg\" alt=\"Open In Colab\"/></a>"
      ]
    },
    {
      "cell_type": "markdown",
      "metadata": {
        "id": "fIKnY8occu37"
      },
      "source": [
        "#### Goals :\n",
        "\n",
        "1. Creating list from Dictionary\n",
        "\n",
        "2. Check if List-2 is List-1 with a shift\n",
        "\n",
        "\n",
        "\n",
        "\n"
      ]
    },
    {
      "cell_type": "markdown",
      "metadata": {
        "id": "b57XkewxxpTC"
      },
      "source": [
        "---"
      ]
    },
    {
      "cell_type": "markdown",
      "metadata": {
        "id": "BVT9G_baB1aq"
      },
      "source": [
        "#### 1. Dictionary of Student Names\n",
        "\n",
        "Create a function that takes a dictionary of student names as parameters and returns a list containing those student names.\n"
      ]
    },
    {
      "cell_type": "code",
      "metadata": {
        "id": "0pIGxKG9B3mb",
        "colab": {
          "base_uri": "https://localhost:8080/"
        },
        "outputId": "ba12f081-9ae8-4809-f13f-26b67f1c992f"
      },
      "source": [
        "# Write your solution here\n",
        "def getval(dictionary):\n",
        "  return list(dictionary.values())\n",
        "getval({'A':'Steve','B':'Bucky','C':'Sam'})"
      ],
      "execution_count": null,
      "outputs": [
        {
          "output_type": "execute_result",
          "data": {
            "text/plain": [
              "['Steve', 'Bucky', 'Sam']"
            ]
          },
          "metadata": {
            "tags": []
          },
          "execution_count": 3
        }
      ]
    },
    {
      "cell_type": "markdown",
      "metadata": {
        "id": "IJIZASayCpEW"
      },
      "source": [
        "---"
      ]
    },
    {
      "cell_type": "markdown",
      "metadata": {
        "id": "g5ojkSnpCnQg"
      },
      "source": [
        "#### Activity 2: Simon Says\n",
        "\n",
        "Given two lists as an input, create a function that returns `True` if the second list follows first list by one element.\n",
        "\n",
        "In other words, determine if the second list is the first list shifted to right by `1`.\n",
        "\n",
        "**Constraints**:\n",
        "\n",
        "- Both input lists must be of the same length with minimum length of `2`.\n",
        "\n",
        "- Ignore the first element of the second list and the last element of the first list.\n",
        "\n",
        "**Input Format**\n",
        "```\n",
        "Two python lists of equal length passed as parameters to a function.\n",
        "```\n",
        "\n",
        "**Output Format**\n",
        "```\n",
        "Return True if the second list is the first list shifted to the right by `1`, otherwise return False.\n",
        "```\n"
      ]
    },
    {
      "cell_type": "code",
      "metadata": {
        "id": "UlGejEowCtAE",
        "colab": {
          "base_uri": "https://localhost:8080/"
        },
        "outputId": "f884317e-3b9e-4ae8-a1d9-e1520c92ef58"
      },
      "source": [
        "# Write your solution here\n",
        "def ss(a,b):\n",
        "  res=[]\n",
        "  for i in range(len(a)-1):\n",
        "    if a[i]==b[i+1]:\n",
        "      res.append(0)\n",
        "    else:\n",
        "      res.append(1)\n",
        "  if 1 in res:\n",
        "    return False\n",
        "  else:\n",
        "    return True\n",
        "\n",
        "ss([1,2,3,4,5],[0,1,2,3,4])"
      ],
      "execution_count": null,
      "outputs": [
        {
          "output_type": "execute_result",
          "data": {
            "text/plain": [
              "True"
            ]
          },
          "metadata": {
            "tags": []
          },
          "execution_count": 13
        }
      ]
    },
    {
      "cell_type": "markdown",
      "metadata": {
        "id": "MWkPEALQn-lN"
      },
      "source": [
        "---"
      ]
    }
  ]
}