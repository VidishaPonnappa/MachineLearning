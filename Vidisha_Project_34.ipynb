{
  "nbformat": 4,
  "nbformat_minor": 0,
  "metadata": {
    "colab": {
      "provenance": [],
      "include_colab_link": true
    },
    "kernelspec": {
      "name": "python3",
      "display_name": "Python 3"
    }
  },
  "cells": [
    {
      "cell_type": "markdown",
      "metadata": {
        "id": "view-in-github",
        "colab_type": "text"
      },
      "source": [
        "<a href=\"https://colab.research.google.com/github/VidishaPonnappa/MachineLearning/blob/main/Vidisha_Project_34.ipynb\" target=\"_parent\"><img src=\"https://colab.research.google.com/assets/colab-badge.svg\" alt=\"Open In Colab\"/></a>"
      ]
    },
    {
      "cell_type": "markdown",
      "metadata": {
        "id": "fIKnY8occu37"
      },
      "source": [
        "#### Goals :\n",
        "\n",
        "1. Hole Number Sequence\n",
        "\n",
        "2. Wetness of Water Balloon\n",
        "\n",
        "\n"
      ]
    },
    {
      "cell_type": "markdown",
      "metadata": {
        "id": "08DjTWdhTOwF"
      },
      "source": [
        "---"
      ]
    },
    {
      "cell_type": "markdown",
      "metadata": {
        "id": "BVT9G_baB1aq"
      },
      "source": [
        "#### 1. Hole Number Sequence\n",
        "\n",
        "**Hole** numbers are numbers having holes in their shapes (8 is a special hole number because it contains two holes). 14 is a hole number having one hole. 88 is a hole number having four holes.\n",
        "\n",
        "Create a function that takes an input $N$ (a natural number) and returns the sum of the number of holes present in the first $N$ natural numbers, i.e., $1, 2, 3, \\dots, N$."
      ]
    },
    {
      "cell_type": "code",
      "metadata": {
        "id": "0pIGxKG9B3mb",
        "colab": {
          "base_uri": "https://localhost:8080/"
        },
        "outputId": "577b6ad5-b5e0-4a36-c19b-55adf9f2d03a"
      },
      "source": [
        "# Write your solution here\n",
        "# Create a dictionary to store the number of holes from 1 to 9\n",
        "# Create a function which takes a number as parameter and counts the number of holes in that number\n",
        "# Create a function that takes a number 'num' as input,\n",
        "# and generates numbers from 1 to 'num' and calculates the sum of holes for numbers upto 'num'\n",
        "def noh(num):\n",
        "  d={'0': 1,'1': 0,'2': 0,'3': 0,'4': 1,'5': 0,'6': 1,'7': 0,'8': 2,'9': 1}\n",
        "  snum,sumofnum=str(num),0\n",
        "  for i in range(len(snum)):\n",
        "    sumofnum+=d[snum[i]]\n",
        "  return sumofnum\n",
        "num=int(input('Enter a number: '))\n",
        "s=0\n",
        "for i in range(1,num+1):\n",
        "  s+=noh(i)\n",
        "print('The total number of holes until {} is {}.'.format(num,s))"
      ],
      "execution_count": null,
      "outputs": [
        {
          "output_type": "stream",
          "text": [
            "Enter a number: 6259\n",
            "The total number of holes until 6259 is 12345.\n"
          ],
          "name": "stdout"
        }
      ]
    },
    {
      "cell_type": "markdown",
      "metadata": {
        "id": "IJIZASayCpEW"
      },
      "source": [
        "---"
      ]
    },
    {
      "cell_type": "markdown",
      "metadata": {
        "id": "5kBinzKxn3hd"
      },
      "source": [
        "#### 2. Water Balloon\n",
        "\n",
        "Consider a water balloon hanging in the mid-air. Imagine that you have popped the balloon. The ground beneath the balloon gets soaked because of the water and creates a wet circular patch. As you move farther away from the centre of the patch, in the radially outward direction, the ground is less wet or the extent of wetness reduces.\n",
        "\n",
        "\n",
        "**Example**\n",
        "\n",
        "```\n",
        "[0, 0, 0, 0, 4, 0, 0, 0, 0] ➞ [0, 1, 2, 3, 4, 3, 2, 1, 0]\n",
        "```\n",
        "\n",
        "Create a function that takes a Python list (representing the state of the ground below the water balloon before popping it) and returns another Python list (denoting the state of the wet patch after some time after the balloon is popped).\n",
        "\n"
      ]
    },
    {
      "cell_type": "code",
      "metadata": {
        "colab": {
          "base_uri": "https://localhost:8080/"
        },
        "id": "NQcByt_4Gqo3",
        "outputId": "c1c539c3-5e26-4a4f-d4fe-404a533413d7"
      },
      "source": [
        "def rad(l):\n",
        "  n=max(l)\n",
        "  rl1,rl2,num=[],[],0\n",
        "  for i in range(n):\n",
        "    rl1.append(num)\n",
        "    rl2.append(num)\n",
        "    num+=1\n",
        "  rl1.append(n)\n",
        "  rl2.reverse()\n",
        "  for j in rl2:\n",
        "    rl1.append(j)\n",
        "  return rl1\n",
        "rad([0,0,0,3,0,0,0])"
      ],
      "execution_count": null,
      "outputs": [
        {
          "output_type": "execute_result",
          "data": {
            "text/plain": [
              "[0, 1, 2, 3, 2, 1, 0]"
            ]
          },
          "metadata": {
            "tags": []
          },
          "execution_count": 10
        }
      ]
    },
    {
      "cell_type": "markdown",
      "metadata": {
        "id": "S6177jGyTfY_"
      },
      "source": [
        "---"
      ]
    }
  ]
}