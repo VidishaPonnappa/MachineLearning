{
  "nbformat": 4,
  "nbformat_minor": 0,
  "metadata": {
    "colab": {
      "provenance": [],
      "include_colab_link": true
    },
    "kernelspec": {
      "name": "python3",
      "display_name": "Python 3"
    }
  },
  "cells": [
    {
      "cell_type": "markdown",
      "metadata": {
        "id": "view-in-github",
        "colab_type": "text"
      },
      "source": [
        "<a href=\"https://colab.research.google.com/github/VidishaPonnappa/MachineLearning/blob/main/Project_3.ipynb\" target=\"_parent\"><img src=\"https://colab.research.google.com/assets/colab-badge.svg\" alt=\"Open In Colab\"/></a>"
      ]
    },
    {
      "cell_type": "markdown",
      "metadata": {
        "id": "bEyBzxYRhrLG"
      },
      "source": [
        "#### Goal\n",
        "\n",
        " 1.  Multiplication Table\n",
        "\n",
        " 2.  Factorial of a number\n"
      ]
    },
    {
      "cell_type": "markdown",
      "metadata": {
        "id": "DPOFIO3EHncO"
      },
      "source": [
        "---"
      ]
    },
    {
      "cell_type": "markdown",
      "source": [
        "#### 1. Factorial"
      ],
      "metadata": {
        "id": "_Ta0hWvD4fPn"
      }
    },
    {
      "cell_type": "code",
      "metadata": {
        "id": "4EAoTskqg041",
        "outputId": "3e57a15b-72fc-4d36-fdad-0b68514c731b",
        "colab": {
          "base_uri": "https://localhost:8080/",
          "height": 51
        }
      },
      "source": [
        "# Write your code here\n",
        "# Step 1: Accept user input.\n",
        "num=int(input('Please enter a number whose factorial you require: '))\n",
        "# Step 2: Define a function 'multiplier(n)' .\n",
        "# Step 3: Inside the function, check if the number is negative, positive or 0\n",
        "# If the number is positive, perform Step 4 and Step 5\n",
        "def multiplier(n):\n",
        "  if n<=0:\n",
        "    print('Invalid input')\n",
        "    n=int(input('Please enter a number whose factorial you require: '))\n",
        "  numb=n\n",
        "  mult=1\n",
        "  while n!=0:\n",
        "    mult=mult*n\n",
        "    n-=1\n",
        "  print('The factorial of {} is {}.'.format(numb,mult))\n",
        "# Step 6: Call the 'multiplier()' function to execute\n",
        "multiplier(num)\n",
        ""
      ],
      "execution_count": null,
      "outputs": [
        {
          "output_type": "stream",
          "text": [
            "Please enter a number whose factorial you require: 7\n",
            "The factorial of 7 is 5040.\n"
          ],
          "name": "stdout"
        }
      ]
    },
    {
      "cell_type": "markdown",
      "metadata": {
        "id": "xJlPs9X9oeRw"
      },
      "source": [
        "---"
      ]
    },
    {
      "cell_type": "markdown",
      "metadata": {
        "id": "qA-b1CdeofKc"
      },
      "source": [
        "####  2. Multiplication table\n",
        "\n"
      ]
    },
    {
      "cell_type": "code",
      "metadata": {
        "id": "AtvPTG3kpBoS",
        "outputId": "4a666831-5fc9-4651-f8ff-2cbd19921528",
        "colab": {
          "base_uri": "https://localhost:8080/",
          "height": 221
        }
      },
      "source": [
        "# Write your code here\n",
        "# Step 1: Get the user input\n",
        "num=int(input('Please enter the number whose table you require: '))\n",
        "# Step 2: Initialize variable 'i'\n",
        "# Step 3: Execute a 'while' loop 10 times\n",
        "  # Step 4: Multiply the 'num' variable with 'i' variable and print its result. Increment the value of 'i' by 1\n",
        "def tables(n):\n",
        "  if n==0:\n",
        "    print('Invalid number.')\n",
        "    n=int(input('Please enter the number whose table you require: '))\n",
        "  i=1\n",
        "  print('MULTIPLICATION TABLE OF {}-'.format(n))\n",
        "  while i<11:\n",
        "    print('{} x {}  = {}'.format(n,i,n*i))\n",
        "    i+=1\n",
        "tables(num)\n",
        "\n",
        "# The same result can be obtained outside a function too. The code would be as follows-\n",
        "# num=int(input('Please enter the number whose table you require: '))\n",
        "# if n==0:\n",
        "#  print('Invalid number.')\n",
        "#  n=int(input('Please enter the number whose table you require: '))\n",
        "# i=1\n",
        "# print('MULTIPLICATION TABLE OF {}'.format(num))\n",
        "# while i<11:\n",
        "#  print('12 x {}  = {}'.format(i,num*i))\n",
        "#  i+=1"
      ],
      "execution_count": null,
      "outputs": [
        {
          "output_type": "stream",
          "text": [
            "Please enter the number whose table you require: 120\n",
            "MULTIPLICATION TABLE OF 120-\n",
            "120 x 1  = 120\n",
            "120 x 2  = 240\n",
            "120 x 3  = 360\n",
            "120 x 4  = 480\n",
            "120 x 5  = 600\n",
            "120 x 6  = 720\n",
            "120 x 7  = 840\n",
            "120 x 8  = 960\n",
            "120 x 9  = 1080\n",
            "120 x 10  = 1200\n"
          ],
          "name": "stdout"
        }
      ]
    },
    {
      "cell_type": "markdown",
      "metadata": {
        "id": "KOVBiUSMzut1"
      },
      "source": [
        "---"
      ]
    }
  ]
}