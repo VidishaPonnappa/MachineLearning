{
  "nbformat": 4,
  "nbformat_minor": 0,
  "metadata": {
    "colab": {
      "provenance": [],
      "include_colab_link": true
    },
    "kernelspec": {
      "name": "python3",
      "display_name": "Python 3"
    }
  },
  "cells": [
    {
      "cell_type": "markdown",
      "metadata": {
        "id": "view-in-github",
        "colab_type": "text"
      },
      "source": [
        "<a href=\"https://colab.research.google.com/github/VidishaPonnappa/MachineLearning/blob/main/Project_3.ipynb\" target=\"_parent\"><img src=\"https://colab.research.google.com/assets/colab-badge.svg\" alt=\"Open In Colab\"/></a>"
      ]
    },
    {
      "cell_type": "markdown",
      "metadata": {
        "id": "YZnBY81YDCCr"
      },
      "source": [
        "### Instructions"
      ]
    },
    {
      "cell_type": "markdown",
      "metadata": {
        "id": "bEyBzxYRhrLG"
      },
      "source": [
        "#### Goal of the Project\n",
        "\n",
        "This project is designed for you to practice and solve the activities that are based on the concepts covered in the following lessons:\n",
        "\n",
        " 1.  While Loop, Data-Type Conversion and Conditional Statements.\n",
        "\n",
        " 2.  Improving The Algorithm\n"
      ]
    },
    {
      "cell_type": "markdown",
      "metadata": {
        "id": "DPOFIO3EHncO"
      },
      "source": [
        "---"
      ]
    },
    {
      "cell_type": "markdown",
      "metadata": {
        "id": "krym8CeMhscq"
      },
      "source": [
        "#### Getting Started:\n",
        "\n",
        "1. Click on this link to open the Colab file for this project.\n",
        "\n",
        "    https://colab.research.google.com/drive/17lt4EdjsvfOIys__BwY0iOIrGOCIjhgg?usp=sharing\n",
        "\n",
        "2. Create a duplicate copy of the Colab file as described below.\n",
        "\n",
        "  - Click on the **File menu**. A new drop-down list will appear.\n",
        "\n",
        "   <img src='https://student-datasets-bucket.s3.ap-south-1.amazonaws.com/images/lesson-0/0_file_menu.png' width=500>\n",
        "\n",
        "  - Click on the **Save a copy in Drive** option. A duplicate copy will get created. It will open up in the new tab on your web browser.\n",
        "\n",
        "  <img src='https://student-datasets-bucket.s3.ap-south-1.amazonaws.com/images/lesson-0/1_create_colab_duplicate_copy.png' width=500>\n",
        "\n",
        "3. After creating the duplicate copy of the notebook, please rename it in the **YYYY-MM-DD_StudentName_Project3** format.\n",
        "\n",
        "4. Now, write your code in the prescribed code cells.\n"
      ]
    },
    {
      "cell_type": "markdown",
      "metadata": {
        "id": "BBqkpH4_Doqe"
      },
      "source": [
        "---"
      ]
    },
    {
      "cell_type": "markdown",
      "metadata": {
        "id": "_Jvu_lT4hxmj"
      },
      "source": [
        "### Activities"
      ]
    },
    {
      "cell_type": "markdown",
      "metadata": {
        "id": "q4fH06mIjuK3"
      },
      "source": [
        "#### Activity 1: Multiply a number with the previous number\n",
        "\n",
        "Write a function to print the result of a number multiplied with its previous number until the previous number is 1.\n",
        "\n",
        "For example:\n",
        "*    If the number is 5, then result = 5 * 4 * 3 * 2 * 1 = 120\n",
        "*    If the number is 8, then result = 8 * 7 * 6 * 5 * 4 * 3 * 2 * 1 = 40320\n",
        "\n",
        "Follow the steps given below to achieve the desired result:\n",
        "\n",
        "  - **Step 1:** Ask the user to enter a number. Convert the data type of the user input to `integer` and then store it in a variable `num`.\n",
        "\n",
        "  - **Step 2:** Create a function `multiplier()` that has `n` as the parameter i.e. `multiplier(n)`. Here, `n` is used to hold user input within this function.  \n",
        "\n",
        "  - **Step 3:** Inside this function, check whether the user has entered a positive number or not using an `if-elif-else` statement. If the user enters a negative number (i.e. `n<0`), then print the message `Sorry, the number cannot be negative`. Else, if the user enters `0` (i.e. `n=0`), then print the message `The result is 1`.\n",
        "\n",
        "  - **Step 4:** Else, if the user enters a positive number (i.e. `n>0`) then:\n",
        "\n",
        "      1. Initialize a variable `mult = 1`.\n",
        "\n",
        "      2. Keep on multiplying the value stored in variable `mult` with value stored in variable `n` (`mult * n`) till the value of `n` is greater than 0.\n",
        "\n",
        "      3. Decrement the value of `n` on each execution of the `while` loop.\n",
        "\n",
        "  - **Step 5:** As soon as the condition of the `while` loop becomes false, we get our desired result in the variable `mult`. Print the `mult` variable. This completes the implementation of our `multiplier()` function.\n",
        "\n",
        "  - **Step 6:** Now call the `multiplier()` function and pass the variable `num` (a variable which carries user input) as a parameter to this function."
      ]
    }
  ]
}
