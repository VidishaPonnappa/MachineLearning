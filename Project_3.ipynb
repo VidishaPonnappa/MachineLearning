{
  "nbformat": 4,
  "nbformat_minor": 0,
  "metadata": {
    "colab": {
      "provenance": [],
      "include_colab_link": true
    },
    "kernelspec": {
      "name": "python3",
      "display_name": "Python 3"
    }
  },
  "cells": [
    {
      "cell_type": "markdown",
      "metadata": {
        "id": "view-in-github",
        "colab_type": "text"
      },
      "source": [
        "<a href=\"https://colab.research.google.com/github/VidishaPonnappa/MachineLearning/blob/main/Project_3.ipynb\" target=\"_parent\"><img src=\"https://colab.research.google.com/assets/colab-badge.svg\" alt=\"Open In Colab\"/></a>"
      ]
    },
    {
      "cell_type": "markdown",
      "metadata": {
        "id": "YZnBY81YDCCr"
      },
      "source": [
        "### Instructions"
      ]
    },
    {
      "cell_type": "markdown",
      "metadata": {
        "id": "bEyBzxYRhrLG"
      },
      "source": [
        "#### Goal of the Project\n",
        "\n",
        "This project is designed for you to practice and solve the activities that are based on the concepts covered in the following lessons:\n",
        "\n",
        " 1.  While Loop, Data-Type Conversion and Conditional Statements.\n",
        "\n",
        " 2.  Improving The Algorithm\n"
      ]
    },
    {
      "cell_type": "markdown",
      "metadata": {
        "id": "DPOFIO3EHncO"
      },
      "source": [
        "---"
      ]
    },
    {
      "cell_type": "markdown",
      "metadata": {
        "id": "krym8CeMhscq"
      },
      "source": [
        "#### Getting Started:\n",
        "\n",
        "1. Click on this link to open the Colab file for this project.\n",
        "\n",
        "    https://colab.research.google.com/drive/17lt4EdjsvfOIys__BwY0iOIrGOCIjhgg?usp=sharing\n",
        "\n",
        "2. Create a duplicate copy of the Colab file as described below.\n",
        "\n",
        "  - Click on the **File menu**. A new drop-down list will appear.\n",
        "\n",
        "   <img src='https://student-datasets-bucket.s3.ap-south-1.amazonaws.com/images/lesson-0/0_file_menu.png' width=500>\n",
        "\n",
        "  - Click on the **Save a copy in Drive** option. A duplicate copy will get created. It will open up in the new tab on your web browser.\n",
        "\n",
        "  <img src='https://student-datasets-bucket.s3.ap-south-1.amazonaws.com/images/lesson-0/1_create_colab_duplicate_copy.png' width=500>\n",
        "\n",
        "3. After creating the duplicate copy of the notebook, please rename it in the **YYYY-MM-DD_StudentName_Project3** format.\n",
        "\n",
        "4. Now, write your code in the prescribed code cells.\n"
      ]
    },
    {
      "cell_type": "markdown",
      "metadata": {
        "id": "BBqkpH4_Doqe"
      },
      "source": [
        "---"
      ]
    },
    {
      "cell_type": "markdown",
      "metadata": {
        "id": "_Jvu_lT4hxmj"
      },
      "source": [
        "### Activities"
      ]
    },
    {
      "cell_type": "markdown",
      "metadata": {
        "id": "q4fH06mIjuK3"
      },
      "source": [
        "#### Activity 1: Multiply a number with the previous number\n",
        "\n",
        "Write a function to print the result of a number multiplied with its previous number until the previous number is 1.\n",
        "\n",
        "For example:\n",
        "*    If the number is 5, then result = 5 * 4 * 3 * 2 * 1 = 120\n",
        "*    If the number is 8, then result = 8 * 7 * 6 * 5 * 4 * 3 * 2 * 1 = 40320\n",
        "\n",
        "Follow the steps given below to achieve the desired result:\n",
        "\n",
        "  - **Step 1:** Ask the user to enter a number. Convert the data type of the user input to `integer` and then store it in a variable `num`.\n",
        "\n",
        "  - **Step 2:** Create a function `multiplier()` that has `n` as the parameter i.e. `multiplier(n)`. Here, `n` is used to hold user input within this function.  \n",
        "\n",
        "  - **Step 3:** Inside this function, check whether the user has entered a positive number or not using an `if-elif-else` statement. If the user enters a negative number (i.e. `n<0`), then print the message `Sorry, the number cannot be negative`. Else, if the user enters `0` (i.e. `n=0`), then print the message `The result is 1`.\n",
        "\n",
        "  - **Step 4:** Else, if the user enters a positive number (i.e. `n>0`) then:\n",
        "\n",
        "      1. Initialize a variable `mult = 1`.\n",
        "\n",
        "      2. Keep on multiplying the value stored in variable `mult` with value stored in variable `n` (`mult * n`) till the value of `n` is greater than 0.\n",
        "\n",
        "      3. Decrement the value of `n` on each execution of the `while` loop.\n",
        "\n",
        "  - **Step 5:** As soon as the condition of the `while` loop becomes false, we get our desired result in the variable `mult`. Print the `mult` variable. This completes the implementation of our `multiplier()` function.\n",
        "\n",
        "  - **Step 6:** Now call the `multiplier()` function and pass the variable `num` (a variable which carries user input) as a parameter to this function."
      ]
    },
    {
      "cell_type": "code",
      "metadata": {
        "id": "4EAoTskqg041",
        "outputId": "3e57a15b-72fc-4d36-fdad-0b68514c731b",
        "colab": {
          "base_uri": "https://localhost:8080/",
          "height": 51
        }
      },
      "source": [
        "# Write your code here\n",
        "# Step 1: Accept user input.\n",
        "num=int(input('Please enter a number whose factorial you require: '))\n",
        "# Step 2: Define a function 'multiplier(n)' .\n",
        "# Step 3: Inside the function, check if the number is negative, positive or 0\n",
        "# If the number is positive, perform Step 4 and Step 5\n",
        "def multiplier(n):\n",
        "  if n<=0:\n",
        "    print('Invalid input')\n",
        "    n=int(input('Please enter a number whose factorial you require: '))\n",
        "  numb=n\n",
        "  mult=1\n",
        "  while n!=0:\n",
        "    mult=mult*n\n",
        "    n-=1\n",
        "  print('The factorial of {} is {}.'.format(numb,mult))\n",
        "# Step 6: Call the 'multiplier()' function to execute\n",
        "multiplier(num)\n",
        ""
      ],
      "execution_count": null,
      "outputs": [
        {
          "output_type": "stream",
          "text": [
            "Please enter a number whose factorial you require: 7\n",
            "The factorial of 7 is 5040.\n"
          ],
          "name": "stdout"
        }
      ]
    },
    {
      "cell_type": "markdown",
      "metadata": {
        "id": "xJlPs9X9oeRw"
      },
      "source": [
        "---"
      ]
    },
    {
      "cell_type": "markdown",
      "metadata": {
        "id": "qA-b1CdeofKc"
      },
      "source": [
        "#### Activity 2: Multiplication table\n",
        "\n",
        "Take input from the user and display the multiplication table.\n",
        "\n",
        "For example: if the number entered is 12 then expected output is:\n",
        "\n",
        "  12 x 1 = 12\n",
        "\n",
        "  12 x 2 = 24\n",
        "\n",
        "  ....\n",
        "  \n",
        "  12 x 10 = 120\n",
        "\n",
        "Follow the steps given below to achieve the desired result:\n",
        "\n",
        "- **Step 1:** Ask the user to enter a number. Convert the data type of user input to integer and then store it in a variable `num`.\n",
        "\n",
        "- **Step 2:** Initialize a variable `i=1` (This variable is used to make sure that the `while` loop is executed only upto 10, starting from 1).\n",
        "\n",
        "- **Step 3:** Create a `while` loop. This loop will be executed 10 times. So, the condition for `while` loop will be `i<=10`.\n",
        "\n",
        "- **Step 4:** Inside this loop, multiply the `num` variable with `i` variable and print its result. Also increment the value of `i` by 1 inside this loop. The execution stops once the condition for `while` loop becomes invalid.\n"
      ]
    },
    {
      "cell_type": "code",
      "metadata": {
        "id": "AtvPTG3kpBoS",
        "outputId": "4a666831-5fc9-4651-f8ff-2cbd19921528",
        "colab": {
          "base_uri": "https://localhost:8080/",
          "height": 221
        }
      },
      "source": [
        "# Write your code here\n",
        "# Step 1: Get the user input\n",
        "num=int(input('Please enter the number whose table you require: '))\n",
        "# Step 2: Initialize variable 'i'\n",
        "# Step 3: Execute a 'while' loop 10 times\n",
        "  # Step 4: Multiply the 'num' variable with 'i' variable and print its result. Increment the value of 'i' by 1\n",
        "def tables(n):\n",
        "  if n==0:\n",
        "    print('Invalid number.')\n",
        "    n=int(input('Please enter the number whose table you require: '))\n",
        "  i=1\n",
        "  print('MULTIPLICATION TABLE OF {}-'.format(n))\n",
        "  while i<11:\n",
        "    print('{} x {}  = {}'.format(n,i,n*i))\n",
        "    i+=1\n",
        "tables(num)\n",
        "\n",
        "# The same result can be obtained outside a function too. The code would be as follows-\n",
        "# num=int(input('Please enter the number whose table you require: '))\n",
        "# if n==0:\n",
        "#  print('Invalid number.')\n",
        "#  n=int(input('Please enter the number whose table you require: '))\n",
        "# i=1\n",
        "# print('MULTIPLICATION TABLE OF {}'.format(num))\n",
        "# while i<11:\n",
        "#  print('12 x {}  = {}'.format(i,num*i))\n",
        "#  i+=1"
      ],
      "execution_count": null,
      "outputs": [
        {
          "output_type": "stream",
          "text": [
            "Please enter the number whose table you require: 120\n",
            "MULTIPLICATION TABLE OF 120-\n",
            "120 x 1  = 120\n",
            "120 x 2  = 240\n",
            "120 x 3  = 360\n",
            "120 x 4  = 480\n",
            "120 x 5  = 600\n",
            "120 x 6  = 720\n",
            "120 x 7  = 840\n",
            "120 x 8  = 960\n",
            "120 x 9  = 1080\n",
            "120 x 10  = 1200\n"
          ],
          "name": "stdout"
        }
      ]
    },
    {
      "cell_type": "markdown",
      "metadata": {
        "id": "KOVBiUSMzut1"
      },
      "source": [
        "---"
      ]
    },
    {
      "cell_type": "markdown",
      "metadata": {
        "id": "BNlGj8NNJ1Y0"
      },
      "source": [
        "### Submitting the Project:\n",
        "\n",
        "1. After finishing the project, click on the **Share** button on the top right corner of the notebook. A new dialog box will appear.\n",
        "\n",
        "  <img src='https://student-datasets-bucket.s3.ap-south-1.amazonaws.com/images/project-share-images/2_share_button.png' width=500>\n",
        "\n",
        "2. In the dialog box, make sure that '**Anyone on the Internet with this link can view**' option is selected and then click on the **Copy link** button.\n",
        "\n",
        "   <img src='https://student-datasets-bucket.s3.ap-south-1.amazonaws.com/images/project-share-images/3_copy_link.png' width=500>\n",
        "\n",
        "3. The link of the duplicate copy (named as **YYYY-MM-DD_StudentName_Project3**) of the notebook will get copied\n",
        "\n",
        "   <img src='https://student-datasets-bucket.s3.ap-south-1.amazonaws.com/images/project-share-images/4_copy_link_confirmation.png' width=500>\n",
        "\n",
        "4. Go to your dashboard and click on the **My Projects** option.\n",
        "   \n",
        "   <img src='https://student-datasets-bucket.s3.ap-south-1.amazonaws.com/images/project-share-images/5_student_dashboard.png' width=800>\n",
        "\n",
        "  <img src='https://student-datasets-bucket.s3.ap-south-1.amazonaws.com/images/project-share-images/6_my_projects.png' width=800>\n",
        "\n",
        "5. Click on the **View Project** button for the project you want to submit.\n",
        "\n",
        "   <img src='https://student-datasets-bucket.s3.ap-south-1.amazonaws.com/images/project-share-images/7_view_project.png' width=800>\n",
        "\n",
        "6. Click on the **Submit Project Here** button.\n",
        "\n",
        "   <img src='https://student-datasets-bucket.s3.ap-south-1.amazonaws.com/images/project-share-images/8_submit_project.png' width=800>\n",
        "\n",
        "7. Paste the link to the project file named as **YYYY-MM-DD_StudentName_Project3** in the URL box and then click on the **Submit** button.\n",
        "\n",
        "   <img src='https://student-datasets-bucket.s3.ap-south-1.amazonaws.com/images/project-share-images/9_enter_project_url.png' width=800>"
      ]
    },
    {
      "cell_type": "markdown",
      "metadata": {
        "id": "HSz7jRSlGxIO"
      },
      "source": [
        "---"
      ]
    }
  ]
}