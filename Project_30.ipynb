{
  "nbformat": 4,
  "nbformat_minor": 0,
  "metadata": {
    "colab": {
      "provenance": [],
      "include_colab_link": true
    },
    "kernelspec": {
      "name": "python3",
      "display_name": "Python 3"
    }
  },
  "cells": [
    {
      "cell_type": "markdown",
      "metadata": {
        "id": "view-in-github",
        "colab_type": "text"
      },
      "source": [
        "<a href=\"https://colab.research.google.com/github/VidishaPonnappa/MachineLearning/blob/main/Project_30.ipynb\" target=\"_parent\"><img src=\"https://colab.research.google.com/assets/colab-badge.svg\" alt=\"Open In Colab\"/></a>"
      ]
    },
    {
      "cell_type": "markdown",
      "metadata": {
        "id": "fIKnY8occu37"
      },
      "source": [
        "#### Goals :\n",
        "\n",
        "1. Create pairs from Python Lists.\n",
        "\n",
        "2. Introduction to Python Dictionaries.\n",
        "\n",
        "\n"
      ]
    },
    {
      "cell_type": "markdown",
      "metadata": {
        "id": "y0PYG7lvA5P-"
      },
      "source": [
        "---"
      ]
    },
    {
      "cell_type": "markdown",
      "metadata": {
        "id": "BVT9G_baB1aq"
      },
      "source": [
        "#### Activity 1: Create a Python Dictionary\n"
      ]
    },
    {
      "cell_type": "code",
      "metadata": {
        "id": "0pIGxKG9B3mb",
        "colab": {
          "base_uri": "https://localhost:8080/"
        },
        "outputId": "5d2ce3a6-d03a-476a-c8af-d5df4c6e4281"
      },
      "source": [
        "# Create a python dictionary holding your friend's favourite hobby and sport\n",
        "d={'A':{'hobby':'reading','sport':'basketball'},'B':{'hobby':'writing','sport':'football'},'C':{'hobby':'dance','sport':'cricket'},'D':{'hobby':'singing','sport':'chess'},'E':{'hobby':'cooking','sport':'polo'}}\n",
        "d"
      ],
      "execution_count": null,
      "outputs": [
        {
          "output_type": "execute_result",
          "data": {
            "text/plain": [
              "{'A': {'hobby': 'reading', 'sport': 'basketball'},\n",
              " 'B': {'hobby': 'writing', 'sport': 'football'},\n",
              " 'C': {'hobby': 'dance', 'sport': 'cricket'},\n",
              " 'D': {'hobby': 'singing', 'sport': 'chess'},\n",
              " 'E': {'hobby': 'cooking', 'sport': 'polo'}}"
            ]
          },
          "metadata": {
            "tags": []
          },
          "execution_count": 1
        }
      ]
    },
    {
      "cell_type": "markdown",
      "metadata": {
        "id": "IJIZASayCpEW"
      },
      "source": [
        "---"
      ]
    },
    {
      "cell_type": "markdown",
      "metadata": {
        "id": "5kBinzKxn3hd"
      },
      "source": [
        "#### 2. Create Beginning and End Pairs\n",
        "\n",
        "Write a function that pairs the first number in the list with the last number of the list, the second number with the second last number, and so on.\n",
        "\n",
        "**Constraints:**\n",
        "\n",
        "1. If the list has an odd length, repeat the middle number twice for the last pair.\n",
        "\n",
        "2. Return an empty list if the input is an empty list.\n"
      ]
    },
    {
      "cell_type": "code",
      "metadata": {
        "id": "4gjDvOhzn6TL",
        "colab": {
          "base_uri": "https://localhost:8080/"
        },
        "outputId": "10de4326-537d-4c66-8a65-51913edc427e"
      },
      "source": [
        "# Create beginning and end pairs\n",
        "def pairnum(a):\n",
        "  l=[]\n",
        "  if len(a)==0:\n",
        "    return []\n",
        "  else:\n",
        "    if len(a)%2 != 0:\n",
        "      for i in range((len(a)//2)+1):\n",
        "        b=[]\n",
        "        c,d=a[i],a[-i-1]\n",
        "        b.append(c)\n",
        "        b.append(d)\n",
        "        l.append(b)\n",
        "        if len(l[-1])==1:\n",
        "          l[-1].append(l[-1][0])\n",
        "    elif len(a)%2 == 0:\n",
        "      for i in range(len(a)//2):\n",
        "        b=[]\n",
        "        c,d=a[i],a[-i-1]\n",
        "        b.append(c)\n",
        "        b.append(d)\n",
        "        l.append(b)\n",
        "  return l\n",
        "\n",
        "pairnum([1,2,3,4])"
      ],
      "execution_count": null,
      "outputs": [
        {
          "output_type": "execute_result",
          "data": {
            "text/plain": [
              "[[1, 4], [2, 3]]"
            ]
          },
          "metadata": {
            "tags": []
          },
          "execution_count": 29
        }
      ]
    },
    {
      "cell_type": "markdown",
      "metadata": {
        "id": "yzevp_Q_BZ4I"
      },
      "source": [
        "---"
      ]
    }
  ]
}