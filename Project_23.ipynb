{
  "nbformat": 4,
  "nbformat_minor": 0,
  "metadata": {
    "colab": {
      "provenance": [],
      "include_colab_link": true
    },
    "kernelspec": {
      "name": "python3",
      "display_name": "Python 3"
    }
  },
  "cells": [
    {
      "cell_type": "markdown",
      "metadata": {
        "id": "view-in-github",
        "colab_type": "text"
      },
      "source": [
        "<a href=\"https://colab.research.google.com/github/VidishaPonnappa/MachineLearning/blob/main/Project_23.ipynb\" target=\"_parent\"><img src=\"https://colab.research.google.com/assets/colab-badge.svg\" alt=\"Open In Colab\"/></a>"
      ]
    },
    {
      "cell_type": "markdown",
      "metadata": {
        "id": "bEyBzxYRhrLG"
      },
      "source": [
        "#### Goals :\n",
        "\n",
        " 1.  Find Next prime\n",
        " 2.  Find all primes within range"
      ]
    },
    {
      "cell_type": "markdown",
      "metadata": {
        "id": "DPOFIO3EHncO"
      },
      "source": [
        "---"
      ]
    },
    {
      "cell_type": "markdown",
      "metadata": {
        "id": "q4fH06mIjuK3"
      },
      "source": [
        "#### 1. Next Prime\n",
        "\n",
        "Given an integer `num`, create a function that returns the next prime using List Comprehension method. If the number is prime, return the number itself.\n"
      ]
    },
    {
      "cell_type": "code",
      "metadata": {
        "id": "4EAoTskqg041",
        "colab": {
          "base_uri": "https://localhost:8080/"
        },
        "outputId": "7fe4d097-8637-4697-dd10-6a168c60831d"
      },
      "source": [
        "# Write your code here\n",
        "# create while loop and check whether the number is prime or not,\n",
        "# if the number is not a prime number, increment the value passed in the function until we get the next prime number.\n",
        "# Specify this condition of while loop using List Comprehension\n",
        "def isprime(n):\n",
        "  comp=[]\n",
        "  for i in range(2,n):\n",
        "    if n%i==0:\n",
        "      comp.append(i)\n",
        "      break\n",
        "  if len(comp)==0:\n",
        "    return 'Prime'\n",
        "  else:\n",
        "    ans='Not Prime'\n",
        "    return ans\n",
        "\n",
        "def nextprime(n):\n",
        "  global ans\n",
        "  if isprime(n)=='Prime':\n",
        "    return n\n",
        "  else:\n",
        "    while isprime(n)=='Not Prime':\n",
        "      print(ans,n)\n",
        "      n+=1\n",
        "  print('The next prime number is ',n)\n",
        "\n",
        "nextprime(120)\n",
        "\n"
      ],
      "execution_count": null,
      "outputs": [
        {
          "output_type": "stream",
          "text": [
            "Not Prime 120\n",
            "Not Prime 121\n",
            "Not Prime 122\n",
            "Not Prime 123\n",
            "Not Prime 124\n",
            "Not Prime 125\n",
            "Not Prime 126\n",
            "The next prime number is  127\n"
          ],
          "name": "stdout"
        }
      ]
    },
    {
      "cell_type": "markdown",
      "metadata": {
        "id": "H4JT7cLU21lW"
      },
      "source": [
        "---"
      ]
    },
    {
      "cell_type": "markdown",
      "metadata": {
        "id": "b4aeCDi0pkJz"
      },
      "source": [
        "#### Activity 2: Print Odd Numbers Within A Given Range\n",
        "\n"
      ]
    },
    {
      "cell_type": "code",
      "metadata": {
        "id": "d5ufKLNYzsIl",
        "colab": {
          "base_uri": "https://localhost:8080/"
        },
        "outputId": "5487d508-7d58-4f2a-e83e-b15a840b2a81"
      },
      "source": [
        "# Write your code here\n",
        "a=int(input('Enter upper range: '))\n",
        "b=int(input('Enter lower range: '))\n",
        "for i in range(a,b+1):\n",
        "  if i%2!=0:\n",
        "    print(i)\n",
        "\n"
      ],
      "execution_count": null,
      "outputs": [
        {
          "output_type": "stream",
          "text": [
            "Enter upper range: 11\n",
            "Enter lower range: 16\n",
            "11\n",
            "13\n",
            "15\n"
          ],
          "name": "stdout"
        }
      ]
    },
    {
      "cell_type": "markdown",
      "metadata": {
        "id": "HSz7jRSlGxIO"
      },
      "source": [
        "---"
      ]
    }
  ]
}