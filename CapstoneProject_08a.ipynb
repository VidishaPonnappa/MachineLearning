{
  "nbformat": 4,
  "nbformat_minor": 0,
  "metadata": {
    "colab": {
      "provenance": [],
      "include_colab_link": true
    },
    "kernelspec": {
      "name": "python3",
      "display_name": "Python 3"
    }
  },
  "cells": [
    {
      "cell_type": "markdown",
      "metadata": {
        "id": "view-in-github",
        "colab_type": "text"
      },
      "source": [
        "<a href=\"https://colab.research.google.com/github/VidishaPonnappa/MachineLearning/blob/main/CapstoneProject_8a.ipynb\" target=\"_parent\"><img src=\"https://colab.research.google.com/assets/colab-badge.svg\" alt=\"Open In Colab\"/></a>"
      ]
    },
    {
      "cell_type": "markdown",
      "metadata": {
        "id": "UYmMpXkNw9I6"
      },
      "source": [
        "# Capstone Project 8: The Horizon Bank - Python Dictionaries"
      ]
    },
    {
      "cell_type": "markdown",
      "metadata": {
        "id": "PaanjkTewd2U"
      },
      "source": [
        "---"
      ]
    },
    {
      "cell_type": "markdown",
      "metadata": {
        "id": "2i36Yv3-MPY5"
      },
      "source": [
        "### Problem Statement\n",
        "\n",
        "In this project, you have to write a computer program to create an interactive bank application for the Horizon Bank. The application must have two simple functionalities:\n",
        "\n",
        "1. Allow a customer to create a new bank account with their following personal details:\n",
        "\n",
        "   - Full name\n",
        "\n",
        "   - Permanent residential address\n",
        "\n",
        "   - Personal or residential phone number\n",
        "\n",
        "   - Valid government-issued identification\n",
        "\n",
        "   - Amount to be deposited to the account\n",
        "\n",
        "2. Allow an existing customer of the bank to\n",
        "\n",
        "   - Check their bank balance\n",
        "   \n",
        "   - Withdraw some amount from their account provided that the withdrawal amount is less than the available bank balance\n",
        "   \n",
        "   - Deposit some amount to their account\n"
      ]
    },
    {
      "cell_type": "markdown",
      "metadata": {
        "id": "Y9JYGh67SE1-"
      },
      "source": [
        "---"
      ]
    },
    {
      "cell_type": "markdown",
      "metadata": {
        "id": "IMYx69ZBwsOV"
      },
      "source": [
        "### Programming Approach\n",
        "\n",
        "In this project you need to use a Python dictionary to build the **Horizon Bank** application.\n",
        "\n",
        "*A python dictionary is a collection of **key-value** pairs where each key-value pair collectively constitutes an item stored in it.*\n",
        "\n",
        "**Step 1**\n",
        "\n",
        "The data of all the customers needs to be stored in a Python dictionary. Let's call it `cust_data`.\n",
        "\n",
        "The key of the `cust_data` dictionary should be an account number of a customer. Its corresponding value should be another dictionary holding the personal details of a customer such as `name`, `address, email id` etc. as shown below.\n",
        "\n",
        "```\n",
        "cust_data = {10011 : {'name': karthik,\n",
        "                      'address': 'C42, MG Complex, Sector-14, Vashi',\n",
        "                      'phone num': '9876543210',\n",
        "                      'govt id': 'C12345Z',\n",
        "                      'amount': 15999}}\n",
        "```\n",
        "\n",
        "Here, `10011` is the account number for Karthik's saving account. It acts as a key to the dictionary containing his details.\n",
        "\n",
        "To add the personal details of another customer to the `cust_data` dictionary, you need to append it with existing data in the dictionary as shown below.\n",
        "\n",
        "```\n",
        "cust_data = {10011 : {'name': karthik,\n",
        "                      'address': 'C42, MG Complex, Sector-14, Vashi',\n",
        "                      'phone num': '9876543210',\n",
        "                      'govt id': 'C12345Z',\n",
        "                      'amount': 15999},\n",
        "            100012 : {'name' : Hrithik,\n",
        "                      'address': B-910, Mandapeshwar Kripa, Borivalli,\n",
        "                      'phone num' : '9876543210',\n",
        "                      'govt id': 'QL44345',\n",
        "                      'amount': 13999}}\n",
        "```\n",
        "\n",
        "Next, you need to create a list holding the personal attributes of a customer, i.e.,\n",
        "\n",
        "`['name', 'address', 'phone num', 'govt id', 'amount']`\n",
        "\n",
        "Let's call it  `new_user_attributes` list.\n",
        "\n",
        "**Step 2**\n",
        "\n",
        "As the next step, you need to create a function to add a new user to the `cust_data` dictionary. Name the function as `new_user()`. This function should do the following:\n",
        "\n",
        "1. Create a random five-digit account number for a new customer. It should not already exist in the `cust_data` dictionary.\n",
        "\n",
        "2. Collect the required personal details of a user one-by-one in the `new_user_input` variable.\n",
        "\n",
        "4. Create a dictionary by joining the items of the `new_user_attributes` list and the `new_user_input` list for a new user and add it to the `cust_data` dictionary.\n",
        "\n",
        "\n",
        "**Step 3:**\n",
        "\n",
        "Then you need to create a function to get the account details of an existing user from the `cust_data` dictionary. Name the function as `existing_user()`. This function should do the following:\n",
        "\n",
        "1. Prompt the user to enter their account number. Keep prompting until they enter their correct account number.\n",
        "\n",
        "2. Once the user has entered the correct account number, prompt them to enter either `1, 2` or `3` where:\n",
        "   \n",
        "   - 1 denotes check the available amount in the account of a user\n",
        "\n",
        "   - 2 denotes allow the user to withdraw an amount from their account\n",
        "   \n",
        "   - 3 denotes allow the user to deposit an amount to their account\n",
        "  \n",
        "  Keep prompting until the user enters the valid input.\n",
        "  \n",
        "3. In the case of valid input:\n",
        "  \n",
        "   - If the user enters `1`, then display their available account balance.\n",
        "\n",
        "   - Else if the user enters `2`, then prompt the user to enter the withdrawal amount.\n",
        "\n",
        "     - If the withdrawal amount is greater than the available balance, then terminate the withdrawal action.\n",
        "\n",
        "     - Else, subtract the withdrawal amount from the available balance and replace the existing available amount with the updated amount in the `cust_data` dictionary.\n",
        "\n",
        "   - Else if the user enters `3`, then prompt them to enter the amount to be deposited to their account. Add the deposit amount to the available balance and update the new deposit amount in the `cust_data` dictionary.\n",
        "\n",
        "**Step 4**\n",
        "\n",
        "Finally, you need to create an infinite `while` loop to run the application. Inside the loop:\n",
        "\n",
        "1. Create a list of valid inputs, i.e., `'1', '2', '3'` where\n",
        "\n",
        "   - 1 denotes the user is a new customer who wants to create a new account\n",
        "\n",
        "   - 2 denotes the user is an existing customer who wants to either check their balance, withdraw some amount from their account or deposit some amount to their account.\n",
        "\n",
        "   - 3 denotes terminate the application or terminate the infinite `while` loop.\n",
        "\n",
        "2. Prompt the user to enter either `1, 2,` or `3`. Keep prompting until the user enters the valid input.\n",
        "\n",
        "3. If the user enters `1`, then create a new account for the user and get their personal details. After creating the account, terminate the application.\n",
        "\n",
        "4. Else if the user enters 2, then display their account balance, reduce their balance or increase their balance depending on their further input. Afterwards, terminate the application.\n",
        "\n",
        "5. Else if the user enters 3, then terminate the application."
      ]
    },
    {
      "cell_type": "markdown",
      "metadata": {
        "id": "UyYUfSu3fJkj"
      },
      "source": [
        "---"
      ]
    },
    {
      "cell_type": "markdown",
      "metadata": {
        "id": "UCusTfW0tcxe"
      },
      "source": [
        "#### 1. Customer Data"
      ]
    },
    {
      "cell_type": "code",
      "metadata": {
        "id": "6RL71w3ntzcH"
      },
      "source": [
        "# Create the 'cust_data' dictionary and the 'new_user_attributes' list.\n",
        "cust_data={}\n",
        "new_user_attributes=['name','address','phone num','govt id','amount']"
      ],
      "execution_count": null,
      "outputs": []
    },
    {
      "cell_type": "markdown",
      "metadata": {
        "id": "RETr5Tv1JBls"
      },
      "source": [
        "---"
      ]
    },
    {
      "cell_type": "markdown",
      "metadata": {
        "id": "0_OEabQbGQcP"
      },
      "source": [
        "#### 2. Add New User\n"
      ]
    },
    {
      "cell_type": "code",
      "metadata": {
        "id": "mROhcvIy0ML6",
        "colab": {
          "base_uri": "https://localhost:8080/"
        },
        "outputId": "bcac913f-83bf-4a6a-ac43-974093741875"
      },
      "source": [
        "# Create the 'new_user()' function to add a new user to the 'cust_data' dictionary.\n",
        "import random\n",
        "def new_user():\n",
        "  a=random.randint(10000,100000)\n",
        "  while a in cust_data.keys():\n",
        "    a=random.randint(10000,100000)\n",
        "  print('IMPORTANT- YOUR ACCOUNT ID IS-   ',a)\n",
        "  name=input('Enter your name: ')\n",
        "  address=input('Enter address: ')\n",
        "  phone=int(input('Enter phone number: '))\n",
        "  gov_id=input('Enter government id: ')\n",
        "  amount=int(input('Enter amount: '))\n",
        "  cust_temp_data=[name,address,phone,gov_id,amount]\n",
        "  cust_data[a]=cust_temp_data\n",
        "  print('Your information is succesfully entered!')\n",
        "new_user()"
      ],
      "execution_count": null,
      "outputs": [
        {
          "output_type": "stream",
          "text": [
            "IMPORTANT- YOUR ACCOUNT ID IS-    20309\n",
            "Enter your name: A\n",
            "Enter address: 1\n",
            "Enter phone number: 1\n",
            "Enter government id: QW345\n",
            "Enter amount: 1\n",
            "Your information is succesfully entered!\n"
          ],
          "name": "stdout"
        }
      ]
    },
    {
      "cell_type": "code",
      "metadata": {
        "colab": {
          "base_uri": "https://localhost:8080/"
        },
        "id": "xSCjTYH057tQ",
        "outputId": "7273b162-b517-49d0-8c05-596e183daf26"
      },
      "source": [
        "cust_data"
      ],
      "execution_count": null,
      "outputs": [
        {
          "output_type": "execute_result",
          "data": {
            "text/plain": [
              "{20309: ['A', '1', 1, 'QW345', 1]}"
            ]
          },
          "metadata": {
            "tags": []
          },
          "execution_count": 15
        }
      ]
    },
    {
      "cell_type": "markdown",
      "metadata": {
        "id": "aJJT0ojPGPcd"
      },
      "source": [
        "---"
      ]
    },
    {
      "cell_type": "markdown",
      "metadata": {
        "id": "rZsDogK8LaOW"
      },
      "source": [
        "#### 3. Existing User\n",
        "\n",
        "Create a function `existing_user()` to get the account details of an existing user from the `cust_data` dictionary.\n",
        "\n",
        "Prompt the user to enter either `1, 2` or `3`. Keep prompting until the user enters the valid input. For each invalid input, print an error message to the user.\n",
        "\n",
        "In the case of valid input:\n",
        "  \n",
        "   - If the user enters `1`, then display their available account balance.\n",
        "\n",
        "   - Else if the user enters `2`, then prompt the user to enter the withdrawal amount by displaying the `Enter the amount to be withdrawn:` message.\n",
        "\n",
        "   - Else if the user enters `3`, then prompt them to enter the amount to be deposited to their account by displaying the `Enter the amount to be deposited:` message. Add the deposit amount to the available balance and update the new deposit amount in the `cust_data` dictionary.\n"
      ]
    },
    {
      "cell_type": "code",
      "metadata": {
        "id": "8HV3cY6O9LeE"
      },
      "source": [
        "# Create the 'existing_user()' function to get the account details of an existing user from the 'cust_data' dictionary.\n",
        "def existing_user():\n",
        "  repeat=True\n",
        "  while repeat==True:\n",
        "    print('Welcome back!')\n",
        "    id=int(input('Please enter your account id to continue: '))\n",
        "    while id not in cust_data.keys():\n",
        "      print('Sorry! Account not found.')\n",
        "      id=int(input('Please enter your account id to continue: '))\n",
        "    details=['name \\t','address','phone \\t','gov-id \\t','amount \\t']\n",
        "    for i in range(5):\n",
        "      print(details[i],'\\t--->',cust_data[id][i])\n",
        "    option=int(input(' Press 1 to view balance \\n Press 2 to withdraw money \\n Press 3 to deposit money \\n Press 4 to return to the menu '))\n",
        "    while option not in [1,2,3,4]:\n",
        "      print('Invalid input.')\n",
        "      option=int(input(' Press 1 to view balance \\n Press 2 to withdraw money \\n Press 3 to deposit money \\n Press 4 to return to the menu '))\n",
        "    if option==1:\n",
        "      print('name: \\t\\t {} \\n balance: \\t\\t {}'.format(cust_data[id][0],cust_data[id][4]))\n",
        "    if option==2:\n",
        "      print('Your current balance is {}.'.format(cust_data[id][4]))\n",
        "      bal=int(input('How much would you like to withdraw? '))\n",
        "      while bal>=cust_data[id][4]:\n",
        "        print('Sorry, you do not have that much in your account currently! ')\n",
        "        bal=int(input('How much would you like to withdraw? '))\n",
        "      cust_data[id][4]-=bal\n",
        "      print('Your current balance is {}.'.format(cust_data[id][4]))\n",
        "    if option==3:\n",
        "      print('Your current balance is {}.'.format(cust_data[id][4]))\n",
        "      dep=int(input('How much would you like to deposit? '))\n",
        "      while dep<=0:\n",
        "        print('Invalid input.')\n",
        "        dep=int(input('How much would you like to deposit? '))\n",
        "      cust_data[id][4]+=dep\n",
        "      print('Your current balance is {}.'.format(cust_data[id][4]))\n",
        "    if option==4:\n",
        "      repeat=False\n",
        "  exit=input('Do you want to go to the main menu? (y/n) ')\n",
        "  while exit not in ['y','n']:\n",
        "    exit=input('Do you want to go to the main menu? (y/n) ')\n",
        "  return exit"
      ],
      "execution_count": null,
      "outputs": []
    },
    {
      "cell_type": "markdown",
      "metadata": {
        "id": "gdgW4-R6LVB3"
      },
      "source": [
        "---"
      ]
    },
    {
      "cell_type": "code",
      "metadata": {
        "id": "-QAIIkM1qCNr"
      },
      "source": [
        "# Create an infinite while loop to run the application.\n",
        "# If the user enters 1, then create a new account for the user and get their personal details.\n",
        "# If the user enters 2, then display their account balance, reduce their balance or increase their balance depending on their further input.\n",
        "# If the user enters 3, then terminate the application with the 'Thank you, for banking with us!' message."
      ],
      "execution_count": null,
      "outputs": []
    },
    {
      "cell_type": "code",
      "metadata": {
        "id": "HmyWY_u1QtXj"
      },
      "source": [
        "def bank():\n",
        "  print(' Welcome!')\n",
        "  ans=int(input(' Enter 1 if you are a new user. \\n Enter 2 if you are an existing user. \\n Enter 3 if you wish to exit '))\n",
        "  while ans not in [1,2,3]:\n",
        "    print('Invalid input.')\n",
        "    ans=int(input(' Enter 1 if you are a new user. \\n Enter 2 if you are an existing user. \\n Enter 3 if you wish to exit '))\n",
        "  while ans!=3:\n",
        "    if ans==1:\n",
        "      new_user()\n",
        "    if ans==2:\n",
        "      existing_user()\n",
        "      if existing_user()=='y':\n",
        "        bank()\n",
        "      else:\n",
        "        existing_user()\n",
        "    ans=int(input(' Enter 1 if you are a new user. \\n Enter 2 if you are an existing user. \\n Enter 3 if you wish to exit '))\n",
        "    while ans not in [1,2,3]:\n",
        "      print('Invalid input.')\n",
        "      ans=int(input(' Enter 1 if you are a new user. \\n Enter 2 if you are an existing user. \\n Enter 3 if you wish to exit '))\n",
        "  if ans==3:\n",
        "    print('Thank you!')"
      ],
      "execution_count": null,
      "outputs": []
    },
    {
      "cell_type": "code",
      "metadata": {
        "colab": {
          "base_uri": "https://localhost:8080/"
        },
        "id": "UVchTeIyVpSd",
        "outputId": "f6f0ea68-5fde-451c-d152-b40ad8e90c44"
      },
      "source": [
        "bank()"
      ],
      "execution_count": null,
      "outputs": [
        {
          "output_type": "stream",
          "text": [
            " Welcome!\n",
            " Enter 1 if you are a new user. \n",
            " Enter 2 if you are an existing user. \n",
            " Enter 3 if you wish to exit 1\n",
            "IMPORTANT- YOUR ACCOUNT ID IS-    90144\n",
            "Enter your name: Trinity\n",
            "Enter address: #27, VDay Corner\n",
            "Enter phone number: 1074659823\n",
            "Enter government id: VP276\n",
            "Enter amount: 100000\n",
            "Your information is succesfully entered!\n",
            " Enter 1 if you are a new user. \n",
            " Enter 2 if you are an existing user. \n",
            " Enter 3 if you wish to exit 2\n",
            "Welcome back!\n",
            "Please enter your account id to continue: 90144\n",
            "name \t \t---> Trinity\n",
            "address \t---> #27, VDay Corner\n",
            "phone \t \t---> 1074659823\n",
            "gov-id \t \t---> VP276\n",
            "amount \t \t---> 100000\n",
            " Press 1 to view balance \n",
            " Press 2 to withdraw money \n",
            " Press 3 to deposit money \n",
            " Press 4 to return to the menu 2\n",
            "Your current balance is 100000.\n",
            "How much would you like to withdraw? 1000000\n",
            "Sorry, you do not have that much in your account currently! \n",
            "How much would you like to withdraw? 20000\n",
            "Your current balance is 80000.\n",
            "Welcome back!\n",
            "Please enter your account id to continue: 90144\n",
            "name \t \t---> Trinity\n",
            "address \t---> #27, VDay Corner\n",
            "phone \t \t---> 1074659823\n",
            "gov-id \t \t---> VP276\n",
            "amount \t \t---> 80000\n",
            " Press 1 to view balance \n",
            " Press 2 to withdraw money \n",
            " Press 3 to deposit money \n",
            " Press 4 to return to the menu 3\n",
            "Your current balance is 80000.\n",
            "How much would you like to deposit? 500\n",
            "Your current balance is 80500.\n",
            "Welcome back!\n",
            "Please enter your account id to continue: 90144\n",
            "name \t \t---> Trinity\n",
            "address \t---> #27, VDay Corner\n",
            "phone \t \t---> 1074659823\n",
            "gov-id \t \t---> VP276\n",
            "amount \t \t---> 80500\n",
            " Press 1 to view balance \n",
            " Press 2 to withdraw money \n",
            " Press 3 to deposit money \n",
            " Press 4 to return to the menu 4\n",
            "Do you want to go to the main menu? (y/n) n\n",
            "Welcome back!\n",
            "Please enter your account id to continue: 90144\n",
            "name \t \t---> Trinity\n",
            "address \t---> #27, VDay Corner\n",
            "phone \t \t---> 1074659823\n",
            "gov-id \t \t---> VP276\n",
            "amount \t \t---> 80500\n",
            " Press 1 to view balance \n",
            " Press 2 to withdraw money \n",
            " Press 3 to deposit money \n",
            " Press 4 to return to the menu 4\n",
            "Do you want to go to the main menu? (y/n) y\n",
            " Welcome!\n",
            " Enter 1 if you are a new user. \n",
            " Enter 2 if you are an existing user. \n",
            " Enter 3 if you wish to exit 3\n",
            "Thank you!\n",
            " Enter 1 if you are a new user. \n",
            " Enter 2 if you are an existing user. \n",
            " Enter 3 if you wish to exit 3\n",
            "Thank you!\n"
          ],
          "name": "stdout"
        }
      ]
    },
    {
      "cell_type": "markdown",
      "metadata": {
        "id": "4qIsQMIj-Is3"
      },
      "source": [
        "---"
      ]
    }
  ]
}
