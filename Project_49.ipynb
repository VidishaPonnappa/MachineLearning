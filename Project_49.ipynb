{
  "nbformat": 4,
  "nbformat_minor": 0,
  "metadata": {
    "colab": {
      "provenance": [],
      "include_colab_link": true
    },
    "kernelspec": {
      "name": "python3",
      "display_name": "Python 3"
    }
  },
  "cells": [
    {
      "cell_type": "markdown",
      "metadata": {
        "id": "view-in-github",
        "colab_type": "text"
      },
      "source": [
        "<a href=\"https://colab.research.google.com/github/VidishaPonnappa/MachineLearning/blob/main/Project_49.ipynb\" target=\"_parent\"><img src=\"https://colab.research.google.com/assets/colab-badge.svg\" alt=\"Open In Colab\"/></a>"
      ]
    },
    {
      "cell_type": "markdown",
      "metadata": {
        "id": "bEyBzxYRhrLG"
      },
      "source": [
        "#### Goals :\n",
        "\n",
        "1. Round Clsest to N\n",
        "\n",
        "2. Histogram.\n"
      ]
    },
    {
      "cell_type": "markdown",
      "metadata": {
        "id": "DPOFIO3EHncO"
      },
      "source": [
        "---"
      ]
    },
    {
      "cell_type": "markdown",
      "metadata": {
        "id": "q4fH06mIjuK3"
      },
      "source": [
        "#### 1. Round to Closest N\n",
        "\n",
        "Create a function let's say `round_number()` that takes two integers, `num` and `n` as parameters, and returns an integer which is divisible by `n` and is closest to `num`.\n",
        "\n",
        "If we find two such numbers which are  divisible by `n` and **equidistant** from `num`, then select the larger one."
      ]
    },
    {
      "cell_type": "code",
      "metadata": {
        "id": "4EAoTskqg041",
        "colab": {
          "base_uri": "https://localhost:8080/"
        },
        "outputId": "652a48f9-7efb-479c-eb8c-fa76af1fbff1"
      },
      "source": [
        "# Write your solution here\n",
        "import math\n",
        "def rn(a,b):\n",
        "  num=a/b\n",
        "  num1,num2=math.ceil(num),math.floor(num)\n",
        "  n1,n2=b*num1,b*num2\n",
        "  x1,x2=n1-a,a-n2\n",
        "  if x1>x2:\n",
        "    return n2\n",
        "  else:\n",
        "    return n1\n",
        "\n",
        "rn(133,14)"
      ],
      "execution_count": null,
      "outputs": [
        {
          "output_type": "execute_result",
          "data": {
            "text/plain": [
              "140"
            ]
          },
          "metadata": {
            "tags": []
          },
          "execution_count": 12
        }
      ]
    },
    {
      "cell_type": "markdown",
      "metadata": {
        "id": "xJlPs9X9oeRw"
      },
      "source": [
        "---"
      ]
    },
    {
      "cell_type": "markdown",
      "metadata": {
        "id": "qA-b1CdeofKc"
      },
      "source": [
        "#### 2. Travel Time of Employees\n",
        "\n",
        "A survey was conducted by ABC company to find out the daily travel time of its employees. Following were the results (in minutes):\n",
        "\n",
        "$12, 33, 65, 25, 30, 55, 20, 44, 55, 80, 75, 90, 43, 62, 35, 38, 45, 32, 28, 34$\n",
        "\n",
        "Find the average amount of time taken by the employees to travel to their office. Also calculate median and standard deviation of the above travel time and plot the Histogram for the same.\n",
        "\n",
        "**Hint:**\n",
        "Use `numpy` module"
      ]
    },
    {
      "cell_type": "code",
      "metadata": {
        "id": "AtvPTG3kpBoS",
        "colab": {
          "base_uri": "https://localhost:8080/",
          "height": 316
        },
        "outputId": "44f268c1-eff0-47f5-9965-d77332c01198"
      },
      "source": [
        "# Write your solution here\n",
        "# import modules\n",
        "import numpy as np\n",
        "import matplotlib.pyplot as plt\n",
        "\n",
        "l=[12,33,65,25,30,55,20,44,55,80,75,90,43,62,35,38,45,32,28,34]\n",
        "print('Mean - ', np.mean(l))\n",
        "print('Median - ',np.median(l))\n",
        "print('Standard Deviation - ', np.std(l))\n",
        "# Create NumPy array consisting of employee's travel time\n",
        "# Calculate mean, median and standard deviation using numpy module and print them.\n",
        "# Create a histogram for the numpy array.\n",
        "plt.hist(l,bins='sturges')\n",
        "plt.axvline(np.mean(l),color='red')\n",
        "plt.show()"
      ],
      "execution_count": null,
      "outputs": [
        {
          "output_type": "stream",
          "text": [
            "Mean -  45.05\n",
            "Median -  40.5\n",
            "Standard Deviation -  20.31618812671314\n"
          ],
          "name": "stdout"
        },
        {
          "output_type": "display_data",
          "data": {
            "image/png": "[encoded data removed]",
            "text/plain": [
              "<Figure size 432x288 with 1 Axes>"
            ]
          },
          "metadata": {
            "tags": [],
            "needs_background": "light"
          }
        }
      ]
    },
    {
      "cell_type": "markdown",
      "metadata": {
        "id": "VZzL6HODXfLK"
      },
      "source": [
        "**Q: What is average travel time taken by employees of ABC company to reach their office?**\n",
        "\n",
        "**A:** 45.05 minutes"
      ]
    },
    {
      "cell_type": "markdown",
      "metadata": {
        "id": "KOVBiUSMzut1"
      },
      "source": [
        "---"
      ]
    }
  ]
}