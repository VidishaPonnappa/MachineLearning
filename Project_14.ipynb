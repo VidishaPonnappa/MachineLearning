{
  "nbformat": 4,
  "nbformat_minor": 0,
  "metadata": {
    "colab": {
      "provenance": [],
      "include_colab_link": true
    },
    "kernelspec": {
      "name": "python3",
      "display_name": "Python 3"
    }
  },
  "cells": [
    {
      "cell_type": "markdown",
      "metadata": {
        "id": "view-in-github",
        "colab_type": "text"
      },
      "source": [
        "<a href=\"https://colab.research.google.com/github/VidishaPonnappa/MachineLearning/blob/main/Project_14.ipynb\" target=\"_parent\"><img src=\"https://colab.research.google.com/assets/colab-badge.svg\" alt=\"Open In Colab\"/></a>"
      ]
    },
    {
      "cell_type": "markdown",
      "metadata": {
        "id": "fIKnY8occu37"
      },
      "source": [
        "#### Goals :\n",
        "\n",
        "1. Pandas Dataframe\n",
        "2. Finding number of solutions for a quadratic Equation\n"
      ]
    },
    {
      "cell_type": "markdown",
      "metadata": {
        "id": "nQ39kBv7eP05"
      },
      "source": [
        "---"
      ]
    },
    {
      "cell_type": "markdown",
      "metadata": {
        "id": "q4fH06mIjuK3"
      },
      "source": [
        "#### Activity 1: Create Pandas DataFrame\n",
        "\n",
        "Create a pandas DataFrame by using the below link which has the dataset of NBA players in the CSV format:\n",
        "\n",
        "**Dataset** : https://media.geeksforgeeks.org/wp-content/uploads/nba.csv\n",
        "\n",
        "Also, print the first five rows of the dataset."
      ]
    },
    {
      "cell_type": "code",
      "metadata": {
        "id": "4EAoTskqg041",
        "colab": {
          "base_uri": "https://localhost:8080/",
          "height": 204
        },
        "outputId": "259c10c4-9c4e-42d4-881b-52110d772ad8"
      },
      "source": [
        "# Create a pandas DataFrame\n",
        "import pandas as pd\n",
        "nba=pd.read_csv('https://media.geeksforgeeks.org/wp-content/uploads/nba.csv')\n",
        "nba.head()"
      ],
      "execution_count": null,
      "outputs": [
        {
          "output_type": "execute_result",
          "data": {
            "text/html": [
              "<div>\n",
              "<style scoped>\n",
              "    .dataframe tbody tr th:only-of-type {\n",
              "        vertical-align: middle;\n",
              "    }\n",
              "\n",
              "    .dataframe tbody tr th {\n",
              "        vertical-align: top;\n",
              "    }\n",
              "\n",
              "    .dataframe thead th {\n",
              "        text-align: right;\n",
              "    }\n",
              "</style>\n",
              "<table border=\"1\" class=\"dataframe\">\n",
              "  <thead>\n",
              "    <tr style=\"text-align: right;\">\n",
              "      <th></th>\n",
              "      <th>Name</th>\n",
              "      <th>Team</th>\n",
              "      <th>Number</th>\n",
              "      <th>Position</th>\n",
              "      <th>Age</th>\n",
              "      <th>Height</th>\n",
              "      <th>Weight</th>\n",
              "      <th>College</th>\n",
              "      <th>Salary</th>\n",
              "    </tr>\n",
              "  </thead>\n",
              "  <tbody>\n",
              "    <tr>\n",
              "      <th>0</th>\n",
              "      <td>Avery Bradley</td>\n",
              "      <td>Boston Celtics</td>\n",
              "      <td>0.0</td>\n",
              "      <td>PG</td>\n",
              "      <td>25.0</td>\n",
              "      <td>6-2</td>\n",
              "      <td>180.0</td>\n",
              "      <td>Texas</td>\n",
              "      <td>7730337.0</td>\n",
              "    </tr>\n",
              "    <tr>\n",
              "      <th>1</th>\n",
              "      <td>Jae Crowder</td>\n",
              "      <td>Boston Celtics</td>\n",
              "      <td>99.0</td>\n",
              "      <td>SF</td>\n",
              "      <td>25.0</td>\n",
              "      <td>6-6</td>\n",
              "      <td>235.0</td>\n",
              "      <td>Marquette</td>\n",
              "      <td>6796117.0</td>\n",
              "    </tr>\n",
              "    <tr>\n",
              "      <th>2</th>\n",
              "      <td>John Holland</td>\n",
              "      <td>Boston Celtics</td>\n",
              "      <td>30.0</td>\n",
              "      <td>SG</td>\n",
              "      <td>27.0</td>\n",
              "      <td>6-5</td>\n",
              "      <td>205.0</td>\n",
              "      <td>Boston University</td>\n",
              "      <td>NaN</td>\n",
              "    </tr>\n",
              "    <tr>\n",
              "      <th>3</th>\n",
              "      <td>R.J. Hunter</td>\n",
              "      <td>Boston Celtics</td>\n",
              "      <td>28.0</td>\n",
              "      <td>SG</td>\n",
              "      <td>22.0</td>\n",
              "      <td>6-5</td>\n",
              "      <td>185.0</td>\n",
              "      <td>Georgia State</td>\n",
              "      <td>1148640.0</td>\n",
              "    </tr>\n",
              "    <tr>\n",
              "      <th>4</th>\n",
              "      <td>Jonas Jerebko</td>\n",
              "      <td>Boston Celtics</td>\n",
              "      <td>8.0</td>\n",
              "      <td>PF</td>\n",
              "      <td>29.0</td>\n",
              "      <td>6-10</td>\n",
              "      <td>231.0</td>\n",
              "      <td>NaN</td>\n",
              "      <td>5000000.0</td>\n",
              "    </tr>\n",
              "  </tbody>\n",
              "</table>\n",
              "</div>"
            ],
            "text/plain": [
              "            Name            Team  Number  ... Weight            College     Salary\n",
              "0  Avery Bradley  Boston Celtics     0.0  ...  180.0              Texas  7730337.0\n",
              "1    Jae Crowder  Boston Celtics    99.0  ...  235.0          Marquette  6796117.0\n",
              "2   John Holland  Boston Celtics    30.0  ...  205.0  Boston University        NaN\n",
              "3    R.J. Hunter  Boston Celtics    28.0  ...  185.0      Georgia State  1148640.0\n",
              "4  Jonas Jerebko  Boston Celtics     8.0  ...  231.0                NaN  5000000.0\n",
              "\n",
              "[5 rows x 9 columns]"
            ]
          },
          "metadata": {
            "tags": []
          },
          "execution_count": 2
        }
      ]
    },
    {
      "cell_type": "markdown",
      "metadata": {
        "id": "xJlPs9X9oeRw"
      },
      "source": [
        "---"
      ]
    },
    {
      "cell_type": "markdown",
      "metadata": {
        "id": "7wLTClH3mTsZ"
      },
      "source": [
        "#### Activity 1.2 : Check for Null values\n",
        "\n",
        "Check for missing values in the DataFrame."
      ]
    },
    {
      "cell_type": "code",
      "metadata": {
        "id": "ZLSRJ_T9mVtr",
        "colab": {
          "base_uri": "https://localhost:8080/"
        },
        "outputId": "0b35e6d1-6876-45b1-db79-c8cb17a07cb2"
      },
      "source": [
        "# Check for missing values in the above Pandas series.\n",
        "#nba.isnull()\n",
        "nba.isnull().sum()"
      ],
      "execution_count": null,
      "outputs": [
        {
          "output_type": "execute_result",
          "data": {
            "text/plain": [
              "Name         1\n",
              "Team         1\n",
              "Number       1\n",
              "Position     1\n",
              "Age          1\n",
              "Height       1\n",
              "Weight       1\n",
              "College     85\n",
              "Salary      12\n",
              "dtype: int64"
            ]
          },
          "metadata": {
            "tags": []
          },
          "execution_count": 8
        }
      ]
    },
    {
      "cell_type": "markdown",
      "metadata": {
        "id": "YzslrPGfmaXM"
      },
      "source": [
        "**Q:** Are there any missing values in the DataFrame ?\n",
        "\n",
        "**A:** Yes."
      ]
    },
    {
      "cell_type": "markdown",
      "metadata": {
        "id": "C-kORyQtmh1N"
      },
      "source": [
        "---"
      ]
    },
    {
      "cell_type": "markdown",
      "metadata": {
        "id": "RtQyGSUamqwD"
      },
      "source": [
        "#### Activity 1.3 : Get the Number of rows and columns\n",
        "\n",
        "Get the number of rows and columns of the DataFrame."
      ]
    },
    {
      "cell_type": "code",
      "metadata": {
        "id": "6IxS7zUrrTEL",
        "colab": {
          "base_uri": "https://localhost:8080/"
        },
        "outputId": "c0f095d2-a352-4c5b-ad5b-523140f6ce43"
      },
      "source": [
        "# Get the Number of rows and columns\n",
        "nba.shape"
      ],
      "execution_count": null,
      "outputs": [
        {
          "output_type": "execute_result",
          "data": {
            "text/plain": [
              "(458, 9)"
            ]
          },
          "metadata": {
            "tags": []
          },
          "execution_count": 7
        }
      ]
    },
    {
      "cell_type": "markdown",
      "metadata": {
        "id": "SW8IJ7hcrYOz"
      },
      "source": [
        "**Q:** How many rows are there in the DataFrame?\n",
        "\n",
        "**A:** 458"
      ]
    },
    {
      "cell_type": "markdown",
      "metadata": {
        "id": "7JviCtFz5cc1"
      },
      "source": [
        "---"
      ]
    },
    {
      "cell_type": "markdown",
      "metadata": {
        "id": "-1Bsh2BmrVfs"
      },
      "source": [
        "#### Activity 1.4: Create Pandas series for the player 'Avery Bradley'\n",
        "\n",
        "Using the `iloc[]` function, create a Pandas series for the player Avery Bradley and store it in a variable called `avery_bradley`."
      ]
    },
    {
      "cell_type": "code",
      "metadata": {
        "id": "U3Q41T235li1",
        "colab": {
          "base_uri": "https://localhost:8080/"
        },
        "outputId": "614e336a-634c-47d0-8736-d01e6145842d"
      },
      "source": [
        "# Create pandas series for the player 'Avery Bradley'\n",
        "a=nba.iloc[0,:]\n",
        "a"
      ],
      "execution_count": null,
      "outputs": [
        {
          "output_type": "execute_result",
          "data": {
            "text/plain": [
              "Name         Avery Bradley\n",
              "Team        Boston Celtics\n",
              "Number                   0\n",
              "Position                PG\n",
              "Age                     25\n",
              "Height                 6-2\n",
              "Weight                 180\n",
              "College              Texas\n",
              "Salary         7.73034e+06\n",
              "Name: 0, dtype: object"
            ]
          },
          "metadata": {
            "tags": []
          },
          "execution_count": 9
        }
      ]
    },
    {
      "cell_type": "markdown",
      "metadata": {
        "id": "y4nv2zcL5p5O"
      },
      "source": [
        "**Q**: Which team does Avery Bradely plays for?\n",
        "\n",
        "**A**: Boston Celtics"
      ]
    },
    {
      "cell_type": "markdown",
      "metadata": {
        "id": "OsHwG1vu5YhB"
      },
      "source": [
        "---"
      ]
    },
    {
      "cell_type": "markdown",
      "metadata": {
        "id": "qA-b1CdeofKc"
      },
      "source": [
        "#### Activity 2: Find the number of solutions for a Quadratic equation\n",
        "\n",
        "A quadratic equation $ax² + b x + c = 0$ has either 0, 1, or 2 distinct solutions for real values of $x$. Given $a$, $b$ and $c$, you should only return the number of solutions that we can get from the equation.\n",
        "\n",
        "The above quadratic equation is solved using the formula, \\begin{array}{*{20}c} {x = \\frac{{ - b \\pm \\sqrt {b^2 - 4ac} }}{{2a}}} & {{\\rm{when}}} & {ax^2 + bx + c = 0} \\\\ \\end{array}\n",
        "\n",
        "The `±` in the above formula means there are **TWO** answers.\n",
        "\n",
        "Do you see $b^2 − 4ac$ in the formula above? It is called the **Discriminant**, because it can \"discriminate\" between the possible types of answer:\n",
        "\n",
        "  - when $b^2 − 4ac$ is **positive**, we get **two** Real solutions.\n",
        "\n",
        "  - when $b^2 − 4ac$ is **zero**, we get just **one** real solution.\n",
        "\n",
        "  - when $b^2 − 4ac$ is **negative**, we get a pair of **complex solution**.\n",
        "\n",
        "\n",
        "Examples:\n",
        "```\n",
        "1. solutions(1, 0, -1) ➞ 2\n",
        "# x² - 1 = 0 has two solutions (x = 1 and x = -1).\n",
        "\n",
        "2. solutions(1, 0, 1) ➞ 0\n",
        "# x² + 1 = 0 has no solutions.\n",
        "```\n",
        "\n",
        "**Note**: You do not need to calculate the solutions, just return how many solutions are there by calculating the value of $b^2 − 4ac$.\n"
      ]
    },
    {
      "cell_type": "code",
      "metadata": {
        "id": "AtvPTG3kpBoS",
        "colab": {
          "base_uri": "https://localhost:8080/"
        },
        "outputId": "accc121f-252a-4419-ff98-ece27c6b410b"
      },
      "source": [
        "# Number of solutions for a quadratic equation\n",
        "def noofsol(a,b,c):\n",
        "  sol=(b*b)-(4*a*c)\n",
        "  if sol>0:\n",
        "    print('Two Real solutions')\n",
        "  elif sol==0:\n",
        "    print('One Real Solution')\n",
        "  elif sol<0:\n",
        "    print('Two Complex Solutions')\n",
        "\n",
        "noofsol(1,0,-1)\n",
        "noofsol(1,0,1)"
      ],
      "execution_count": null,
      "outputs": [
        {
          "output_type": "stream",
          "text": [
            "Two Real solutions\n",
            "Two Complex Solutions\n"
          ],
          "name": "stdout"
        }
      ]
    },
    {
      "cell_type": "markdown",
      "metadata": {
        "id": "KOVBiUSMzut1"
      },
      "source": [
        "---"
      ]
    }
  ]
}