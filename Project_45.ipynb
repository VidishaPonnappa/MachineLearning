{
  "nbformat": 4,
  "nbformat_minor": 0,
  "metadata": {
    "colab": {
      "provenance": [],
      "include_colab_link": true
    },
    "kernelspec": {
      "name": "python3",
      "display_name": "Python 3"
    }
  },
  "cells": [
    {
      "cell_type": "markdown",
      "metadata": {
        "id": "view-in-github",
        "colab_type": "text"
      },
      "source": [
        "<a href=\"https://colab.research.google.com/github/VidishaPonnappa/MachineLearning/blob/main/Project_45.ipynb\" target=\"_parent\"><img src=\"https://colab.research.google.com/assets/colab-badge.svg\" alt=\"Open In Colab\"/></a>"
      ]
    },
    {
      "cell_type": "markdown",
      "metadata": {
        "id": "fIKnY8occu37"
      },
      "source": [
        "#### Goals :\n",
        "\n",
        "1. Almost Palindrome\n",
        "2. Karaca's Encryption Algorithm\n",
        "2. Pie Chart\n"
      ]
    },
    {
      "cell_type": "markdown",
      "metadata": {
        "id": "BBqkpH4_Doqe"
      },
      "source": [
        "---"
      ]
    },
    {
      "cell_type": "markdown",
      "metadata": {
        "id": "BVT9G_baB1aq"
      },
      "source": [
        "#### 1. Check Almost Palindrome\n",
        "\n",
        "A string is an **almost-palindrome** if by changing only one character, you can make it a palindrome. Create a function that returns `True` if a string is an almost-palindrome and `False` otherwise.\n",
        "\n",
        "```\n",
        "almost_palindrome(\"abcdcbg\") ➞ True\n",
        "```"
      ]
    },
    {
      "cell_type": "code",
      "metadata": {
        "id": "0pIGxKG9B3mb",
        "colab": {
          "base_uri": "https://localhost:8080/"
        },
        "outputId": "ce666889-0e82-4081-f015-ba888c299a63"
      },
      "source": [
        "# Write your solution here\n",
        "def ap(word):\n",
        "  l,c=[],0\n",
        "  for i in range(len(word)):\n",
        "    l.append(word[i])\n",
        "  for j in range(len(l)//2):\n",
        "    #print(l[j],l[-(j+1)])\n",
        "    if l[j]!=l[-(j+1)]:\n",
        "      c+=1\n",
        "  if c>1:\n",
        "    return False\n",
        "  else:\n",
        "    return True\n",
        "ap('abcdedcbb')"
      ],
      "execution_count": null,
      "outputs": [
        {
          "output_type": "execute_result",
          "data": {
            "text/plain": [
              "True"
            ]
          },
          "metadata": {
            "tags": []
          },
          "execution_count": 7
        }
      ]
    },
    {
      "cell_type": "markdown",
      "metadata": {
        "id": "IJIZASayCpEW"
      },
      "source": [
        "---"
      ]
    },
    {
      "cell_type": "markdown",
      "metadata": {
        "id": "5kBinzKxn3hd"
      },
      "source": [
        "#### Activity 2: Karaca's Encryption Algorithm\n",
        "\n",
        "You need to write a program that encrypts a word into an alphanumeric string but containing only numbers and letters and not the special characters.\n",
        "\n",
        "Consider the word `apple`. It needs to be encrypted by following the steps provided below.\n",
        "\n",
        "- **Step 1:** Reverse the position of the letters of the word, i.e., `elppa`\n",
        "\n",
        "- **Step 2:** Replace the vowels as follows:\n",
        "\n",
        "  - `a` with `0`\n",
        "\n",
        "  - `e` with `1`\n",
        "\n",
        "  - `i` with `2`\n",
        "\n",
        "  - `o` with `3`\n",
        "\n",
        "  - `u` with `4`\n",
        "\n",
        "  At the end of the second step, you should get `1lpp0` string.\n",
        "\n",
        "- **Step 3:** Add `aca` to the end of the string generated in the second step, i.e., `1lpp0aca`. This is the encrypted form of the word `apple`.\n",
        "\n"
      ]
    },
    {
      "cell_type": "code",
      "metadata": {
        "id": "4gjDvOhzn6TL",
        "colab": {
          "base_uri": "https://localhost:8080/",
          "height": 52
        },
        "outputId": "c2be655c-b475-4f65-9baa-385a2efe9faf"
      },
      "source": [
        "# Write a program that encrypts the word using Karaca's encryption technique.\n",
        "# Create a function which takes a string to be encrypted as parameter\n",
        "def k(w):\n",
        "  l,word,d=[],[],{'a':'0','e':'1','i':'2','o':'3','u':'4'}\n",
        "  for i in range(len(w)):\n",
        "    l.append(w[i])\n",
        "  l.reverse()\n",
        "  for j in l:\n",
        "    if j in d.keys():\n",
        "      word.append(d[j])\n",
        "    else:\n",
        "      word.append(j)\n",
        "  word.append('aca')\n",
        "  final=''\n",
        "  for k in word:\n",
        "    final+=k\n",
        "  return final\n",
        "\n",
        "print(k('burak'))\n",
        "k('apple')"
      ],
      "execution_count": null,
      "outputs": [
        {
          "output_type": "stream",
          "text": [
            "k0r4baca\n"
          ],
          "name": "stdout"
        },
        {
          "output_type": "execute_result",
          "data": {
            "application/vnd.google.colaboratory.intrinsic+json": {
              "type": "string"
            },
            "text/plain": [
              "'1lpp0aca'"
            ]
          },
          "metadata": {
            "tags": []
          },
          "execution_count": 17
        }
      ]
    },
    {
      "cell_type": "markdown",
      "metadata": {
        "id": "bBMg7r4xruSD"
      },
      "source": [
        "**Q** :What is Karaca's encryption for the word 'burak' ?\n",
        "\n",
        "**A** :k0r4baca"
      ]
    },
    {
      "cell_type": "markdown",
      "metadata": {
        "id": "MWkPEALQn-lN"
      },
      "source": [
        "---"
      ]
    },
    {
      "cell_type": "markdown",
      "metadata": {
        "id": "CzoR_zE1rz0t"
      },
      "source": [
        "### Activity 3: Create a pie chart\n",
        "\n",
        "Given below the data of different luxury car sales per month in two separate lists. Create a pie chart, slice it and label the slices with the brand names of the cars and also calculate the percentage of car sales for each brand.\n",
        "\n",
        "List of car brands and their corresponding sales data:\n",
        "\n",
        "```\n",
        "car_brand = ['AUDI', 'BMW', 'FORD', 'TESLA', 'JAGUAR', 'MERCEDES']\n",
        "sales_data = [23, 17, 35, 29, 12, 41]\n",
        "```\n",
        "\n",
        "**Note:** Consider the values in `car_brand` list as labels of the pie chart and `sales_data` list as the actual dataset."
      ]
    },
    {
      "cell_type": "code",
      "metadata": {
        "id": "izXCvjP8r0z9",
        "colab": {
          "base_uri": "https://localhost:8080/",
          "height": 248
        },
        "outputId": "fe5a4a1c-d28c-4ab7-f0cf-ed476906c620"
      },
      "source": [
        "# Create a pie chart by using the above data\n",
        "import matplotlib.pyplot as plt\n",
        "car_brand = ['AUDI', 'BMW', 'FORD', 'TESLA', 'JAGUAR', 'MERCEDES']\n",
        "sales_data = [23, 17, 35, 29, 12, 41]\n",
        "plt.pie(sales_data,labels=car_brand)\n",
        "plt.show()"
      ],
      "execution_count": null,
      "outputs": [
        {
          "output_type": "display_data",
          "data": {
            "image/png": "[encoded data removed]",
            "text/plain": [
              "<Figure size 432x288 with 1 Axes>"
            ]
          },
          "metadata": {
            "tags": []
          }
        }
      ]
    },
    {
      "cell_type": "markdown",
      "metadata": {
        "id": "1Vx65kAMryuB"
      },
      "source": [
        "---"
      ]
    }
  ]
}