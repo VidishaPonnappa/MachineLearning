{
  "nbformat": 4,
  "nbformat_minor": 0,
  "metadata": {
    "colab": {
      "provenance": [],
      "include_colab_link": true
    },
    "kernelspec": {
      "name": "python3",
      "display_name": "Python 3"
    }
  },
  "cells": [
    {
      "cell_type": "markdown",
      "metadata": {
        "id": "view-in-github",
        "colab_type": "text"
      },
      "source": [
        "<a href=\"https://colab.research.google.com/github/VidishaPonnappa/MachineLearning/blob/main/Project_5.ipynb\" target=\"_parent\"><img src=\"https://colab.research.google.com/assets/colab-badge.svg\" alt=\"Open In Colab\"/></a>"
      ]
    },
    {
      "cell_type": "markdown",
      "metadata": {
        "id": "bEyBzxYRhrLG"
      },
      "source": [
        "#### Goals :\n",
        "\n",
        " 1. Even or Odd\n",
        " 2. Area of triangle\n",
        " 3. Appending lists"
      ]
    },
    {
      "cell_type": "markdown",
      "metadata": {
        "id": "DPOFIO3EHncO"
      },
      "source": [
        "---"
      ]
    },
    {
      "cell_type": "markdown",
      "metadata": {
        "id": "q4fH06mIjuK3"
      },
      "source": [
        "#### 1. Even or Odd\n",
        "   "
      ]
    },
    {
      "cell_type": "code",
      "metadata": {
        "id": "4EAoTskqg041",
        "outputId": "12cf49bc-3cfa-46dd-970d-0e9d14736228",
        "colab": {
          "base_uri": "https://localhost:8080/",
          "height": 51
        }
      },
      "source": [
        "# Write your code here\n",
        "# Step 1: Accept a number from the user. Convert it into an integer and then store it in a variable 'num'\n",
        "a=input('Enter a number:')\n",
        "num=int(a)\n",
        "#num=int(input('Enter a number: '))\n",
        "# Step 2: Use if condition to check whether the number is even or odd using (%) operator\n",
        "if num%2==0:\n",
        "  print(num,'is even.')\n",
        "else:\n",
        "  print(num, 'is odd.')"
      ],
      "execution_count": null,
      "outputs": [
        {
          "output_type": "stream",
          "text": [
            "Enter a number:0\n",
            "0 is even.\n"
          ],
          "name": "stdout"
        }
      ]
    },
    {
      "cell_type": "markdown",
      "metadata": {
        "id": "xJlPs9X9oeRw"
      },
      "source": [
        "---"
      ]
    },
    {
      "cell_type": "markdown",
      "metadata": {
        "id": "qA-b1CdeofKc"
      },
      "source": [
        "#### 2. Area of Triangle\n"
      ]
    },
    {
      "cell_type": "code",
      "metadata": {
        "id": "AtvPTG3kpBoS",
        "outputId": "f97d6241-ad50-48a6-942f-19a7fa787aa2",
        "colab": {
          "base_uri": "https://localhost:8080/",
          "height": 68
        }
      },
      "source": [
        "# Write your code here\n",
        "# Step 1: Define a function 'tri_area()'\n",
        "def tri_area(base,height):\n",
        "\tarea=(base*height)/2\n",
        "\t# Step 2: Calculate area using the formula\n",
        "\tprint('The area of this triangle is ',area)\n",
        "\t# Step 3: Return the calculated area\n",
        "\n",
        "# Step 4: Call the 'tri_area()' function\n",
        "base=int(input('Enter the base of your trangle: '))\n",
        "height=int(input('Enter the height of your triangle: '))\n",
        "tri_area(base,height)"
      ],
      "execution_count": null,
      "outputs": [
        {
          "output_type": "stream",
          "text": [
            "Enter the base of your trangle: 10\n",
            "Enter the height of your triangle: 10\n",
            "The area of this triangle is  50.0\n"
          ],
          "name": "stdout"
        }
      ]
    },
    {
      "cell_type": "markdown",
      "metadata": {
        "id": "KOVBiUSMzut1"
      },
      "source": [
        "---"
      ]
    },
    {
      "cell_type": "markdown",
      "metadata": {
        "id": "b4aeCDi0pkJz"
      },
      "source": [
        "#### 3. Appending lists\n"
      ]
    },
    {
      "cell_type": "code",
      "metadata": {
        "id": "d5ufKLNYzsIl",
        "outputId": "a6c23244-100b-4dfe-8cc6-8c95673b4f60",
        "colab": {
          "base_uri": "https://localhost:8080/",
          "height": 34
        }
      },
      "source": [
        "# Write your solution here\n",
        "# Step 1: Define two lists `list1` and `list2`\n",
        "list1,list2=[1,2,4],[5,6,8]\n",
        "# Step 2: Use `append()` to append second list with the first list\n",
        "list1.append(list2)\n",
        "# Step 3: Print `list1` to get the new list\n",
        "print(list1)"
      ],
      "execution_count": null,
      "outputs": [
        {
          "output_type": "stream",
          "text": [
            "[1, 2, 4, [5, 6, 8]]\n"
          ],
          "name": "stdout"
        }
      ]
    },
    {
      "cell_type": "markdown",
      "metadata": {
        "id": "iNrAtdLcq4kq"
      },
      "source": [
        "---"
      ]
    }
  ]
}
